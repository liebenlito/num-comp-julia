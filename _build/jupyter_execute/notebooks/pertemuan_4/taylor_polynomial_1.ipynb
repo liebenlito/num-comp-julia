{
 "cells": [
  {
   "cell_type": "markdown",
   "id": "e63030a8-1dfd-4899-a8e3-47ca6980d96c",
   "metadata": {
    "user_expressions": []
   },
   "source": [
    "# Implementasi pseudo-code ke dalam Julia\n",
    "\n",
    "## Contoh 1\n",
    "Contoh ini diambil dari `Burden, Numerical Analysis 9th Edition`. Suatu Taylor polynomial ke-$N$ untuk $f(x)=\\ln(x)$ dengan $x_0=1$ adalah\n",
    "\n",
    "$$\n",
    "P_N(x) = \\sum_{i=1}^{N} \\frac{(-1)^i+1}{i} (x-1)^i,\n",
    "$$\n",
    "\n",
    "dan nilai dari $\\ln(1.5)$ dengan delapan digit desimal adalah $0.40546511$. Konstruksi suatu algoritma untuk melihat berapa iterasi yang dibutuhkan agar mememnuhi kriteria berikut\n",
    "\n",
    "$$\n",
    "\\lvert \\ln(1.5) - P_N(1.5) \\rvert < 10^{-5}.\n",
    "$$\n",
    "\n",
    "Dari kalkulus kita tahu bahwa jika $\\sum_{n=1}^{\\infty} a_n$ adalah [alternating series](https://en.wikipedia.org/wiki/Alternating_series) dengan limit $A$ yang memiliki besaran menurun, maka $A$ dan deret parsial ke-$N$ $A_N = \\sum_{m=1}^{N} a_N$ kurang dari besaran suku ke $(N+1)$nya sehingga\n",
    "\n",
    "$$\n",
    "\\lvert A - A_N \\rvert \\leq \\lvert a_{N+1} \\rvert\n",
    "$$"
   ]
  },
  {
   "cell_type": "markdown",
   "id": "a9301cec-38b4-4f2d-ba9b-7d9aa3e1b692",
   "metadata": {
    "user_expressions": []
   },
   "source": [
    "```{code-block} python\n",
    ":name: pseudo-code ln\n",
    ":caption: Pseudo-code Contoh 1.\n",
    "\n",
    "INPUT: nilai x, toleransi TOL, iterasi maksimum M.\n",
    "OUTPUT: polynomial derajat N atau pesan gagal.\n",
    "\n",
    "Step 1 Set N = 1;\n",
    "           y = x - 1;\n",
    "           SUM = 0;\n",
    "           POWER = y;\n",
    "           TERM = y;\n",
    "           SIGN = -1;\n",
    "           \n",
    "Step 2 While N ≤ M do Step 3-5.\n",
    "    Step 3 Set SIGN = -SIGN;\n",
    "               SUM = SUM + SIGN . TERM;\n",
    "               POWER = POWER . y;\n",
    "               TERM = POWER/(N+1).\n",
    "    Step 4 if |TERM| < TOL then\n",
    "           OUTPUT(N);\n",
    "           STOP.\n",
    "    Step 5 Set N = N + 1.\n",
    "\n",
    "Step 6 OUTPUT('Method Failed');\n",
    "       STOP.\n",
    "```"
   ]
  },
  {
   "cell_type": "markdown",
   "id": "d2861598-9776-4613-b719-2522e9873d16",
   "metadata": {
    "user_expressions": []
   },
   "source": [
    "```{code-block} python\n",
    ":name: pseudo-code_julia\n",
    ":caption: Julia-code Contoh 1.\n",
    "\n",
    "# Input\n",
    "x = 1.5\n",
    "TOL = 1e-5\n",
    "M = 1000\n",
    "\n",
    "# set\n",
    "N = 1\n",
    "y = x - 1\n",
    "SUM = 0\n",
    "POWER = y\n",
    "TERM = y\n",
    "SIGN = -1\n",
    "\n",
    "while N <= M\n",
    "    SIGN = -SIGN\n",
    "    SUM = SUM + SIGN * TERM\n",
    "    POWER = POWER * y\n",
    "    TERM = POWER / (N + 1)\n",
    "    \n",
    "    if abs(TERM) < TOL\n",
    "        println(N)\n",
    "        break\n",
    "    end\n",
    "    N = N + 1\n",
    "end\n",
    "```\n"
   ]
  },
  {
   "cell_type": "code",
   "execution_count": 1,
   "id": "d2a07248-f34a-480c-821f-51e85b1a2a3f",
   "metadata": {},
   "outputs": [
    {
     "name": "stdout",
     "output_type": "stream",
     "text": [
      "12\n",
      "0.40545869196992246\n"
     ]
    }
   ],
   "source": [
    "x = 1.5\n",
    "TOL = 1e-5\n",
    "M = 1000\n",
    "\n",
    "# set\n",
    "N = 1\n",
    "y = x - 1\n",
    "SUM = 0\n",
    "POWER = y\n",
    "TERM = y\n",
    "SIGN = -1\n",
    "\n",
    "while N <= M\n",
    "    SIGN = -SIGN\n",
    "    SUM = SUM + SIGN * TERM\n",
    "    POWER = POWER * y\n",
    "    TERM = POWER / (N + 1)\n",
    "    \n",
    "    if abs(TERM) < TOL\n",
    "        println(N)\n",
    "        println(SUM)\n",
    "        break\n",
    "    end\n",
    "    N = N + 1\n",
    "end"
   ]
  },
  {
   "cell_type": "code",
   "execution_count": 2,
   "id": "5a2beb6d-56e4-4ee6-b162-00df6bebe92f",
   "metadata": {},
   "outputs": [
    {
     "data": {
      "text/plain": [
       "0.40546511"
      ]
     },
     "execution_count": 2,
     "metadata": {},
     "output_type": "execute_result"
    }
   ],
   "source": [
    "0.40546511"
   ]
  }
 ],
 "metadata": {
  "kernelspec": {
   "display_name": "Julia 1.9.2",
   "language": "julia",
   "name": "julia-1.9"
  },
  "language_info": {
   "file_extension": ".jl",
   "mimetype": "application/julia",
   "name": "julia",
   "version": "1.9.2"
  }
 },
 "nbformat": 4,
 "nbformat_minor": 5
}