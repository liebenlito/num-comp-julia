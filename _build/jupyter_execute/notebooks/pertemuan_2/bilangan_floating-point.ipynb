{
 "cells": [
  {
   "cell_type": "markdown",
   "metadata": {
    "user_expressions": []
   },
   "source": [
    "# Sistem Bilangan Floating-Point\n",
    "\n",
    "Himpunan bilangan real $\\mathbb{R}$ tak berhingga, karena ia tidak terbatas dan kontinu. Secara komputasi, istilah tak behingga tidak mungkin ditemui. Salah satu sifat yang harus dimiliki oleh suatu algoritma secara adalah keberhinggaan (finiteness). Oleh karena itu, kita perlu mengetahui suatu himpunan berhingga yang dapat dijalankan oleh komputer (sebagai alat komputasi) yang dapat merepresentasikan bilangan real tersebut. \n",
    "\n",
    ":::{admonition} **Definisi: Bilangan Floating-Point**\n",
    ":name: definisi_1\n",
    ":class: note\n",
    "\n",
    "Himpunan __bilangan floating-point__ $\\mathbb{F}$ terdiri dari nilai nol dan semua bilangan yang dibentuk dari\n",
    "\n",
    "$$\n",
    "\\pm (1+f) \\times 2^n,\n",
    "$$ (eqn:1-1)\n",
    "\n",
    "dimana $n$ adalah bilangan bulat yang disebut dengan __eksponen__, dan $1+f$ adalah __matissa__ atau __significand__, dengan\n",
    "\n",
    "$$\n",
    "\\label{eqn1_2}\n",
    "f = \\sum_{i=1}^{d} b_i 2^{-i}, \\hspace{1em} b_i \\in \\{0, 1\\},\n",
    "$$\n",
    "\n",
    "dan bilangan bulat $d$ disebut dengan __presisi__.\n",
    ":::\n",
    "\n",
    "Persamaan [](#eqn1_2) merepresentasikan __significand__ dengan bilangan di interval $[1, 2)$ dalam bentuk basis-2. Secara ekuivalen,\n",
    "\n",
    "$$\n",
    "f = 2^{-d} \\sum_{i=1}^{d} b_i 2^{d-i} = 2^{-d}z,\n",
    "$$ (eqn:1-3)\n",
    "\n",
    "untuk suatu bilangan bulat $z$ di himpunan $\\{ 0, 1, \\cdots, 2^d - 1\\}$. Konsekunsinya, mulai dari $2^n$ dan berakhir sebelum $2^{n+1}$, maka terdapat tepat $2^d$ __evenly spaced numbers__ yang dimiliki oleh $\\mathbb{F}$. "
   ]
  },
  {
   "cell_type": "markdown",
   "metadata": {
    "tags": [],
    "user_expressions": []
   },
   "source": [
    ":::{admonition} **Contoh 1**\n",
    ":name: contoh-1\n",
    ":class: tip\n",
    "\n",
    "Misalkan $d=2$ dan $n=0$ di {eq}`eqn:1-1`, kita cacah\n",
    "\n",
    "$$\n",
    "1 + \\frac{0}{4}, 1 + \\frac{1}{4}, 1 + \\frac{2}{4}, 1 + \\frac{3}{4}.\n",
    "$$\n",
    "\n",
    "Angka-angka ini adalah anggota dari $\\mathbb{F}$ yang hanya terdapat di interval $[1, 2)$ dan mereka dipisahkan oleh $\\frac{1}{4}$.\n",
    ":::\n",
    "\n",
    "Dari sini kita dapatkan fakta bahwa anggota terkecil dari $\\mathbb{F}$ yang lebih besar dari $1$ yaitu $1 + 2^{-d}$ dan dapat kita sebut sebagai __machine epsilon__."
   ]
  },
  {
   "cell_type": "markdown",
   "metadata": {
    "user_expressions": []
   },
   "source": [
    ":::{admonition} **Definisi: Machine epsilon**\n",
    ":name: definisi_2\n",
    ":class: note\n",
    "\n",
    "Untuk suatu himpunan floating-point dengan presisi digit binary $d$, __machine epsilon__ (atau _machine precision_) adalah $\\epsilon_{\\text{mach}} = 2^{-d}$.\n",
    ":::\n",
    "\n",
    "Kita definisikan fungsi pembulatan $\\text{fl}(x)$ yang memetakan bilangan real $x$ ke anggota terdekat $\\mathbb{F}$. Jarak antar bilangan floating-point di $[2^n, 2^{n+1})$ adalah $2^n \\epsilon_{\\text{mach}} = 2^{n-d}$. Dengan demikian, untuk setiap bilangan real $x \\in [2^n, 2^{n+1})$, jarak anggota di $\\mathbb{F}$ tidak akan lebih dari $2^{n-d-1}$. Sehingga, kita dapat simpulkan bahwa $\\lvert \\text{fl}(x) - x \\rvert \\leq \\frac{1}{2} (2^{n-d})$. Ini berarti\n",
    "\n",
    "$$\n",
    "\\label{fl_bounded}\n",
    "\\frac{\\lvert \\text{fl}(x) - x \\rvert}{|x|} \\leq \\frac{2^{n-d-1}}{2^n} \\leq \\frac{1}{2} \\epsilon_{\\text{mach}}.\n",
    "$$\n",
    "\n",
    "Persamaan [](#fl_bounded) juga berlaku untuk $x$ yang bernilai negatif. Pernyataan berikut ini ekivalen dengan [](#fl_bounded).\n",
    "\n",
    "$$\n",
    "\\label{ekui_fl_bounded}\n",
    "\\text{fl}(x) = x(1+\\epsilon), \\hspace{1em} \\text{untuk } |\\epsilon| \\leq \\frac{1}{2} \\epsilon_{\\text{mach}}.\n",
    "$$\n",
    "\n",
    "Berdasarkan [](#ekui_fl_bounded), kita dapat mengatakan bahwa nilai $\\epsilon$ bergantung pada $x$,  \n"
   ]
  },
  {
   "cell_type": "markdown",
   "metadata": {
    "tags": [],
    "user_expressions": []
   },
   "source": [
    "## Presisi dan Akurasi\n",
    "\n",
    "Untuk lebih mempermudah kita gunakan bilangan desimal (basis 10):\n",
    "\n",
    "$$\n",
    "\\pm \\left( b_0 + \\sum_{i=1}^{d} b_i 10^{-i}\\right) \\times 10^n = \\pm(b_0. b_1b_2 \\cdots b_d) \\times 10^n,\n",
    "$$ (eqn:1-7)\n",
    "\n",
    "dimana setiap $b_i \\in \\{ 0, 1,  \\cdots, 9 \\}$ dan $b_0 \\neq 0$. Ini secara sederhana disebut dengan **notasi saintifik** dengan $d+1$ **significant digit**. Contohnya, konstanta Planck adalah $6.626068 \\times 10^{-34}\\text{ m}^2. \\text{kg}/\\text{sec}$ dan memiliki tujuh significant digit. Jika kita ganti digit terakhir dari konstanta tersebut dari $8$ ke $9$, maka perubahan relatifnya adalah\n",
    "\n",
    "$$\n",
    "\\frac{0.000001 \\times 10^{-34}}{6.626068 \\times 10^{-34}} \\approx 1.51 \\times 10^{-7}.\n",
    "$$\n",
    "\n",
    "Dengan demikian kita dapat katakan bahwa konstanta tersebut memiliki presisi 7 digit desimal. Setiap hasil yang direpresentasikan menggunakan $d$ binary digit, tapi tidak semua digit tersebut dengan akurat merepresentasikan suatu nilai. Misalkan $x$ adalah bilangan yg ingin direpresentasikan, $\\hat{x}$ adalah aproksimasinya. **Akurasi absolut** dari $\\hat{x}$ adalah\n",
    "\n",
    "$$\n",
    "|x-\\hat{x}|,\n",
    "$$\n",
    "\n",
    "dan **akurasi relatif** adalah\n",
    "\n",
    "$$\n",
    "\\frac{|x-\\hat{x}|}{|x|}.\n",
    "$$\n",
    "\n",
    "Kita bisa mengekspresikan akurasi relatif untuk menentukan **banyaknya digit yang akurat**, dihitung dalam basis 10\n",
    "\n",
    "$$\n",
    "-\\log_{10} \\frac{|x-\\hat{x}|}{x}.\n",
    "$$"
   ]
  },
  {
   "cell_type": "code",
   "execution_count": 1,
   "metadata": {},
   "outputs": [
    {
     "name": "stdout",
     "output_type": "stream",
     "text": [
      "p = 22 / 7 = 3.142857142857143\n"
     ]
    },
    {
     "data": {
      "text/plain": [
       "3.142857142857143"
      ]
     },
     "execution_count": 1,
     "metadata": {},
     "output_type": "execute_result"
    }
   ],
   "source": [
    "@show p = 22/7"
   ]
  },
  {
   "cell_type": "code",
   "execution_count": 2,
   "metadata": {},
   "outputs": [
    {
     "name": "stdout",
     "output_type": "stream",
     "text": [
      "float(pi) = 3.141592653589793\n"
     ]
    },
    {
     "data": {
      "text/plain": [
       "3.141592653589793"
      ]
     },
     "execution_count": 2,
     "metadata": {},
     "output_type": "execute_result"
    }
   ],
   "source": [
    "@show float(pi)"
   ]
  },
  {
   "cell_type": "code",
   "execution_count": 3,
   "metadata": {},
   "outputs": [
    {
     "name": "stdout",
     "output_type": "stream",
     "text": [
      "akurasi absolut = 0.0012644892673496777\n",
      "akurasi relatif = 0.0004024994347707008\n"
     ]
    }
   ],
   "source": [
    "accuracy = abs(p - pi)\n",
    "println(\"akurasi absolut = $accuracy\")\n",
    "println(\"akurasi relatif = $(accuracy/pi)\")"
   ]
  },
  {
   "cell_type": "code",
   "execution_count": 4,
   "metadata": {},
   "outputs": [
    {
     "name": "stdout",
     "output_type": "stream",
     "text": [
      "Banyaknya digit yang akurat = 3.0\n"
     ]
    }
   ],
   "source": [
    "digit = floor(-log10(accuracy/pi))\n",
    "println(\"Banyaknya digit yang akurat = $digit\")"
   ]
  },
  {
   "cell_type": "markdown",
   "metadata": {
    "user_expressions": []
   },
   "source": [
    "## Double precision\n",
    "\n",
    "Hampir semua komputasi numerik menggunakan standar **IEEE 754**. **Single precision** dengan $d=23$ dan **double precision** dengan $d=52$. Di double precision,\n",
    "\n",
    "$$\n",
    "\\epsilon_{\\text{mach}} = 2^{-52} \\approx 2.2 \\times 10^{-16}.\n",
    "$$\n",
    "\n",
    "Kita dapat mengatakan bahwa bilangan floating-point double precision memiliki 16 digit desimal."
   ]
  },
  {
   "cell_type": "code",
   "execution_count": 5,
   "metadata": {},
   "outputs": [
    {
     "name": "stdout",
     "output_type": "stream",
     "text": [
      "typeof(1) = Int64\n",
      "typeof(1.0) = Float64\n"
     ]
    }
   ],
   "source": [
    "@show typeof(1);\n",
    "@show typeof(1.0);"
   ]
  },
  {
   "cell_type": "code",
   "execution_count": 6,
   "metadata": {},
   "outputs": [
    {
     "data": {
      "text/plain": [
       "\"0011111111110000000000000000000000000000000000000000000000000000\""
      ]
     },
     "execution_count": 6,
     "metadata": {},
     "output_type": "execute_result"
    }
   ],
   "source": [
    "bitstring(1.0)"
   ]
  },
  {
   "cell_type": "code",
   "execution_count": 7,
   "metadata": {
    "tags": []
   },
   "outputs": [
    {
     "data": {
      "text/plain": [
       "2-element Vector{String}:\n",
       " \"0011111111110000000000000000000000000000000000000000000000000000\"\n",
       " \"1011111111110000000000000000000000000000000000000000000000000000\""
      ]
     },
     "execution_count": 7,
     "metadata": {},
     "output_type": "execute_result"
    }
   ],
   "source": [
    "[bitstring(1.0), bitstring(-1.0)]"
   ]
  },
  {
   "cell_type": "code",
   "execution_count": 8,
   "metadata": {},
   "outputs": [
    {
     "name": "stdout",
     "output_type": "stream",
     "text": [
      "(sign(x), exponent(x), significand(x)) = (1.0, 0, 1.0)\n"
     ]
    }
   ],
   "source": [
    "x = 1.0\n",
    "@show sign(x), exponent(x), significand(x);"
   ]
  },
  {
   "cell_type": "code",
   "execution_count": 9,
   "metadata": {},
   "outputs": [
    {
     "name": "stdout",
     "output_type": "stream",
     "text": [
      "(sign(x), exponent(x), significand(x)) = (1.0, -2, 1.0)\n"
     ]
    },
    {
     "data": {
      "text/plain": [
       "(1.0, -2, 1.0)"
      ]
     },
     "execution_count": 9,
     "metadata": {},
     "output_type": "execute_result"
    }
   ],
   "source": [
    "x = 0.25\n",
    "@show sign(x), exponent(x), significand(x)"
   ]
  },
  {
   "cell_type": "code",
   "execution_count": 10,
   "metadata": {},
   "outputs": [
    {
     "name": "stdout",
     "output_type": "stream",
     "text": [
      "(sign(x), exponent(x), significand(x)) = (-1.0, -2, -1.0)\n"
     ]
    },
    {
     "data": {
      "text/plain": [
       "(-1.0, -2, -1.0)"
      ]
     },
     "execution_count": 10,
     "metadata": {},
     "output_type": "execute_result"
    }
   ],
   "source": [
    "x = -0.25\n",
    "@show sign(x), exponent(x), significand(x)"
   ]
  },
  {
   "cell_type": "code",
   "execution_count": 11,
   "metadata": {},
   "outputs": [
    {
     "data": {
      "text/plain": [
       "2.220446049250313e-16"
      ]
     },
     "execution_count": 11,
     "metadata": {},
     "output_type": "execute_result"
    }
   ],
   "source": [
    "eps()"
   ]
  },
  {
   "cell_type": "code",
   "execution_count": 12,
   "metadata": {},
   "outputs": [
    {
     "data": {
      "text/plain": [
       "-52.0"
      ]
     },
     "execution_count": 12,
     "metadata": {},
     "output_type": "execute_result"
    }
   ],
   "source": [
    "log2(eps())"
   ]
  },
  {
   "cell_type": "code",
   "execution_count": 13,
   "metadata": {},
   "outputs": [
    {
     "data": {
      "text/plain": [
       "2.220446049250313e-16"
      ]
     },
     "execution_count": 13,
     "metadata": {},
     "output_type": "execute_result"
    }
   ],
   "source": [
    "eps(1.618)"
   ]
  },
  {
   "cell_type": "code",
   "execution_count": 14,
   "metadata": {},
   "outputs": [
    {
     "data": {
      "text/plain": [
       "2.842170943040401e-14"
      ]
     },
     "execution_count": 14,
     "metadata": {},
     "output_type": "execute_result"
    }
   ],
   "source": [
    "eps(161.8)"
   ]
  },
  {
   "cell_type": "code",
   "execution_count": 15,
   "metadata": {},
   "outputs": [
    {
     "data": {
      "text/plain": [
       "161.80000000000004"
      ]
     },
     "execution_count": 15,
     "metadata": {},
     "output_type": "execute_result"
    }
   ],
   "source": [
    "nextfloat(161.8)"
   ]
  },
  {
   "cell_type": "code",
   "execution_count": 16,
   "metadata": {},
   "outputs": [
    {
     "name": "stdout",
     "output_type": "stream",
     "text": [
      "(floatmin(), floatmax()) = (2.2250738585072014e-308, 1.7976931348623157e308)\n"
     ]
    }
   ],
   "source": [
    "@show floatmin(), floatmax();"
   ]
  },
  {
   "cell_type": "code",
   "execution_count": 17,
   "metadata": {},
   "outputs": [
    {
     "data": {
      "text/plain": [
       "0.14285714285714285"
      ]
     },
     "execution_count": 17,
     "metadata": {},
     "output_type": "execute_result"
    }
   ],
   "source": [
    "1/7"
   ]
  },
  {
   "cell_type": "code",
   "execution_count": 18,
   "metadata": {},
   "outputs": [
    {
     "data": {
      "text/plain": [
       "38.3"
      ]
     },
     "execution_count": 18,
     "metadata": {},
     "output_type": "execute_result"
    }
   ],
   "source": [
    "37.3 + 1"
   ]
  },
  {
   "cell_type": "code",
   "execution_count": 19,
   "metadata": {},
   "outputs": [
    {
     "data": {
      "text/plain": [
       "0.0625"
      ]
     },
     "execution_count": 19,
     "metadata": {},
     "output_type": "execute_result"
    }
   ],
   "source": [
    "2^(-4)"
   ]
  },
  {
   "cell_type": "code",
   "execution_count": 20,
   "metadata": {},
   "outputs": [
    {
     "name": "stdout",
     "output_type": "stream",
     "text": [
      "(5.0, Int(5.0)) = (5.0, 5)\n"
     ]
    }
   ],
   "source": [
    "@show 5.0, Int(5.0);"
   ]
  },
  {
   "cell_type": "markdown",
   "metadata": {
    "user_expressions": []
   },
   "source": [
    "penjelasan mengenai floating-point di Julia dapat dilihat di [Manual Julia: Floating point numbers](https://docs.julialang.org/en/v1/manual/integers-and-floating-point-numbers/)."
   ]
  },
  {
   "cell_type": "code",
   "execution_count": null,
   "metadata": {},
   "outputs": [],
   "source": []
  }
 ],
 "metadata": {
  "kernelspec": {
   "display_name": "Julia 1.9.2",
   "language": "julia",
   "name": "julia-1.9"
  },
  "language_info": {
   "file_extension": ".jl",
   "mimetype": "application/julia",
   "name": "julia",
   "version": "1.9.2"
  }
 },
 "nbformat": 4,
 "nbformat_minor": 4
}