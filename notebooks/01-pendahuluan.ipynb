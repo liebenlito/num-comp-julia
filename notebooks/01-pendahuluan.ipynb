{
 "cells": [
  {
   "cell_type": "markdown",
   "metadata": {},
   "source": [
    "# Pendahuluan\n",
    "\n",
    "Langkah pertama kita adalah mendikritisasi bilangan real—secara spesifik, untuk mengganti bilangan real tersebut dengan himpunan bilangan yang terbatas (finite). Operasi aritmatika yang dimilikinya mempunyai pertubasi dari nilai yang sebenarnya (secara matematis). Kita dapat dengan mudah menjaga agar roundoff error nya kecil, sehingga kalkulasi yang dilakukan secara akumulatif tidak berpengaruh dengan nilai yang kita harapkan. Namun, beberapa masalah dapat bersifat sensitif dari pertubasi ini. Maka dari itu, kita perlu mengetahui tentang _condition number_. Masalah-masalah yang memiliki condition number yang besar sulit untuk diselesaikan secara akurat menggunakan presisi yang finite (finite precision). Selanjutnya,  "
   ]
  },
  {
   "cell_type": "code",
   "execution_count": null,
   "metadata": {},
   "outputs": [],
   "source": []
  }
 ],
 "metadata": {
  "kernelspec": {
   "display_name": "Julia 1.7.0",
   "language": "julia",
   "name": "julia-1.7"
  },
  "language_info": {
   "name": "julia"
  },
  "orig_nbformat": 4
 },
 "nbformat": 4,
 "nbformat_minor": 2
}
