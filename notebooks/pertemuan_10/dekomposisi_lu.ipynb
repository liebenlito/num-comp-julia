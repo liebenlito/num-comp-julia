{
 "cells": [
  {
   "cell_type": "markdown",
   "id": "5d00ad15-000f-4de5-b833-ce960eb82cc6",
   "metadata": {
    "user_expressions": []
   },
   "source": [
    "# Dekomposisi LU\n",
    "\n",
    "Pada prinsipnya Eliminasi Gauss adalah teknik yang secara umum digunakan untuk menyelesaikan Sistem Persamaan Linear (SPL). Namun, waktu komputasi yang dibutuhkan oleh Eliminasi Gauss cenderung lama seiring bertambahnya ukuran matriks atau dapat dinotasikan $O(n^3 /3)$. Hal ini banyak dipengaruhi oleh operasi aritmatika dari proses eliminasi yang terjadi di dalam Eliminasi Gauss. Dengan demikian, kita memerlukan suatu cara agar dapat meminimalkan waktu komputasi, salah satunya dengan melakukan __dekomposisi matriks__.\n",
    "\n",
    "Diberikan suatu SPL yang dapat dibentuk dalam bentuk matriks-vektor sebagai berikut\n",
    "\n",
    "$$\n",
    "A\\vec{x} = \\vec{b}\n",
    "$$\n",
    "\n",
    "dimana $A \\in \\mathbb{R}^{n \\times n}$ dan $\\vec{x}, \\vec{b} \\in \\mathbb{R}^n$. Kemudian untuk menyelesaikan SPL tersebut, kita gunakan eliminasi Gauss tanpa pivoting dan kita asumsikan juga bahwa elemen pivot di $A$ tak nol seiring berjalannya proses eliminasi pada setiap iterasinya, atau dapat ditulis $a_{ii}^{(k)}$, untuk $k = 1,2, ..., n$ dan $i = 1,2,...,n$. Proses eliminasi pada iterasi pertama dilakukan dengan cara\n",
    "\n",
    "$$\n",
    "(E_j - m_{j1}E_1) \\rightarrow (E_j), \\hspace{1.5em} m_{j1} = \\frac{a_{j1}^{(1)}}{a_{11}^{(1)}}\n",
    "$$\n",
    "\n",
    "atau operasi ini dapat direpresentasikan sebagai __matriks transformasi Gaussian pertama__\n",
    "\n",
    "$$\n",
    "M^{(1)} = \n",
    "\\begin{bmatrix}\n",
    "1       & 0 & \\cdots & 0 \\\\\n",
    "-m_{21} & 1 &        & 0 \\\\\n",
    "\\vdots  &   & \\ddots & \\vdots \\\\\n",
    "-m_{n1} & 0 & \\cdots & 1 \\\\\n",
    "\\end{bmatrix}\n",
    "$$\n",
    "\n",
    "Sehingga, hasil perkalian matriks antara $M^{(1)}$ dan $A^{(1)}$ adalah\n",
    "\n",
    "$$\n",
    "A^{(2)}\\vec{x} = M^{(1)}A\\vec{x} = M^{(1)} \\vec{b} = \\vec{b}^{(2)}.\n",
    "$$\n",
    "\n",
    "Secara umum, ketika kita melakukan perkalian matriks A dengan matriks transformasi Gaussian pada iterasi ke $k$ akan menghasilkan\n",
    "\n",
    "$$\n",
    "A^{(k+1)} \\vec{x} = M^{(k)} A^{(k)} \\vec{x} = M^{(k)} \\cdots M^{(1)} A \\vec{x} = M^{(k)}\\vec{b}^{(k)} = \\vec{b}^{(k+1)} = M^{(k)} \\cdots M^{(1)} \\vec{b}.\n",
    "$$\n",
    "\n",
    "Proses ini akan berhenti pada $A^{(n)} \\vec{x} = \\vec{b}^{(n)}$, dimana $A^{(n)}$ menjadi matriks segitiga atas\n",
    "\n",
    "$$\n",
    "A^{(n)} = \n",
    "\\begin{bmatrix}\n",
    "a_{11}^{(1)} & a_{12}^{(1)} & \\cdots & a_{1n}^{(1)} \\\\\n",
    "0            & a_{22}^{(2)} &        & a_{2n}^{(2)} \\\\\n",
    "\\vdots       &   & \\ddots & \\vdots \\\\\n",
    "0            & 0 & \\cdots & a_{nn}^{(n)} \\\\\n",
    "\\end{bmatrix}\n",
    "$$\n",
    "\n",
    "diberikan oleh \n",
    "\n",
    "$$\n",
    "A^{(n)} = M^{(n-1)} M^{(n-1)} \\cdots M^{(1)} A.\n",
    "$$"
   ]
  },
  {
   "cell_type": "markdown",
   "id": "f832fb7e-15f3-4d4f-8f9d-706b19919d72",
   "metadata": {
    "user_expressions": []
   },
   "source": [
    "Kemudian kita panggil kembali \n",
    "\n",
    "$$\n",
    "A^{(k+1)} \\vec{x} = M^{(k)} A^{(k)} \\vec{x} = M^{(k)} \\cdots M^{(1)} A \\vec{x} = M^{(k)}\\vec{b}^{(k)} = \\vec{b}^{(k+1)}\n",
    "$$\n",
    "\n",
    "dimana $M^{(k)}$ dihasilkan dari operasi baris\n",
    "\n",
    "$$\n",
    "(E_j - m_{jk}E_k) \\rightarrow (E_j), \\hspace{1.5em} j=k+1, \\cdots, n.\n",
    "$$\n",
    "\n",
    "Jika kita ingin mengembalikan nilai dari matriks $A^{(k+1)} ke A^{(k)}$, maka kita perlu operasi balikan \n",
    "\n",
    "$$\n",
    "(E_j + m_{jk}E_k) \\rightarrow (E_j), \\hspace{1.5em} j=k+1, \\cdots, n,\n",
    "$$\n",
    "\n",
    "berarti ini sama saja mencari invers dari matriks $M$, $[M^{(k)}]^{-1}$. Dengan demikian, jika kita teruskan operasi invers ini sampai dengan iterasi pertama, maka akan menghasilkan matriks $A$, dan operasi invers dari matriks $M$ dapat kita tuliskan ekivalen dengan matriks segitiga bawah $L$ atau dapat ditulis\n",
    "\n",
    "$$\n",
    "L = L^{(1)} L^{(2)} \\cdots L^{(n-1)} = \n",
    "\\begin{bmatrix}\n",
    "1       & 0 & \\cdots & 0 \\\\\n",
    "m_{21} & 1 &        & 0 \\\\\n",
    "\\vdots  &   & \\ddots & \\vdots \\\\\n",
    "m_{n1} & \\cdots & m_{n,n-1} & 1 \\\\\n",
    "\\end{bmatrix}\n",
    "$$\n",
    "\n",
    "Jadi, $A$ dapat kita dekomposisi menjadi hasil kali dari matriks segitiga bawah $L$ dan matriks segitiga atas $U$, atau dapat ditulis\n",
    "\n",
    "$$\n",
    "\\begin{array}{lll}\n",
    "LU &=& L^{(1)}L^{(2)} \\cdots L^{(n-3)} L^{(n-2)} L^{(n-1)} . M^{(n-1)} M^{(n-2)} M^{(n-3)} \\cdots M^{(2)} M^{(1)} A \\\\\n",
    "&=& [M^{(1)}]^{-1} [M^{(2)}]^{-1} \\cdots [M^{(n-2)}]^{-1} [M^{(n-1)}]^{-1} . M^{(n-1)} M^{(n-2)} M^{(n-3)} \\cdots M^{(2)} M^{(1)} A \\\\\n",
    "&=& A.\n",
    "\\end{array}\n",
    "$$"
   ]
  },
  {
   "cell_type": "markdown",
   "id": "372106a3-da18-4db4-be10-cc76f52ce6b3",
   "metadata": {
    "user_expressions": []
   },
   "source": [
    "```{admonition} Teorema\n",
    "Jika Eliminasi Gauss tanpa penukaran baris dapat digunakan untuk menyelesaikan $A\\vec{x} = \\vec{b}$, maka matriks $A$ dapat didekomposisi ke dalam perkalian matriks antara matriks segitiga bawah $L$ dan matriks segitiga atas $U$, $A = LU$\n",
    "\n",
    "$$\n",
    "U = \n",
    "\\begin{bmatrix}\n",
    "a_{11}^{(1)} & a_{12}^{(1)} & \\cdots & a_{1n}^{(1)} \\\\\n",
    "0            & a_{22}^{(2)} &        & a_{2n}^{(2)} \\\\\n",
    "\\vdots       &   & \\ddots & \\vdots \\\\\n",
    "0            & 0 & \\cdots & a_{nn}^{(n)} \\\\\n",
    "\\end{bmatrix}\n",
    ", L = \n",
    "\\begin{bmatrix}\n",
    "1       & 0 & \\cdots & 0 \\\\\n",
    "m_{21} & 1 &        & 0 \\\\\n",
    "\\vdots  &   & \\ddots & \\vdots \\\\\n",
    "m_{n1} & \\cdots & m_{n,n-1} & 1 \\\\\n",
    "\\end{bmatrix}\n",
    ",\n",
    "$$\n",
    "\n",
    "dimana $m_{ji} = \\frac{a_{ji}^{(i)}}{a_{ii}^{(i)}}$, untuk $i,j = 1,2,\\cdots, n$.\n",
    "```"
   ]
  },
  {
   "cell_type": "markdown",
   "id": "477d2535-c24d-42ea-8a9f-f2772f9076fd",
   "metadata": {
    "user_expressions": []
   },
   "source": [
    "## Dekomposisi LU untuk menyelesaikan SPL\n",
    "\n",
    "Algoritma:\n",
    "\n",
    "1. Lakukan dekomposisi matriks $A$ menjadi $LU$: eliminasi maju untuk menghasilkan matriks $U$ dan dalam proses ini juga kita akan mendapatkan matriks $L$.\n",
    "2. SPL $A\\textbf{x} = \\textbf{b}$ menjadi $L(U \\textbf{x}) = \\textbf{b}$ dan kita misalkan $U \\textbf{x} = y$ sehingga $L \\textbf{y} = \\textbf{b}$. Selesaikan $L \\textbf{y} = \\textbf{b}$ menggunakan subtitusi maju dan akan menghasilkan $\\textbf{y}$.\n",
    "3. Selesaikan $U \\textbf{x} = y$ menggunakan subtitusi mundur dan aka mendapatkan solusi SPL $\\textbf{x}$."
   ]
  },
  {
   "cell_type": "code",
   "execution_count": 92,
   "id": "7dcef227-71a8-4919-9f73-d246d7104dea",
   "metadata": {},
   "outputs": [
    {
     "data": {
      "text/plain": [
       "dekomposisi_lu (generic function with 1 method)"
      ]
     },
     "execution_count": 92,
     "metadata": {},
     "output_type": "execute_result"
    }
   ],
   "source": [
    "function dekomposisi_lu(A)\n",
    "    n = size(A, 1)\n",
    "    L = zeros(n, n)\n",
    "    U = zeros(n, n)\n",
    "    \n",
    "    for i = 1:n\n",
    "        L[i, i] = 1\n",
    "        for j = i:n\n",
    "            sum = 0.0\n",
    "            for k = 1:i-1\n",
    "                sum += L[i, k] * U[k, j]\n",
    "            end\n",
    "            U[i, j] = A[i, j] - sum\n",
    "        end\n",
    "\n",
    "        for j = i+1:n\n",
    "            sum = 0.0\n",
    "            for k = 1:i-1\n",
    "                sum += L[j, k] * U[k, i]\n",
    "            end\n",
    "            L[j, i] = (A[j, i] - sum) / U[i, i]\n",
    "        end\n",
    "    end\n",
    "    return L, U\n",
    "end"
   ]
  },
  {
   "cell_type": "code",
   "execution_count": 93,
   "id": "a89e51e0-8ac9-4250-92f0-d308d7395ffc",
   "metadata": {},
   "outputs": [
    {
     "data": {
      "text/plain": [
       "subtitusi_maju (generic function with 1 method)"
      ]
     },
     "execution_count": 93,
     "metadata": {},
     "output_type": "execute_result"
    }
   ],
   "source": [
    "function subtitusi_maju(L, b)\n",
    "    y = zeros(length(b))\n",
    "    for i = 1:length(b)\n",
    "        sum = 0.0\n",
    "        for j = 1:i-1\n",
    "            sum += L[i, j] * y[j]\n",
    "        end\n",
    "        y[i] = (b[i] - sum) / L[i, i]\n",
    "    end\n",
    "    return y\n",
    "end"
   ]
  },
  {
   "cell_type": "code",
   "execution_count": 94,
   "id": "9071f850-dfa3-4f99-8e05-4d9ab6301c27",
   "metadata": {},
   "outputs": [
    {
     "data": {
      "text/plain": [
       "subtitusi_mundur (generic function with 1 method)"
      ]
     },
     "execution_count": 94,
     "metadata": {},
     "output_type": "execute_result"
    }
   ],
   "source": [
    "function subtitusi_mundur(U, y)\n",
    "    n = length(y)\n",
    "    x = zeros(n)\n",
    "    for i = n:-1:1\n",
    "        sum = 0.0\n",
    "        for j = i+1:n\n",
    "            sum += U[i, j] * x[j]\n",
    "        end\n",
    "        x[i] = (y[i] - sum) / U[i, i]\n",
    "    end\n",
    "    return x\n",
    "end"
   ]
  },
  {
   "cell_type": "markdown",
   "id": "8d7fbdea-6062-4fc3-8f33-41916f3e3404",
   "metadata": {
    "user_expressions": []
   },
   "source": [
    "## Contoh 1\n",
    "\n",
    "Diberikan \n",
    "\n",
    "$$ \n",
    "A = \\begin{bmatrix}\n",
    "1 & 1 & 0 & 3 \\\\\n",
    "2 & 1 & -1 & 1 \\\\\n",
    "3 & -1 & -1 & 2 \\\\\n",
    "-1 & 2 & 3 & -1\n",
    "\\end{bmatrix}\n",
    "\n",
    "\\hspace{1em}\n",
    "\n",
    "\\textbf{b} = \\begin{bmatrix}\n",
    "8 \\\\\n",
    "7 \\\\\n",
    "14 \\\\\n",
    "-7\n",
    "\\end{bmatrix}\n",
    "$$"
   ]
  },
  {
   "cell_type": "code",
   "execution_count": 95,
   "id": "280563d5-dfbd-4505-95f0-9607c1878f7a",
   "metadata": {},
   "outputs": [],
   "source": [
    "A = [1 1 0 3; 2 1 -1 1; 3 -1 -1 2; -1 2 3 -1]\n",
    "b = [8; 7; 14; -7];"
   ]
  },
  {
   "cell_type": "code",
   "execution_count": 96,
   "id": "0a8afd02-d53c-4e14-a9eb-d1ab55ce6977",
   "metadata": {},
   "outputs": [
    {
     "data": {
      "text/plain": [
       "4×4 Matrix{Float64}:\n",
       "  1.0   0.0  0.0  0.0\n",
       "  2.0   1.0  0.0  0.0\n",
       "  3.0   4.0  1.0  0.0\n",
       " -1.0  -3.0  0.0  1.0"
      ]
     },
     "metadata": {},
     "output_type": "display_data"
    }
   ],
   "source": [
    "# Dekomposisi A menjadi LU\n",
    "L, U = dekomposisi_lu(A)\n",
    "display(L)"
   ]
  },
  {
   "cell_type": "code",
   "execution_count": 97,
   "id": "032cec8c-ca55-443c-b773-dce303579dc7",
   "metadata": {},
   "outputs": [
    {
     "data": {
      "text/plain": [
       "4×4 Matrix{Float64}:\n",
       " 1.0   1.0   0.0    3.0\n",
       " 0.0  -1.0  -1.0   -5.0\n",
       " 0.0   0.0   3.0   13.0\n",
       " 0.0   0.0   0.0  -13.0"
      ]
     },
     "metadata": {},
     "output_type": "display_data"
    }
   ],
   "source": [
    "display(U)"
   ]
  },
  {
   "cell_type": "code",
   "execution_count": 98,
   "id": "bc5b7f27-d63f-4e6c-992e-01bcff0213fa",
   "metadata": {},
   "outputs": [
    {
     "data": {
      "text/plain": [
       "4-element Vector{Float64}:\n",
       "   8.0\n",
       "  -9.0\n",
       "  26.0\n",
       " -26.0"
      ]
     },
     "metadata": {},
     "output_type": "display_data"
    }
   ],
   "source": [
    "# subtitusi maju untuk Ly = b\n",
    "y = subtitusi_maju(L,b)\n",
    "display(y)"
   ]
  },
  {
   "cell_type": "code",
   "execution_count": 99,
   "id": "05f40b89-06b3-429a-9f0e-c79fbf2c5541",
   "metadata": {},
   "outputs": [
    {
     "data": {
      "text/plain": [
       "4-element Vector{Float64}:\n",
       "  3.0\n",
       " -1.0\n",
       "  0.0\n",
       "  2.0"
      ]
     },
     "metadata": {},
     "output_type": "display_data"
    }
   ],
   "source": [
    "# subtitusi mundur untuk Ux = y\n",
    "x = subtitusi_mundur(U, y)\n",
    "display(x)"
   ]
  },
  {
   "cell_type": "markdown",
   "id": "6a0c1804-8440-4cb5-b51a-280ed516808b",
   "metadata": {
    "user_expressions": []
   },
   "source": [
    "## Matriks Permutasi\n",
    "\n",
    "Matriks permutasi adalah matriks $n \\times n$ yang berasal dari matriks identitas dan jika kita tukar suatu baris dari $I$ kemudian kita kalikan dengan $A$ maka akan menghasilkan matriks $A$ yang barisnya sudah tertukar. Misalkan kita punya \n",
    "\n",
    "$$\n",
    "P = \\begin{bmatrix}\n",
    "1 & 0 & 0 \\\\\n",
    "0 & 0 & 1 \\\\\n",
    "0 & 1 & 0\n",
    "\\end{bmatrix}\n",
    ", \\hspace{1em}\n",
    "A = \\begin{bmatrix}\n",
    "a_{11} & a_{12} & a_{13} \\\\\n",
    "a_{21} & a_{22} & a_{23} \\\\\n",
    "a_{31} & a_{32} & a_{33}\n",
    "\\end{bmatrix}\n",
    "$$\n",
    "\n",
    "kemdian kita kalikan $P$ dan $A$ menghasilkan\n",
    "\n",
    "$$\n",
    "PA = \\begin{bmatrix}\n",
    "1 & 0 & 0 \\\\\n",
    "0 & 0 & 1 \\\\\n",
    "0 & 1 & 0\n",
    "\\end{bmatrix}\n",
    "\\begin{bmatrix}\n",
    "a_{11} & a_{12} & a_{13} \\\\\n",
    "a_{21} & a_{22} & a_{23} \\\\\n",
    "a_{31} & a_{32} & a_{33}\n",
    "\\end{bmatrix}\n",
    "= \\begin{bmatrix}\n",
    "a_{11} & a_{12} & a_{13} \\\\\n",
    "a_{31} & a_{32} & a_{33} \\\\\n",
    "a_{21} & a_{22} & a_{23}\n",
    "\\end{bmatrix} .\n",
    "$$\n",
    "\n",
    "Matriks permutasi digunakan untuk menangani matriks yang ill-conditioned.\n",
    "\n",
    "```{note}\n",
    "Jika $P^{-1}$ ada maka $P^{-1} = P^t$.\n",
    "```"
   ]
  },
  {
   "cell_type": "markdown",
   "id": "2f593130-6b2f-462c-bdd4-5851d5204d45",
   "metadata": {
    "user_expressions": []
   },
   "source": [
    "## Matriks PLU untuk menyelesaikan SPL\n",
    "\n",
    "Diberikan $A\\textbf{x} = \\textbf{b}$ dan kita kalikan kedua ruas dengan matriks permutasi $P$ maka menghasilkan\n",
    "\n",
    "$$\n",
    "PA\\textbf{x} = P\\textbf{b}.\n",
    "$$\n",
    "\n",
    "Kemudian asumsikan bahwa kita dapat menyelesaikannya tanpa menukar baris, ini berarti $P = I$ untuk $I$ adalah matriks identitas. Sehingga ketika $A$ kita dekomposisi menjadi $LU$ maka dapat ditulis\n",
    "\n",
    "$$\n",
    "PA = LU.\n",
    "$$\n",
    "\n",
    "Karena $P^{-1} = P^t$ maka matriks $A$ dapat ditulis\n",
    "\n",
    "$$\n",
    "A = P^{-1}LU = (P^tL)U\n",
    "$$\n",
    "\n",
    "```{note}\n",
    "Matriks $U$ tetap menjadi matriks segitiga atas, tapi $P^tL$ bukan matriks segitiga bawah kecuali $P = I$.\n",
    "```\n",
    "\n",
    "Dengan demikian, bentuk $PA\\textbf{x} = P\\textbf{b}$ kita ubah menjadi\n",
    "\n",
    "$$\n",
    "LU \\textbf{x} = P\\textbf{b}.\n",
    "$$\n",
    "\n",
    "Kita misalkan $U \\textbf{x} = \\textbf{y}$ maka \n",
    "\n",
    "$$\n",
    "L \\textbf{y} = P\\textbf{b}\n",
    "$$\n",
    "\n",
    "dan selesaikan menggunakan subtitusi maju. Selanjutnya kita terapkan subtitusi mundur untuk menyelesaikan $U \\textbf{x} = \\textbf{y}.$"
   ]
  },
  {
   "cell_type": "markdown",
   "id": "1fc16e4d-b41c-46b9-9462-8a85c929570c",
   "metadata": {
    "user_expressions": []
   },
   "source": [
    "## Contoh 2\n",
    "\n",
    "Diberikan \n",
    "\n",
    "$$\n",
    "A = \\begin{bmatrix}\n",
    "0 & 0 & -1 & 1 \\\\\n",
    "1 & 1 & -1 & 2 \\\\\n",
    "-1 & -1 & 2 & 0 \\\\\n",
    "1 & 2 & 0 & 2\n",
    "\\end{bmatrix}\n",
    "$$\n",
    "\n",
    "Kita ingin mendekomposisi $A$ menjadi bentuk $(P^tL)U$"
   ]
  },
  {
   "cell_type": "code",
   "execution_count": 100,
   "id": "42b7fba1-a4be-4738-85ae-714df7cbd6dc",
   "metadata": {
    "tags": []
   },
   "outputs": [
    {
     "data": {
      "text/plain": [
       "dekomposisi_plu (generic function with 1 method)"
      ]
     },
     "execution_count": 100,
     "metadata": {},
     "output_type": "execute_result"
    }
   ],
   "source": [
    "using LinearAlgebra\n",
    "\n",
    "function dekomposisi_plu(A)\n",
    "    n = size(A, 1)\n",
    "    L = zeros(n, n)\n",
    "    U = copy(A)\n",
    "    P = Matrix{Float64}(I, n, n)\n",
    "\n",
    "    for k in 1:n\n",
    "        # Cari baris pivot\n",
    "        pivot = argmax(abs.(U[k:n, k])) + k - 1\n",
    "\n",
    "        # Tukar baris di U\n",
    "        U[[k, pivot], k:n] = U[[pivot, k], k:n]\n",
    "\n",
    "        # Tukar baris di P\n",
    "        P[[k, pivot], :] = P[[pivot, k], :]\n",
    "\n",
    "        # Tukar baris di L\n",
    "        L[[k, pivot], 1:k-1] = L[[pivot, k], 1:k-1]\n",
    "\n",
    "        # Dekomposisi LU\n",
    "        for i in k+1:n\n",
    "            L[i, k] = U[i, k] / U[k, k]\n",
    "            U[i, k:n] -= L[i, k] * U[k, k:n]\n",
    "        end\n",
    "    end\n",
    "\n",
    "    # Diagonal L harus 1\n",
    "    for i in 1:n\n",
    "        L[i, i] = 1.0\n",
    "    end\n",
    "\n",
    "    return P, L, U\n",
    "end"
   ]
  },
  {
   "cell_type": "code",
   "execution_count": 101,
   "id": "d9c712d9-3af9-4f89-a704-d42756619b87",
   "metadata": {},
   "outputs": [
    {
     "data": {
      "text/plain": [
       "4×4 Matrix{Int64}:\n",
       "  0   0  -1  1\n",
       "  1   1  -1  2\n",
       " -1  -1   2  0\n",
       "  1   2   0  2"
      ]
     },
     "metadata": {},
     "output_type": "display_data"
    }
   ],
   "source": [
    "A = [0 0 -1 1; 1 1 -1 2; -1 -1 2 0; 1 2 0 2]\n",
    "display(A)"
   ]
  },
  {
   "cell_type": "code",
   "execution_count": 102,
   "id": "df1722fc-4177-476c-8973-df206b8ec3b4",
   "metadata": {},
   "outputs": [
    {
     "data": {
      "text/plain": [
       "4×4 Matrix{Float64}:\n",
       " 0.0  1.0  0.0  0.0\n",
       " 0.0  0.0  0.0  1.0\n",
       " 0.0  0.0  1.0  0.0\n",
       " 1.0  0.0  0.0  0.0"
      ]
     },
     "metadata": {},
     "output_type": "display_data"
    }
   ],
   "source": [
    "P, L, U = dekomposisi_plu(A)\n",
    "display(P)"
   ]
  },
  {
   "cell_type": "code",
   "execution_count": 103,
   "id": "a6dcc6a1-6675-4767-9485-3f341dba2c6d",
   "metadata": {},
   "outputs": [
    {
     "data": {
      "text/plain": [
       "4×4 Matrix{Float64}:\n",
       "  1.0  0.0   0.0  0.0\n",
       "  1.0  1.0   0.0  0.0\n",
       " -1.0  0.0   1.0  0.0\n",
       "  0.0  0.0  -1.0  1.0"
      ]
     },
     "metadata": {},
     "output_type": "display_data"
    }
   ],
   "source": [
    "display(L)"
   ]
  },
  {
   "cell_type": "code",
   "execution_count": 104,
   "id": "496a94f3-0273-4093-966d-d8f839621385",
   "metadata": {},
   "outputs": [
    {
     "data": {
      "text/plain": [
       "4×4 Matrix{Int64}:\n",
       " 1  1  -1  2\n",
       " 0  1   1  0\n",
       " 0  0   1  2\n",
       " 0  0   0  3"
      ]
     },
     "metadata": {},
     "output_type": "display_data"
    }
   ],
   "source": [
    "display(U)"
   ]
  },
  {
   "cell_type": "code",
   "execution_count": 105,
   "id": "44f7078a-72c1-4354-ba44-8d27f85b90a0",
   "metadata": {},
   "outputs": [
    {
     "data": {
      "text/plain": [
       "4×4 Matrix{Float64}:\n",
       "  0.0   0.0  -1.0  1.0\n",
       "  1.0   1.0  -1.0  2.0\n",
       " -1.0  -1.0   2.0  0.0\n",
       "  1.0   2.0   0.0  2.0"
      ]
     },
     "execution_count": 105,
     "metadata": {},
     "output_type": "execute_result"
    }
   ],
   "source": [
    "transpose(P)*L*U # = A"
   ]
  },
  {
   "cell_type": "markdown",
   "id": "88ea5ebc-6e22-4002-a77d-bdb1aa20016a",
   "metadata": {
    "user_expressions": []
   },
   "source": [
    "## Contoh 3\n",
    "\n",
    "Dari [](#Contoh 2)\n",
    "\n",
    "$$\n",
    "A = \\begin{bmatrix}\n",
    "0 & 0 & -1 & 1 \\\\\n",
    "1 & 1 & -1 & 2 \\\\\n",
    "-1 & -1 & 2 & 0 \\\\\n",
    "1 & 2 & 0 & 2\n",
    "\\end{bmatrix},\n",
    "\\hspace{1em}\n",
    "\\textbf{b}  = \\begin{bmatrix}\n",
    "8 \\\\\n",
    "7 \\\\\n",
    "14 \\\\\n",
    "-7\n",
    "\\end{bmatrix}\n",
    "$$"
   ]
  },
  {
   "cell_type": "code",
   "execution_count": 106,
   "id": "dd1b0968-0340-42fd-8716-cbe10cc87b4d",
   "metadata": {},
   "outputs": [
    {
     "data": {
      "text/plain": [
       "4-element Vector{Float64}:\n",
       "  7.0\n",
       " -7.0\n",
       " 14.0\n",
       "  8.0"
      ]
     },
     "metadata": {},
     "output_type": "display_data"
    }
   ],
   "source": [
    "Pb = P*b\n",
    "display(Pb)"
   ]
  },
  {
   "cell_type": "code",
   "execution_count": 107,
   "id": "c3ef09e2-b9df-484c-a3c6-8f621f23f3c3",
   "metadata": {},
   "outputs": [
    {
     "data": {
      "text/plain": [
       "4-element Vector{Float64}:\n",
       "   7.0\n",
       " -14.0\n",
       "  21.0\n",
       "  29.0"
      ]
     },
     "metadata": {},
     "output_type": "display_data"
    }
   ],
   "source": [
    "y = subtitusi_maju(L, Pb)\n",
    "display(y)"
   ]
  },
  {
   "cell_type": "code",
   "execution_count": 108,
   "id": "e2a22e5a-d74a-47f8-ad4e-0dada3219d6f",
   "metadata": {},
   "outputs": [
    {
     "data": {
      "text/plain": [
       "4-element Vector{Float64}:\n",
       "   5.0000000000000036\n",
       " -15.666666666666668\n",
       "   1.6666666666666679\n",
       "   9.666666666666666"
      ]
     },
     "metadata": {},
     "output_type": "display_data"
    }
   ],
   "source": [
    "x = subtitusi_mundur(U,y)\n",
    "display(x)"
   ]
  },
  {
   "cell_type": "code",
   "execution_count": 109,
   "id": "17e03eb3-0ae8-4553-842d-669c4cbf7696",
   "metadata": {},
   "outputs": [
    {
     "data": {
      "text/plain": [
       "4-element Vector{Float64}:\n",
       "  7.999999999999998\n",
       "  7.0\n",
       " 14.0\n",
       " -7.0"
      ]
     },
     "execution_count": 109,
     "metadata": {},
     "output_type": "execute_result"
    }
   ],
   "source": [
    "A*x # = vektor b"
   ]
  },
  {
   "cell_type": "code",
   "execution_count": null,
   "id": "c9caf9b3-50dc-44b4-8deb-787e339297ba",
   "metadata": {},
   "outputs": [],
   "source": []
  }
 ],
 "metadata": {
  "kernelspec": {
   "display_name": "Julia 1.9.2",
   "language": "julia",
   "name": "julia-1.9"
  },
  "language_info": {
   "file_extension": ".jl",
   "mimetype": "application/julia",
   "name": "julia",
   "version": "1.9.2"
  }
 },
 "nbformat": 4,
 "nbformat_minor": 5
}
