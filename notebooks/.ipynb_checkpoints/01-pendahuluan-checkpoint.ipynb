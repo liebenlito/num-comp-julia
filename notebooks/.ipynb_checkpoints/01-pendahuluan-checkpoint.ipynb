{
 "cells": [
  {
   "cell_type": "markdown",
   "metadata": {},
   "source": [
    "# Pendahuluan\n",
    "\n",
    "Langkah pertama kita adalah melakukan \"diskritisasi\" terhadap bilangan real—secara spesifik, untuk mengganti bilangan real tersebut dengan himpunan bilangan yang terbatas (finite). Operasi aritmatika yang himpunan yang finite ini mempunyai pertubasi dari nilai yang sebenarnya (secara matematis). Kita dapat dengan mudah menjaga agar __roundoff error__ nya kecil, sehingga kalkulasi yang dilakukan secara akumulatif tidak berpengaruh dengan nilai yang kita harapkan. Namun, beberapa masalah dapat bersifat sensitif dari pertubasi ini. Maka dari itu, kita perlu mengetahui tentang __condition number__. Permasalahan yang memiliki condition number yang besar sulit untuk diselesaikan secara akurat menggunakan __presisi__ yang finite (finite precision). Walau demikian, permasalahan dengan condition number yang kecil pun, ketika kita mencoba untuk membuat suatu algoritma untuk menyelesaikannya, maka error yang dihasilkan dapat bertumbuh besar. Kita dapat menyebut algoritma tersebut dengan istilah tidak stabil (__unstable__). Dalam bab ini kita akan mendiskusikan ide-ide mengenai masalah-masalah yang dapat muncul (dengan menggunakan contoh sederhana) ketika menyelesaikan pemodelan matematika secara numerik atau kita dapat disebut sebagai __solusi numerik__.     "
   ]
  },
  {
   "cell_type": "markdown",
   "metadata": {},
   "source": []
  }
 ],
 "metadata": {
  "kernelspec": {
   "display_name": "Julia 1.7.0",
   "language": "julia",
   "name": "julia-1.7"
  },
  "language_info": {
   "name": "julia"
  },
  "orig_nbformat": 4
 },
 "nbformat": 4,
 "nbformat_minor": 2
}
