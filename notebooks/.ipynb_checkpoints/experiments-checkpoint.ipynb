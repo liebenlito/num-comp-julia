{
 "cells": [
  {
   "cell_type": "code",
   "execution_count": 1,
   "metadata": {},
   "outputs": [],
   "source": [
    "from solver import Solver\n",
    "from dataloader import get_loader\n",
    "import random"
   ]
  },
  {
   "cell_type": "code",
   "execution_count": 2,
   "metadata": {},
   "outputs": [],
   "source": [
    "import argparse\n",
    "import os"
   ]
  },
  {
   "cell_type": "markdown",
   "metadata": {
    "user_expressions": []
   },
   "source": [
    "```{figure} https://source.unsplash.com/random/500x200/?mountain\n",
    ":name: my-fig\n",
    ":align: left\n",
    "\n",
    "My **bold** mountain 🏔🚠.\n",
    "```\n",
    "\n",
    "Check out [](#my-fig)!!"
   ]
  },
  {
   "cell_type": "markdown",
   "metadata": {
    "user_expressions": []
   },
   "source": [
    ":::{iframe} https://www.youtube.com/embed/F3st8X0L1Ys\n",
    ":width: 100%\n",
    "Get up and running with MyST in Jupyter!\n",
    ":::"
   ]
  },
  {
   "cell_type": "markdown",
   "metadata": {
    "user_expressions": []
   },
   "source": [
    "```{list-table} This table title\n",
    ":header-rows: 1\n",
    ":name: example-table\n",
    "\n",
    "* - Training\n",
    "  - Validation\n",
    "* - 0\n",
    "  - 5\n",
    "* - 13720\n",
    "  - 2744\n",
    "```\n",
    "\n",
    "From [](#example-table) we get information about performance of models "
   ]
  },
  {
   "cell_type": "markdown",
   "metadata": {
    "user_expressions": []
   },
   "source": [
    "```{math}\n",
    ":label: my-equation\n",
    "w_{t+1} = (1 + r_{t+1}) s(w_t) + y_{t+1}\n",
    "```\n",
    "\n",
    "See [](#my-equation) for more information!"
   ]
  },
  {
   "cell_type": "markdown",
   "metadata": {
    "user_expressions": []
   },
   "source": [
    "$$\n",
    "\\label{maxwell}\n",
    "\\begin{aligned}\n",
    "\\nabla \\times \\vec{e}+\\frac{\\partial \\vec{b}}{\\partial t}&=0 \\\\\n",
    "\\nabla \\times \\vec{h}-\\vec{j}&=\\vec{s}\\_{e}\n",
    "\\end{aligned}\n",
    "$$\n",
    "\n",
    "$$ \\label{one-liner} Ax=b $$\n",
    "\n",
    "See [](maxwell) and [](one-liner)"
   ]
  },
  {
   "cell_type": "markdown",
   "metadata": {
    "user_expressions": []
   },
   "source": [
    "```{code-block} python\n",
    ":name: my-program\n",
    ":linenos:\n",
    ":emphasize-lines: 3,4\n",
    ":caption: Creating a TensorMesh using SimPEG\n",
    "from discretize import TensorMesh\n",
    "\n",
    "hx = [(1, 40)]\n",
    "hy = [(1, 40)]\n",
    "\n",
    "mesh = TensorMesh([hx, hy])\n",
    "```\n",
    "\n",
    "In the [](#my-program), we create a mesh for simulation using [SimPEG](https://discretize.simpeg.xyz/)."
   ]
  },
  {
   "cell_type": "markdown",
   "metadata": {
    "user_expressions": []
   },
   "source": [
    ":::{prf:theorem} Orthogonal-Projection-Theorem\n",
    ":label: my-theorem\n",
    "\n",
    "Given $y \\in \\mathbb R^n$ and linear subspace $S \\subset \\mathbb R^n$,\n",
    "there exists a unique solution to the minimization problem\n",
    "\n",
    "```{math}\n",
    "\\hat y := \\argmin_{z \\in S} \\|y - z\\|\n",
    "```\n",
    "\n",
    "The minimizer $\\hat y$ is the unique vector in $\\mathbb R^n$ that satisfies\n",
    "\n",
    "* $\\hat y \\in S$\n",
    "\n",
    "* $y - \\hat y \\perp S$\n",
    "\n",
    "\n",
    "The vector $\\hat y$ is called the **orthogonal projection** of $y$ onto $S$.\n",
    ":::\n",
    "\n",
    ":::{prf:proof}\n",
    ":label: full-proof\n",
    "Let $z$ be any other point in $S$ and use the fact that $S$ is a linear subspace to deduce\n",
    "\n",
    "```{math}\n",
    "\\| y - z \\|^2\n",
    "= \\| (y - \\hat y) + (\\hat y - z) \\|^2\n",
    "= \\| y - \\hat y \\|^2  + \\| \\hat y - z  \\|^2\n",
    "```\n",
    "\n",
    "Hence $\\| y - z \\| \\geq \\| y - \\hat y \\|$, which completes the proof.\n",
    ":::"
   ]
  },
  {
   "cell_type": "markdown",
   "metadata": {
    "user_expressions": []
   },
   "source": [
    ":::{prf:algorithm} Ford–Fulkerson\n",
    ":label: my-algorithm\n",
    "\n",
    "**Inputs** Given a Network $G=(V,E)$ with flow capacity $c$, a source node $s$, and a sink node $t$\n",
    "\n",
    "**Output** Compute a flow $f$ from $s$ to $t$ of maximum value\n",
    "\n",
    "1. $f(u, v) \\leftarrow 0$ for all edges $(u,v)$\n",
    "2. While there is a path $p$ from $s$ to $t$ in $G_{f}$ such that $c_{f}(u,v)>0$ for all edges $(u,v) \\in p$:\n",
    "\n",
    "    1. Find $c_{f}(p)= \\min \\{c_{f}(u,v):(u,v)\\in p\\}$\n",
    "    2. For each edge $(u,v) \\in p$\n",
    "\n",
    "        1. $f(u,v) \\leftarrow f(u,v) + c_{f}(p)$ *(Send flow along the path)*\n",
    "\t\t2. $f(u,v) \\leftarrow f(u,v) - c_{f}(p)$ *(The flow might be \"returned\" later)*\n",
    ":::"
   ]
  },
  {
   "cell_type": "markdown",
   "metadata": {
    "user_expressions": []
   },
   "source": [
    ":::{prf:example}\n",
    ":label: my-example\n",
    "\n",
    "Next, we shut down randomness in demand and assume that the demand shock\n",
    "$\\nu_t$ follows a deterministic path:\n",
    "\n",
    "\n",
    "```{math}\n",
    "\\nu_t = \\alpha + \\rho \\nu_{t-1}\n",
    "```\n",
    "\n",
    "Again, we’ll compute and display outcomes in some figures\n",
    "\n",
    "```python\n",
    "ex2 = SmoothingExample(C2=[[0], [0]])\n",
    "\n",
    "x0 = [0, 1, 0]\n",
    "ex2.simulate(x0)\n",
    "```\n",
    ":::"
   ]
  },
  {
   "cell_type": "markdown",
   "metadata": {
    "user_expressions": []
   },
   "source": [
    "```{mermaid}\n",
    "flowchart LR\n",
    "  A[Jupyter Notebook] --> C\n",
    "  B[MyST Markdown] --> C\n",
    "  C(mystmd) --> D{AST}\n",
    "  D <--> E[LaTeX]\n",
    "  E --> F[PDF]\n",
    "  D --> G[Word]\n",
    "  D --> H[React]\n",
    "  D --> I[HTML]\n",
    "  D <--> J[JATS]\n",
    "```"
   ]
  },
  {
   "cell_type": "markdown",
   "metadata": {
    "user_expressions": []
   },
   "source": [
    "::::{grid} 1 1 2 3\n",
    "\n",
    ":::{card}\n",
    ":header: Text content ✏️\n",
    "Structure books with text files and Jupyter Notebooks with minimal configuration.\n",
    ":::\n",
    "\n",
    ":::{card}\n",
    ":header: MyST Markdown ✨\n",
    "Write MyST Markdown to create enriched documents with publication-quality features.\n",
    ":::\n",
    "\n",
    ":::{card}\n",
    ":header: Executable content 🔁\n",
    "Execute notebook cells, store results, and insert outputs across pages.\n",
    ":::\n",
    "::::"
   ]
  },
  {
   "cell_type": "markdown",
   "metadata": {
    "user_expressions": []
   },
   "source": [
    "### Arsitektur Komputer\n",
    "\n",
    "```{mermaid}\n",
    "flowchart LR\n",
    "    A[CPU]\n",
    "    B[Memory]\n",
    "    A <--> B\n",
    "    C[Arithmetic Operators] --> A\n",
    "    D[Logic Unit] --> A\n",
    "    E(Input/Output) <--> B\n",
    "```\n",
    "\n"
   ]
  },
  {
   "cell_type": "code",
   "execution_count": null,
   "metadata": {},
   "outputs": [],
   "source": []
  }
 ],
 "metadata": {
  "kernelspec": {
   "display_name": "Python 3 (ipykernel)",
   "language": "python",
   "name": "python3"
  },
  "language_info": {
   "codemirror_mode": {
    "name": "ipython",
    "version": 3
   },
   "file_extension": ".py",
   "mimetype": "text/x-python",
   "name": "python",
   "nbconvert_exporter": "python",
   "pygments_lexer": "ipython3",
   "version": "3.9.16"
  }
 },
 "nbformat": 4,
 "nbformat_minor": 4
}
