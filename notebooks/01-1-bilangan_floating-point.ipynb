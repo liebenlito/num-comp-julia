{
 "cells": [
  {
   "cell_type": "markdown",
   "metadata": {},
   "source": [
    "## Bilangan Floating-Point\n",
    "\n",
    "Himpunan bilangan real $\\mathbb{R}$ tak berhingga, karena ia tidak terbatas dan kontinu. Secara komputasi, istilah tak behingga tidak mungkin ditemui. Ini sesuai dengan apa yang dikatakan {cite}`10.5555/260999` bahwa salah satu sifat yang harus dimiliki oleh suatu algoritma (dalam hal ini kita bisa katakan komputasi) adalah keberhinggaan (finiteness). Oleh karena itu, kita perlu mengetahui suatu himpunan berhingga yang dapat dijalankan di komputer (sebagai alat komputasi) yang dapat merepresentasikan bilangan real tersebut. \n",
    "\n",
    "```{admonition} Definisi 1.1.1: Bilangan Floating-Point\n",
    "Himpunan __bilangan floating-point__ $\\mathbb{F}$ terdiri dari nilai nol dan semua bilangan yang dibentuk dari\n",
    "\n",
    "$$\n",
    "\\pm (1+f) \\times 2^n,\n",
    "$$ (eqn:1-1)\n",
    "\n",
    "dimana $n$ adalah bilangan bulat yang disebut dengan __eksponen__, dan $1+f$ adalah __matissa__ atau __significand__, dengan\n",
    "\n",
    "$$\n",
    "f = \\sum_{i=1}^{d} b_i 2^{-i}, \\hspace{1em} b_i \\in \\{0, 1\\},\n",
    "$$ (eqn:1-2)\n",
    "\n",
    "dan bilangan bulat $d$ disebut dengan __presisi__.\n",
    "```\n",
    "\n",
    "Persamaan {eq}`eqn:1-2` merepresentasikan significand sebagai bilangan di interval $[1, 2)$ dalam bentuk basis-2. Secara ekuivalen,\n",
    "\n",
    "$$\n",
    "f = 2^{-d} \\sum_{i=1}^{d} b_i 2^{d-i} = 2^{-d}z,\n",
    "$$ (eqn:1-3)\n",
    "\n",
    "untuk suatu bilangan bulat $z$ di himpunan $\\{ 0, 1, \\cdots, 2^d - 1\\}$. Konsekunsinya, mulai dari $2^n$ dan berakhir sebelum $2^{n+1}$, maka terdapat tepat $2^d$ __evenly spaced numbers__ yang dimiliki oleh $\\mathbb{F}$. "
   ]
  },
  {
   "cell_type": "markdown",
   "metadata": {},
   "source": [
    "`````{admonition} Contoh 1.1.1\n",
    ":class: tip\n",
    "\n",
    "Misalkan $d=2$ dan dengan mengambil $n=0$ di {eq}`eqn:1-1`, kita cacah\n",
    "\n",
    "$$\n",
    "1 + \\frac{0}{4}, 1 + \\frac{1}{4}, 1 + \\frac{2}{4}, 1 + \\frac{3}{4}.\n",
    "$$\n",
    "\n",
    "Angka-angka ini adalah anggota dari $\\mathbb{F}$ di interval $[1, 2)$ dan mereka dipisahkan oleh $\\frac{1}{4}$.\n",
    "`````"
   ]
  },
  {
   "cell_type": "markdown",
   "metadata": {},
   "source": [
    "### Presisi dan Akurasi"
   ]
  },
  {
   "cell_type": "code",
   "execution_count": 16,
   "metadata": {},
   "outputs": [
    {
     "name": "stdout",
     "output_type": "stream",
     "text": [
      "p = 22 / 7 = 3.142857142857143\n"
     ]
    },
    {
     "data": {
      "text/plain": [
       "3.142857142857143"
      ]
     },
     "metadata": {},
     "output_type": "display_data"
    }
   ],
   "source": [
    "@show p = 22/7"
   ]
  },
  {
   "cell_type": "code",
   "execution_count": 17,
   "metadata": {},
   "outputs": [
    {
     "name": "stdout",
     "output_type": "stream",
     "text": [
      "float(pi) = 3.141592653589793\n"
     ]
    },
    {
     "data": {
      "text/plain": [
       "3.141592653589793"
      ]
     },
     "metadata": {},
     "output_type": "display_data"
    }
   ],
   "source": [
    "@show float(pi)"
   ]
  },
  {
   "cell_type": "code",
   "execution_count": 18,
   "metadata": {},
   "outputs": [
    {
     "name": "stdout",
     "output_type": "stream",
     "text": [
      "akurasi absolut = 0.0012644892673496777\n",
      "akurasi relatif = 0.0004024994347707008\n"
     ]
    }
   ],
   "source": [
    "accuracy = abs(p - pi)\n",
    "println(\"akurasi absolut = $accuracy\")\n",
    "println(\"akurasi relatif = $(accuracy/pi)\")"
   ]
  },
  {
   "cell_type": "code",
   "execution_count": 26,
   "metadata": {},
   "outputs": [
    {
     "name": "stdout",
     "output_type": "stream",
     "text": [
      "Banyaknya digit yang akurat = 3.0\n"
     ]
    }
   ],
   "source": [
    "digit = floor(-log10(accuracy/pi))\n",
    "println(\"Banyaknya digit yang akurat = $digit\")"
   ]
  },
  {
   "cell_type": "markdown",
   "metadata": {},
   "source": [
    "### Double precision"
   ]
  },
  {
   "cell_type": "code",
   "execution_count": 27,
   "metadata": {},
   "outputs": [
    {
     "name": "stdout",
     "output_type": "stream",
     "text": [
      "typeof(1) = Int64\n",
      "typeof(1.0) = Float64\n"
     ]
    }
   ],
   "source": [
    "@show typeof(1);\n",
    "@show typeof(1.0);"
   ]
  },
  {
   "cell_type": "code",
   "execution_count": 28,
   "metadata": {},
   "outputs": [
    {
     "data": {
      "text/plain": [
       "\"0011111111110000000000000000000000000000000000000000000000000000\""
      ]
     },
     "metadata": {},
     "output_type": "display_data"
    }
   ],
   "source": [
    "bitstring(1.0)"
   ]
  },
  {
   "cell_type": "code",
   "execution_count": 29,
   "metadata": {},
   "outputs": [
    {
     "data": {
      "text/plain": [
       "2-element Vector{String}:\n",
       " \"0011111111110000000000000000000000000000000000000000000000000000\"\n",
       " \"1011111111110000000000000000000000000000000000000000000000000000\""
      ]
     },
     "metadata": {},
     "output_type": "display_data"
    }
   ],
   "source": [
    "[bitstring(1.0), bitstring(-1.0)]"
   ]
  },
  {
   "cell_type": "code",
   "execution_count": 31,
   "metadata": {},
   "outputs": [
    {
     "name": "stdout",
     "output_type": "stream",
     "text": [
      "(sign(x), exponent(x), significand(x)) = (1.0, 0, 1.0)\n"
     ]
    }
   ],
   "source": [
    "x = 1.0\n",
    "@show sign(x), exponent(x), significand(x);"
   ]
  },
  {
   "cell_type": "code",
   "execution_count": 32,
   "metadata": {},
   "outputs": [
    {
     "name": "stdout",
     "output_type": "stream",
     "text": [
      "(sign(x), exponent(x), significand(x)) = (1.0, -2, 1.0)\n"
     ]
    },
    {
     "data": {
      "text/plain": [
       "(1.0, -2, 1.0)"
      ]
     },
     "metadata": {},
     "output_type": "display_data"
    }
   ],
   "source": [
    "x = 0.25\n",
    "@show sign(x), exponent(x), significand(x)"
   ]
  },
  {
   "cell_type": "code",
   "execution_count": 33,
   "metadata": {},
   "outputs": [
    {
     "name": "stdout",
     "output_type": "stream",
     "text": [
      "(sign(x), exponent(x), significand(x)) = (-1.0, -2, -1.0)\n"
     ]
    },
    {
     "data": {
      "text/plain": [
       "(-1.0, -2, -1.0)"
      ]
     },
     "metadata": {},
     "output_type": "display_data"
    }
   ],
   "source": [
    "x = -0.25\n",
    "@show sign(x), exponent(x), significand(x)"
   ]
  },
  {
   "cell_type": "code",
   "execution_count": 34,
   "metadata": {},
   "outputs": [
    {
     "data": {
      "text/plain": [
       "2.220446049250313e-16"
      ]
     },
     "metadata": {},
     "output_type": "display_data"
    }
   ],
   "source": [
    "eps()"
   ]
  },
  {
   "cell_type": "code",
   "execution_count": 35,
   "metadata": {},
   "outputs": [
    {
     "data": {
      "text/plain": [
       "-52.0"
      ]
     },
     "metadata": {},
     "output_type": "display_data"
    }
   ],
   "source": [
    "log2(eps())"
   ]
  },
  {
   "cell_type": "code",
   "execution_count": 36,
   "metadata": {},
   "outputs": [
    {
     "data": {
      "text/plain": [
       "2.220446049250313e-16"
      ]
     },
     "metadata": {},
     "output_type": "display_data"
    }
   ],
   "source": [
    "eps(1.618)"
   ]
  },
  {
   "cell_type": "code",
   "execution_count": 37,
   "metadata": {},
   "outputs": [
    {
     "data": {
      "text/plain": [
       "2.842170943040401e-14"
      ]
     },
     "metadata": {},
     "output_type": "display_data"
    }
   ],
   "source": [
    "eps(161.8)"
   ]
  },
  {
   "cell_type": "code",
   "execution_count": 38,
   "metadata": {},
   "outputs": [
    {
     "data": {
      "text/plain": [
       "161.80000000000004"
      ]
     },
     "metadata": {},
     "output_type": "display_data"
    }
   ],
   "source": [
    "nextfloat(161.8)"
   ]
  },
  {
   "cell_type": "code",
   "execution_count": 41,
   "metadata": {},
   "outputs": [
    {
     "name": "stdout",
     "output_type": "stream",
     "text": [
      "(floatmin(), floatmax()) = (2.2250738585072014e-308, 1.7976931348623157e308)\n"
     ]
    }
   ],
   "source": [
    "@show floatmin(), floatmax();"
   ]
  },
  {
   "cell_type": "code",
   "execution_count": 42,
   "metadata": {},
   "outputs": [
    {
     "data": {
      "text/plain": [
       "0.14285714285714285"
      ]
     },
     "metadata": {},
     "output_type": "display_data"
    }
   ],
   "source": [
    "1/7"
   ]
  },
  {
   "cell_type": "code",
   "execution_count": 43,
   "metadata": {},
   "outputs": [
    {
     "data": {
      "text/plain": [
       "38.3"
      ]
     },
     "metadata": {},
     "output_type": "display_data"
    }
   ],
   "source": [
    "37.3 + 1"
   ]
  },
  {
   "cell_type": "code",
   "execution_count": 44,
   "metadata": {},
   "outputs": [
    {
     "data": {
      "text/plain": [
       "0.0625"
      ]
     },
     "metadata": {},
     "output_type": "display_data"
    }
   ],
   "source": [
    "2^(-4)"
   ]
  },
  {
   "cell_type": "code",
   "execution_count": 45,
   "metadata": {},
   "outputs": [
    {
     "name": "stdout",
     "output_type": "stream",
     "text": [
      "(5.0, Int(5.0)) = (5.0, 5)\n"
     ]
    }
   ],
   "source": [
    "@show 5.0, Int(5.0);"
   ]
  },
  {
   "cell_type": "markdown",
   "metadata": {},
   "source": [
    "### Aritmatika Floating-Point"
   ]
  },
  {
   "cell_type": "code",
   "execution_count": 46,
   "metadata": {},
   "outputs": [
    {
     "data": {
      "text/plain": [
       "0.0"
      ]
     },
     "metadata": {},
     "output_type": "display_data"
    }
   ],
   "source": [
    "emach = eps()/2\n",
    "(1.0 + emach) - 1.0"
   ]
  },
  {
   "cell_type": "code",
   "execution_count": 47,
   "metadata": {},
   "outputs": [
    {
     "data": {
      "text/plain": [
       "1.1102230246251565e-16"
      ]
     },
     "metadata": {},
     "output_type": "display_data"
    }
   ],
   "source": [
    "1.0 + (emach - 1.0)"
   ]
  },
  {
   "cell_type": "code",
   "execution_count": 64,
   "metadata": {},
   "outputs": [
    {
     "name": "stdout",
     "output_type": "stream",
     "text": [
      "1.0\n",
      "-1.0\n",
      "1.1\n",
      "-1.1\n",
      "1.2\n",
      "-1.2\n",
      "1.3\n",
      "-1.3\n",
      "1.4\n",
      "-1.4\n",
      "1.5\n",
      "-1.5\n",
      "1.6\n",
      "-1.6\n",
      "1.7000000000000002\n",
      "-1.7000000000000002\n",
      "1.8\n",
      "-1.8\n",
      "1.9\n",
      "-1.9\n",
      "2.0\n",
      "-2.0\n",
      "2.1\n",
      "-2.1\n",
      "2.2\n",
      "-2.2\n",
      "2.3\n",
      "-2.3\n",
      "2.4\n",
      "-2.4\n",
      "2.5\n",
      "-2.5\n",
      "2.6\n",
      "-2.6\n",
      "2.7\n",
      "-2.7\n",
      "2.8\n",
      "-2.8\n",
      "2.9\n",
      "-2.9\n",
      "3.0\n",
      "-3.0\n",
      "3.1\n",
      "-3.1\n",
      "3.2\n",
      "-3.2\n",
      "3.3\n",
      "-3.3\n",
      "3.4\n",
      "-3.4\n",
      "3.5\n",
      "-3.5\n",
      "3.6\n",
      "-3.6\n",
      "3.7\n",
      "-3.7\n",
      "3.8\n",
      "-3.8\n",
      "3.9\n",
      "-3.9\n",
      "4.0\n",
      "-4.0\n",
      "4.1\n",
      "-4.1\n",
      "4.2\n",
      "-4.2\n",
      "4.3\n",
      "-4.3\n",
      "4.4\n",
      "-4.4\n",
      "4.5\n",
      "-4.5\n",
      "4.6\n",
      "-4.6\n",
      "4.7\n",
      "-4.7\n",
      "4.8\n",
      "-4.8\n",
      "4.9\n",
      "-4.9\n",
      "5.0\n",
      "-5.0\n",
      "5.1\n",
      "-5.1\n",
      "5.2\n",
      "-5.2\n",
      "5.3\n",
      "-5.3\n",
      "5.4\n",
      "-5.4\n",
      "5.5\n",
      "-5.5\n",
      "5.6\n",
      "-5.6\n",
      "5.7\n",
      "-5.7\n",
      "5.8\n",
      "-5.8\n",
      "5.9\n",
      "-5.9\n",
      "6.0\n",
      "-6.0\n",
      "6.1\n",
      "-6.1\n",
      "6.2\n",
      "-6.2\n",
      "6.3\n",
      "-6.3\n",
      "6.4\n",
      "-6.4\n",
      "6.5\n",
      "-6.5\n",
      "6.6\n",
      "-6.6\n",
      "6.7\n",
      "-6.7\n",
      "6.8\n",
      "-6.8\n",
      "6.9\n",
      "-6.9\n",
      "7.0\n",
      "-7.0\n",
      "7.1\n",
      "-7.1\n",
      "7.2\n",
      "-7.2\n",
      "7.3\n",
      "-7.3\n",
      "7.4\n",
      "-7.4\n",
      "7.5\n",
      "-7.5\n",
      "7.6\n",
      "-7.6\n",
      "7.7\n",
      "-7.7\n",
      "7.8\n",
      "-7.8\n",
      "7.9\n",
      "-7.9\n",
      "8.0\n",
      "-8.0\n",
      "8.1\n",
      "-8.1\n",
      "8.2\n",
      "-8.2\n",
      "8.3\n",
      "-8.3\n",
      "8.4\n",
      "-8.4\n",
      "8.5\n",
      "-8.5\n",
      "8.6\n",
      "-8.6\n",
      "8.7\n",
      "-8.7\n",
      "8.8\n",
      "-8.8\n",
      "8.9\n",
      "-8.9\n",
      "9.0\n",
      "-9.0\n",
      "9.1\n",
      "-9.1\n",
      "9.2\n",
      "-9.2\n",
      "9.3\n",
      "-9.3\n",
      "9.4\n",
      "-9.4\n",
      "9.5\n",
      "-9.5\n",
      "9.6\n",
      "-9.6\n",
      "9.7\n",
      "-9.7\n",
      "9.8\n",
      "-9.8\n",
      "9.9\n",
      "-9.9\n",
      "0.1\n",
      "-0.1\n",
      "0.11000000000000001\n",
      "-0.11000000000000001\n",
      "0.12\n",
      "-0.12\n",
      "0.13\n",
      "-0.13\n",
      "0.13999999999999999\n",
      "-0.13999999999999999\n",
      "0.15000000000000002\n",
      "-0.15000000000000002\n",
      "0.16000000000000003\n",
      "-0.16000000000000003\n",
      "0.17000000000000004\n",
      "-0.17000000000000004\n",
      "0.18000000000000002\n",
      "-0.18000000000000002\n",
      "0.19\n",
      "-0.19\n",
      "0.2\n",
      "-0.2\n",
      "0.21000000000000002\n",
      "-0.21000000000000002\n",
      "0.22000000000000003\n",
      "-0.22000000000000003\n",
      "0.22999999999999998\n",
      "-0.22999999999999998\n",
      "0.24\n",
      "-0.24\n",
      "0.25\n",
      "-0.25\n",
      "0.26\n",
      "-0.26\n",
      "0.27\n",
      "-0.27\n",
      "0.27999999999999997\n",
      "-0.27999999999999997\n",
      "0.29\n",
      "-0.29\n",
      "0.30000000000000004\n",
      "-0.30000000000000004\n",
      "0.31000000000000005\n",
      "-0.31000000000000005\n",
      "0.32000000000000006\n",
      "-0.32000000000000006\n",
      "0.33\n",
      "-0.33\n",
      "0.34\n",
      "-0.34\n",
      "0.35000000000000003\n",
      "-0.35000000000000003\n",
      "0.36000000000000004\n",
      "-0.36000000000000004\n",
      "0.37000000000000005\n",
      "-0.37000000000000005\n",
      "0.38\n",
      "-0.38\n",
      "0.39\n",
      "-0.39\n",
      "0.4\n",
      "-0.4\n",
      "0.41\n",
      "-0.41\n",
      "0.42000000000000004\n",
      "-0.42000000000000004\n",
      "0.43\n",
      "-0.43\n",
      "0.44000000000000006\n",
      "-0.44000000000000006\n",
      "0.45\n",
      "-0.45\n",
      "0.45999999999999996\n",
      "-0.45999999999999996\n",
      "0.47000000000000003\n",
      "-0.47000000000000003\n",
      "0.48\n",
      "-0.48\n",
      "0.49000000000000005\n",
      "-0.49000000000000005\n",
      "0.5\n",
      "-0.5\n",
      "0.51\n",
      "-0.51\n",
      "0.52\n",
      "-0.52\n",
      "0.53\n",
      "-0.53\n",
      "0.54\n",
      "-0.54\n",
      "0.55\n",
      "-0.55\n",
      "0.5599999999999999\n",
      "-0.5599999999999999\n",
      "0.5700000000000001\n",
      "-0.5700000000000001\n",
      "0.58\n",
      "-0.58\n",
      "0.5900000000000001\n",
      "-0.5900000000000001\n",
      "0.6000000000000001\n",
      "-0.6000000000000001\n",
      "0.61\n",
      "-0.61\n",
      "0.6200000000000001\n",
      "-0.6200000000000001\n",
      "0.63\n",
      "-0.63\n",
      "0.6400000000000001\n",
      "-0.6400000000000001\n",
      "0.65\n",
      "-0.65\n",
      "0.66\n",
      "-0.66\n",
      "0.67\n",
      "-0.67\n",
      "0.68\n",
      "-0.68\n",
      "0.6900000000000001\n",
      "-0.6900000000000001\n",
      "0.7000000000000001\n",
      "-0.7000000000000001\n",
      "0.71\n",
      "-0.71\n",
      "0.7200000000000001\n",
      "-0.7200000000000001\n",
      "0.73\n",
      "-0.73\n",
      "0.7400000000000001\n",
      "-0.7400000000000001\n",
      "0.75\n",
      "-0.75\n",
      "0.76\n",
      "-0.76\n",
      "0.77\n",
      "-0.77\n",
      "0.78\n",
      "-0.78\n",
      "0.79\n",
      "-0.79\n",
      "0.8\n",
      "-0.8\n",
      "0.81\n",
      "-0.81\n",
      "0.82\n",
      "-0.82\n",
      "0.8300000000000001\n",
      "-0.8300000000000001\n",
      "0.8400000000000001\n",
      "-0.8400000000000001\n",
      "0.8500000000000001\n",
      "-0.8500000000000001\n",
      "0.86\n",
      "-0.86\n",
      "0.87\n",
      "-0.87\n",
      "0.8800000000000001\n",
      "-0.8800000000000001\n",
      "0.8900000000000001\n",
      "-0.8900000000000001\n",
      "0.9\n",
      "-0.9\n",
      "0.91\n",
      "-0.91\n",
      "0.9199999999999999\n",
      "-0.9199999999999999\n",
      "0.9300000000000002\n",
      "-0.9300000000000002\n",
      "0.9400000000000001\n",
      "-0.9400000000000001\n",
      "0.9500000000000001\n",
      "-0.9500000000000001\n",
      "0.96\n",
      "-0.96\n",
      "0.97\n",
      "-0.97\n",
      "0.9800000000000001\n",
      "-0.9800000000000001\n",
      "0.9900000000000001\n",
      "-0.9900000000000001\n",
      "0.010000000000000002\n",
      "-0.010000000000000002\n",
      "0.011000000000000003\n",
      "-0.011000000000000003\n",
      "0.012000000000000002\n",
      "-0.012000000000000002\n",
      "0.013000000000000003\n",
      "-0.013000000000000003\n",
      "0.014000000000000002\n",
      "-0.014000000000000002\n",
      "0.015000000000000003\n",
      "-0.015000000000000003\n",
      "0.016000000000000004\n",
      "-0.016000000000000004\n",
      "0.017000000000000005\n",
      "-0.017000000000000005\n",
      "0.018000000000000006\n",
      "-0.018000000000000006\n",
      "0.019000000000000003\n",
      "-0.019000000000000003\n",
      "0.020000000000000004\n",
      "-0.020000000000000004\n",
      "0.021000000000000005\n",
      "-0.021000000000000005\n",
      "0.022000000000000006\n",
      "-0.022000000000000006\n",
      "0.023000000000000003\n",
      "-0.023000000000000003\n",
      "0.024000000000000004\n",
      "-0.024000000000000004\n",
      "0.025000000000000005\n",
      "-0.025000000000000005\n",
      "0.026000000000000006\n",
      "-0.026000000000000006\n",
      "0.027000000000000007\n",
      "-0.027000000000000007\n",
      "0.028000000000000004\n",
      "-0.028000000000000004\n",
      "0.029000000000000005\n",
      "-0.029000000000000005\n",
      "0.030000000000000006\n",
      "-0.030000000000000006\n",
      "0.031000000000000007\n",
      "-0.031000000000000007\n",
      "0.03200000000000001\n",
      "-0.03200000000000001\n",
      "0.033\n",
      "-0.033\n",
      "0.034\n",
      "-0.034\n",
      "0.035\n",
      "-0.035\n",
      "0.03600000000000001\n",
      "-0.03600000000000001\n",
      "0.03700000000000001\n",
      "-0.03700000000000001\n",
      "0.038000000000000006\n",
      "-0.038000000000000006\n",
      "0.03900000000000001\n",
      "-0.03900000000000001\n",
      "0.04000000000000001\n",
      "-0.04000000000000001\n",
      "0.041\n",
      "-0.041\n",
      "0.04200000000000001\n",
      "-0.04200000000000001\n",
      "0.043000000000000003\n",
      "-0.043000000000000003\n",
      "0.04400000000000001\n",
      "-0.04400000000000001\n",
      "0.04500000000000001\n",
      "-0.04500000000000001\n",
      "0.046000000000000006\n",
      "-0.046000000000000006\n",
      "0.047000000000000014\n",
      "-0.047000000000000014\n",
      "0.04800000000000001\n",
      "-0.04800000000000001\n",
      "0.049000000000000016\n",
      "-0.049000000000000016\n",
      "0.05000000000000001\n",
      "-0.05000000000000001\n",
      "0.051000000000000004\n",
      "-0.051000000000000004\n",
      "0.05200000000000001\n",
      "-0.05200000000000001\n",
      "0.053000000000000005\n",
      "-0.053000000000000005\n",
      "0.05400000000000001\n",
      "-0.05400000000000001\n",
      "0.05500000000000001\n",
      "-0.05500000000000001\n",
      "0.05600000000000001\n",
      "-0.05600000000000001\n",
      "0.057000000000000016\n",
      "-0.057000000000000016\n",
      "0.05800000000000001\n",
      "-0.05800000000000001\n",
      "0.05900000000000002\n",
      "-0.05900000000000002\n",
      "0.06000000000000001\n",
      "-0.06000000000000001\n",
      "0.061000000000000006\n",
      "-0.061000000000000006\n",
      "0.06200000000000001\n",
      "-0.06200000000000001\n",
      "0.06300000000000001\n",
      "-0.06300000000000001\n",
      "0.06400000000000002\n",
      "-0.06400000000000002\n",
      "0.06500000000000002\n",
      "-0.06500000000000002\n",
      "0.066\n",
      "-0.066\n",
      "0.06700000000000002\n",
      "-0.06700000000000002\n",
      "0.068\n",
      "-0.068\n",
      "0.06900000000000002\n",
      "-0.06900000000000002\n",
      "0.07\n",
      "-0.07\n",
      "0.07100000000000001\n",
      "-0.07100000000000001\n",
      "0.07200000000000002\n",
      "-0.07200000000000002\n",
      "0.07300000000000001\n",
      "-0.07300000000000001\n",
      "0.07400000000000002\n",
      "-0.07400000000000002\n",
      "0.07500000000000001\n",
      "-0.07500000000000001\n",
      "0.07600000000000001\n",
      "-0.07600000000000001\n",
      "0.07700000000000001\n",
      "-0.07700000000000001\n",
      "0.07800000000000001\n",
      "-0.07800000000000001\n",
      "0.07900000000000001\n",
      "-0.07900000000000001\n",
      "0.08000000000000002\n",
      "-0.08000000000000002\n",
      "0.08100000000000002\n",
      "-0.08100000000000002\n",
      "0.082\n",
      "-0.082\n",
      "0.08300000000000002\n",
      "-0.08300000000000002\n",
      "0.08400000000000002\n",
      "-0.08400000000000002\n",
      "0.08500000000000002\n",
      "-0.08500000000000002\n",
      "0.08600000000000001\n",
      "-0.08600000000000001\n",
      "0.08700000000000001\n",
      "-0.08700000000000001\n",
      "0.08800000000000002\n",
      "-0.08800000000000002\n",
      "0.08900000000000002\n",
      "-0.08900000000000002\n",
      "0.09000000000000002\n",
      "-0.09000000000000002\n",
      "0.09100000000000001\n",
      "-0.09100000000000001\n",
      "0.09200000000000001\n",
      "-0.09200000000000001\n",
      "0.09300000000000003\n",
      "-0.09300000000000003\n",
      "0.09400000000000003\n",
      "-0.09400000000000003\n",
      "0.09500000000000001\n",
      "-0.09500000000000001\n",
      "0.09600000000000002\n",
      "-0.09600000000000002\n",
      "0.09700000000000002\n",
      "-0.09700000000000002\n",
      "0.09800000000000003\n",
      "-0.09800000000000003\n",
      "0.09900000000000002\n",
      "-0.09900000000000002\n"
     ]
    }
   ],
   "source": [
    "using Plots\n",
    "\n",
    "nilai_d1 = collect(1:9);\n",
    "nilai_d2 = collect(0:9);\n",
    "nilai_E = [0.0, -1.0, -2.0];\n",
    "\n",
    "for E in nilai_E\n",
    "    for d1 in nilai_d1\n",
    "        for d2 in nilai_d2\n",
    "            println((d1 + d2 * 0.1) * 10^E)\n",
    "            println( -(d1 + d2 * 0.1) * 10^E)\n",
    "        end\n",
    "    end\n",
    "end"
   ]
  },
  {
   "cell_type": "code",
   "execution_count": 10,
   "metadata": {},
   "outputs": [
    {
     "data": {
      "image/png": "[encoded data removed]",
      "image/svg+xml": [
       "<?xml version=\"1.0\" encoding=\"utf-8\"?>\n",
       "<svg xmlns=\"http://www.w3.org/2000/svg\" xmlns:xlink=\"http://www.w3.org/1999/xlink\" width=\"600\" height=\"400\" viewBox=\"0 0 2400 1600\">\n",
       "<defs>\n",
       "  <clipPath id=\"clip410\">\n",
       "    <rect x=\"0\" y=\"0\" width=\"2400\" height=\"1600\"/>\n",
       "  </clipPath>\n",
       "</defs>\n",
       "<path clip-path=\"url(#clip410)\" d=\"M0 1600 L2400 1600 L2400 0 L0 0  Z\" fill=\"#ffffff\" fill-rule=\"evenodd\" fill-opacity=\"1\"/>\n",
       "<defs>\n",
       "  <clipPath id=\"clip411\">\n",
       "    <rect x=\"480\" y=\"0\" width=\"1681\" height=\"1600\"/>\n",
       "  </clipPath>\n",
       "</defs>\n",
       "<path clip-path=\"url(#clip410)\" d=\"M156.598 1486.45 L2352.76 1486.45 L2352.76 47.2441 L156.598 47.2441  Z\" fill=\"#ffffff\" fill-rule=\"evenodd\" fill-opacity=\"1\"/>\n",
       "<defs>\n",
       "  <clipPath id=\"clip412\">\n",
       "    <rect x=\"156\" y=\"47\" width=\"2197\" height=\"1440\"/>\n",
       "  </clipPath>\n",
       "</defs>\n",
       "<polyline clip-path=\"url(#clip412)\" style=\"stroke:#000000; stroke-linecap:round; stroke-linejoin:round; stroke-width:2; stroke-opacity:0.1; fill:none\" points=\"410.882,1486.45 410.882,47.2441 \"/>\n",
       "<polyline clip-path=\"url(#clip412)\" style=\"stroke:#000000; stroke-linecap:round; stroke-linejoin:round; stroke-width:2; stroke-opacity:0.1; fill:none\" points=\"769.494,1486.45 769.494,47.2441 \"/>\n",
       "<polyline clip-path=\"url(#clip412)\" style=\"stroke:#000000; stroke-linecap:round; stroke-linejoin:round; stroke-width:2; stroke-opacity:0.1; fill:none\" points=\"1128.1,1486.45 1128.1,47.2441 \"/>\n",
       "<polyline clip-path=\"url(#clip412)\" style=\"stroke:#000000; stroke-linecap:round; stroke-linejoin:round; stroke-width:2; stroke-opacity:0.1; fill:none\" points=\"1486.72,1486.45 1486.72,47.2441 \"/>\n",
       "<polyline clip-path=\"url(#clip412)\" style=\"stroke:#000000; stroke-linecap:round; stroke-linejoin:round; stroke-width:2; stroke-opacity:0.1; fill:none\" points=\"1845.33,1486.45 1845.33,47.2441 \"/>\n",
       "<polyline clip-path=\"url(#clip412)\" style=\"stroke:#000000; stroke-linecap:round; stroke-linejoin:round; stroke-width:2; stroke-opacity:0.1; fill:none\" points=\"2203.94,1486.45 2203.94,47.2441 \"/>\n",
       "<polyline clip-path=\"url(#clip410)\" style=\"stroke:#000000; stroke-linecap:round; stroke-linejoin:round; stroke-width:4; stroke-opacity:1; fill:none\" points=\"156.598,1486.45 2352.76,1486.45 \"/>\n",
       "<polyline clip-path=\"url(#clip410)\" style=\"stroke:#000000; stroke-linecap:round; stroke-linejoin:round; stroke-width:4; stroke-opacity:1; fill:none\" points=\"410.882,1486.45 410.882,1467.55 \"/>\n",
       "<polyline clip-path=\"url(#clip410)\" style=\"stroke:#000000; stroke-linecap:round; stroke-linejoin:round; stroke-width:4; stroke-opacity:1; fill:none\" points=\"769.494,1486.45 769.494,1467.55 \"/>\n",
       "<polyline clip-path=\"url(#clip410)\" style=\"stroke:#000000; stroke-linecap:round; stroke-linejoin:round; stroke-width:4; stroke-opacity:1; fill:none\" points=\"1128.1,1486.45 1128.1,1467.55 \"/>\n",
       "<polyline clip-path=\"url(#clip410)\" style=\"stroke:#000000; stroke-linecap:round; stroke-linejoin:round; stroke-width:4; stroke-opacity:1; fill:none\" points=\"1486.72,1486.45 1486.72,1467.55 \"/>\n",
       "<polyline clip-path=\"url(#clip410)\" style=\"stroke:#000000; stroke-linecap:round; stroke-linejoin:round; stroke-width:4; stroke-opacity:1; fill:none\" points=\"1845.33,1486.45 1845.33,1467.55 \"/>\n",
       "<polyline clip-path=\"url(#clip410)\" style=\"stroke:#000000; stroke-linecap:round; stroke-linejoin:round; stroke-width:4; stroke-opacity:1; fill:none\" points=\"2203.94,1486.45 2203.94,1467.55 \"/>\n",
       "<path clip-path=\"url(#clip410)\" d=\"M389.065 1517.37 Q385.454 1517.37 383.626 1520.93 Q381.82 1524.47 381.82 1531.6 Q381.82 1538.71 383.626 1542.27 Q385.454 1545.82 389.065 1545.82 Q392.7 1545.82 394.505 1542.27 Q396.334 1538.71 396.334 1531.6 Q396.334 1524.47 394.505 1520.93 Q392.7 1517.37 389.065 1517.37 M389.065 1513.66 Q394.876 1513.66 397.931 1518.27 Q401.01 1522.85 401.01 1531.6 Q401.01 1540.33 397.931 1544.94 Q394.876 1549.52 389.065 1549.52 Q383.255 1549.52 380.177 1544.94 Q377.121 1540.33 377.121 1531.6 Q377.121 1522.85 380.177 1518.27 Q383.255 1513.66 389.065 1513.66 Z\" fill=\"#000000\" fill-rule=\"nonzero\" fill-opacity=\"1\" /><path clip-path=\"url(#clip410)\" d=\"M409.227 1542.97 L414.112 1542.97 L414.112 1548.85 L409.227 1548.85 L409.227 1542.97 Z\" fill=\"#000000\" fill-rule=\"nonzero\" fill-opacity=\"1\" /><path clip-path=\"url(#clip410)\" d=\"M428.324 1544.91 L444.644 1544.91 L444.644 1548.85 L422.699 1548.85 L422.699 1544.91 Q425.361 1542.16 429.945 1537.53 Q434.551 1532.88 435.732 1531.53 Q437.977 1529.01 438.857 1527.27 Q439.76 1525.51 439.76 1523.82 Q439.76 1521.07 437.815 1519.33 Q435.894 1517.6 432.792 1517.6 Q430.593 1517.6 428.139 1518.36 Q425.709 1519.13 422.931 1520.68 L422.931 1515.95 Q425.755 1514.82 428.209 1514.24 Q430.662 1513.66 432.699 1513.66 Q438.07 1513.66 441.264 1516.35 Q444.459 1519.03 444.459 1523.52 Q444.459 1525.65 443.648 1527.57 Q442.861 1529.47 440.755 1532.07 Q440.176 1532.74 437.074 1535.95 Q433.973 1539.15 428.324 1544.91 Z\" fill=\"#000000\" fill-rule=\"nonzero\" fill-opacity=\"1\" /><path clip-path=\"url(#clip410)\" d=\"M747.202 1517.37 Q743.591 1517.37 741.762 1520.93 Q739.957 1524.47 739.957 1531.6 Q739.957 1538.71 741.762 1542.27 Q743.591 1545.82 747.202 1545.82 Q750.836 1545.82 752.642 1542.27 Q754.47 1538.71 754.47 1531.6 Q754.47 1524.47 752.642 1520.93 Q750.836 1517.37 747.202 1517.37 M747.202 1513.66 Q753.012 1513.66 756.068 1518.27 Q759.146 1522.85 759.146 1531.6 Q759.146 1540.33 756.068 1544.94 Q753.012 1549.52 747.202 1549.52 Q741.392 1549.52 738.313 1544.94 Q735.258 1540.33 735.258 1531.6 Q735.258 1522.85 738.313 1518.27 Q741.392 1513.66 747.202 1513.66 Z\" fill=\"#000000\" fill-rule=\"nonzero\" fill-opacity=\"1\" /><path clip-path=\"url(#clip410)\" d=\"M767.364 1542.97 L772.248 1542.97 L772.248 1548.85 L767.364 1548.85 L767.364 1542.97 Z\" fill=\"#000000\" fill-rule=\"nonzero\" fill-opacity=\"1\" /><path clip-path=\"url(#clip410)\" d=\"M796.6 1530.21 Q799.956 1530.93 801.831 1533.2 Q803.729 1535.47 803.729 1538.8 Q803.729 1543.92 800.211 1546.72 Q796.692 1549.52 790.211 1549.52 Q788.035 1549.52 785.72 1549.08 Q783.429 1548.66 780.975 1547.81 L780.975 1543.29 Q782.919 1544.43 785.234 1545.01 Q787.549 1545.58 790.072 1545.58 Q794.47 1545.58 796.762 1543.85 Q799.077 1542.11 799.077 1538.8 Q799.077 1535.75 796.924 1534.03 Q794.794 1532.3 790.975 1532.3 L786.947 1532.3 L786.947 1528.45 L791.16 1528.45 Q794.609 1528.45 796.438 1527.09 Q798.267 1525.7 798.267 1523.11 Q798.267 1520.45 796.368 1519.03 Q794.493 1517.6 790.975 1517.6 Q789.054 1517.6 786.855 1518.01 Q784.656 1518.43 782.017 1519.31 L782.017 1515.14 Q784.679 1514.4 786.993 1514.03 Q789.331 1513.66 791.392 1513.66 Q796.716 1513.66 799.817 1516.09 Q802.919 1518.5 802.919 1522.62 Q802.919 1525.49 801.276 1527.48 Q799.632 1529.45 796.6 1530.21 Z\" fill=\"#000000\" fill-rule=\"nonzero\" fill-opacity=\"1\" /><path clip-path=\"url(#clip410)\" d=\"M1105.25 1517.37 Q1101.64 1517.37 1099.81 1520.93 Q1098 1524.47 1098 1531.6 Q1098 1538.71 1099.81 1542.27 Q1101.64 1545.82 1105.25 1545.82 Q1108.88 1545.82 1110.69 1542.27 Q1112.51 1538.71 1112.51 1531.6 Q1112.51 1524.47 1110.69 1520.93 Q1108.88 1517.37 1105.25 1517.37 M1105.25 1513.66 Q1111.06 1513.66 1114.11 1518.27 Q1117.19 1522.85 1117.19 1531.6 Q1117.19 1540.33 1114.11 1544.94 Q1111.06 1549.52 1105.25 1549.52 Q1099.44 1549.52 1096.36 1544.94 Q1093.3 1540.33 1093.3 1531.6 Q1093.3 1522.85 1096.36 1518.27 Q1099.44 1513.66 1105.25 1513.66 Z\" fill=\"#000000\" fill-rule=\"nonzero\" fill-opacity=\"1\" /><path clip-path=\"url(#clip410)\" d=\"M1125.41 1542.97 L1130.29 1542.97 L1130.29 1548.85 L1125.41 1548.85 L1125.41 1542.97 Z\" fill=\"#000000\" fill-rule=\"nonzero\" fill-opacity=\"1\" /><path clip-path=\"url(#clip410)\" d=\"M1153.32 1518.36 L1141.52 1536.81 L1153.32 1536.81 L1153.32 1518.36 M1152.1 1514.29 L1157.98 1514.29 L1157.98 1536.81 L1162.91 1536.81 L1162.91 1540.7 L1157.98 1540.7 L1157.98 1548.85 L1153.32 1548.85 L1153.32 1540.7 L1137.72 1540.7 L1137.72 1536.19 L1152.1 1514.29 Z\" fill=\"#000000\" fill-rule=\"nonzero\" fill-opacity=\"1\" /><path clip-path=\"url(#clip410)\" d=\"M1464.6 1517.37 Q1460.99 1517.37 1459.16 1520.93 Q1457.35 1524.47 1457.35 1531.6 Q1457.35 1538.71 1459.16 1542.27 Q1460.99 1545.82 1464.6 1545.82 Q1468.23 1545.82 1470.04 1542.27 Q1471.87 1538.71 1471.87 1531.6 Q1471.87 1524.47 1470.04 1520.93 Q1468.23 1517.37 1464.6 1517.37 M1464.6 1513.66 Q1470.41 1513.66 1473.46 1518.27 Q1476.54 1522.85 1476.54 1531.6 Q1476.54 1540.33 1473.46 1544.94 Q1470.41 1549.52 1464.6 1549.52 Q1458.79 1549.52 1455.71 1544.94 Q1452.65 1540.33 1452.65 1531.6 Q1452.65 1522.85 1455.71 1518.27 Q1458.79 1513.66 1464.6 1513.66 Z\" fill=\"#000000\" fill-rule=\"nonzero\" fill-opacity=\"1\" /><path clip-path=\"url(#clip410)\" d=\"M1484.76 1542.97 L1489.64 1542.97 L1489.64 1548.85 L1484.76 1548.85 L1484.76 1542.97 Z\" fill=\"#000000\" fill-rule=\"nonzero\" fill-opacity=\"1\" /><path clip-path=\"url(#clip410)\" d=\"M1499.88 1514.29 L1518.23 1514.29 L1518.23 1518.22 L1504.16 1518.22 L1504.16 1526.7 Q1505.18 1526.35 1506.2 1526.19 Q1507.21 1526 1508.23 1526 Q1514.02 1526 1517.4 1529.17 Q1520.78 1532.34 1520.78 1537.76 Q1520.78 1543.34 1517.31 1546.44 Q1513.83 1549.52 1507.51 1549.52 Q1505.34 1549.52 1503.07 1549.15 Q1500.82 1548.78 1498.42 1548.04 L1498.42 1543.34 Q1500.5 1544.47 1502.72 1545.03 Q1504.95 1545.58 1507.42 1545.58 Q1511.43 1545.58 1513.76 1543.48 Q1516.1 1541.37 1516.1 1537.76 Q1516.1 1534.15 1513.76 1532.04 Q1511.43 1529.94 1507.42 1529.94 Q1505.55 1529.94 1503.67 1530.35 Q1501.82 1530.77 1499.88 1531.65 L1499.88 1514.29 Z\" fill=\"#000000\" fill-rule=\"nonzero\" fill-opacity=\"1\" /><path clip-path=\"url(#clip410)\" d=\"M1822.63 1517.37 Q1819.02 1517.37 1817.19 1520.93 Q1815.39 1524.47 1815.39 1531.6 Q1815.39 1538.71 1817.19 1542.27 Q1819.02 1545.82 1822.63 1545.82 Q1826.26 1545.82 1828.07 1542.27 Q1829.9 1538.71 1829.9 1531.6 Q1829.9 1524.47 1828.07 1520.93 Q1826.26 1517.37 1822.63 1517.37 M1822.63 1513.66 Q1828.44 1513.66 1831.5 1518.27 Q1834.57 1522.85 1834.57 1531.6 Q1834.57 1540.33 1831.5 1544.94 Q1828.44 1549.52 1822.63 1549.52 Q1816.82 1549.52 1813.74 1544.94 Q1810.69 1540.33 1810.69 1531.6 Q1810.69 1522.85 1813.74 1518.27 Q1816.82 1513.66 1822.63 1513.66 Z\" fill=\"#000000\" fill-rule=\"nonzero\" fill-opacity=\"1\" /><path clip-path=\"url(#clip410)\" d=\"M1842.79 1542.97 L1847.68 1542.97 L1847.68 1548.85 L1842.79 1548.85 L1842.79 1542.97 Z\" fill=\"#000000\" fill-rule=\"nonzero\" fill-opacity=\"1\" /><path clip-path=\"url(#clip410)\" d=\"M1868.44 1529.7 Q1865.29 1529.7 1863.44 1531.86 Q1861.61 1534.01 1861.61 1537.76 Q1861.61 1541.49 1863.44 1543.66 Q1865.29 1545.82 1868.44 1545.82 Q1871.59 1545.82 1873.42 1543.66 Q1875.27 1541.49 1875.27 1537.76 Q1875.27 1534.01 1873.42 1531.86 Q1871.59 1529.7 1868.44 1529.7 M1877.72 1515.05 L1877.72 1519.31 Q1875.96 1518.48 1874.16 1518.04 Q1872.38 1517.6 1870.62 1517.6 Q1865.99 1517.6 1863.53 1520.72 Q1861.1 1523.85 1860.76 1530.17 Q1862.12 1528.15 1864.18 1527.09 Q1866.24 1526 1868.72 1526 Q1873.93 1526 1876.94 1529.17 Q1879.97 1532.32 1879.97 1537.76 Q1879.97 1543.08 1876.82 1546.3 Q1873.67 1549.52 1868.44 1549.52 Q1862.45 1549.52 1859.27 1544.94 Q1856.1 1540.33 1856.1 1531.6 Q1856.1 1523.41 1859.99 1518.55 Q1863.88 1513.66 1870.43 1513.66 Q1872.19 1513.66 1873.97 1514.01 Q1875.78 1514.36 1877.72 1515.05 Z\" fill=\"#000000\" fill-rule=\"nonzero\" fill-opacity=\"1\" /><path clip-path=\"url(#clip410)\" d=\"M2181.77 1517.37 Q2178.16 1517.37 2176.33 1520.93 Q2174.53 1524.47 2174.53 1531.6 Q2174.53 1538.71 2176.33 1542.27 Q2178.16 1545.82 2181.77 1545.82 Q2185.41 1545.82 2187.21 1542.27 Q2189.04 1538.71 2189.04 1531.6 Q2189.04 1524.47 2187.21 1520.93 Q2185.41 1517.37 2181.77 1517.37 M2181.77 1513.66 Q2187.58 1513.66 2190.64 1518.27 Q2193.72 1522.85 2193.72 1531.6 Q2193.72 1540.33 2190.64 1544.94 Q2187.58 1549.52 2181.77 1549.52 Q2175.96 1549.52 2172.89 1544.94 Q2169.83 1540.33 2169.83 1531.6 Q2169.83 1522.85 2172.89 1518.27 Q2175.96 1513.66 2181.77 1513.66 Z\" fill=\"#000000\" fill-rule=\"nonzero\" fill-opacity=\"1\" /><path clip-path=\"url(#clip410)\" d=\"M2201.94 1542.97 L2206.82 1542.97 L2206.82 1548.85 L2201.94 1548.85 L2201.94 1542.97 Z\" fill=\"#000000\" fill-rule=\"nonzero\" fill-opacity=\"1\" /><path clip-path=\"url(#clip410)\" d=\"M2215.82 1514.29 L2238.05 1514.29 L2238.05 1516.28 L2225.5 1548.85 L2220.62 1548.85 L2232.42 1518.22 L2215.82 1518.22 L2215.82 1514.29 Z\" fill=\"#000000\" fill-rule=\"nonzero\" fill-opacity=\"1\" /><polyline clip-path=\"url(#clip412)\" style=\"stroke:#000000; stroke-linecap:round; stroke-linejoin:round; stroke-width:2; stroke-opacity:0.1; fill:none\" points=\"156.598,1303.54 2352.76,1303.54 \"/>\n",
       "<polyline clip-path=\"url(#clip412)\" style=\"stroke:#000000; stroke-linecap:round; stroke-linejoin:round; stroke-width:2; stroke-opacity:0.1; fill:none\" points=\"156.598,1040.72 2352.76,1040.72 \"/>\n",
       "<polyline clip-path=\"url(#clip412)\" style=\"stroke:#000000; stroke-linecap:round; stroke-linejoin:round; stroke-width:2; stroke-opacity:0.1; fill:none\" points=\"156.598,777.901 2352.76,777.901 \"/>\n",
       "<polyline clip-path=\"url(#clip412)\" style=\"stroke:#000000; stroke-linecap:round; stroke-linejoin:round; stroke-width:2; stroke-opacity:0.1; fill:none\" points=\"156.598,515.083 2352.76,515.083 \"/>\n",
       "<polyline clip-path=\"url(#clip412)\" style=\"stroke:#000000; stroke-linecap:round; stroke-linejoin:round; stroke-width:2; stroke-opacity:0.1; fill:none\" points=\"156.598,252.266 2352.76,252.266 \"/>\n",
       "<polyline clip-path=\"url(#clip410)\" style=\"stroke:#000000; stroke-linecap:round; stroke-linejoin:round; stroke-width:4; stroke-opacity:1; fill:none\" points=\"156.598,1486.45 156.598,47.2441 \"/>\n",
       "<polyline clip-path=\"url(#clip410)\" style=\"stroke:#000000; stroke-linecap:round; stroke-linejoin:round; stroke-width:4; stroke-opacity:1; fill:none\" points=\"156.598,1303.54 175.496,1303.54 \"/>\n",
       "<polyline clip-path=\"url(#clip410)\" style=\"stroke:#000000; stroke-linecap:round; stroke-linejoin:round; stroke-width:4; stroke-opacity:1; fill:none\" points=\"156.598,1040.72 175.496,1040.72 \"/>\n",
       "<polyline clip-path=\"url(#clip410)\" style=\"stroke:#000000; stroke-linecap:round; stroke-linejoin:round; stroke-width:4; stroke-opacity:1; fill:none\" points=\"156.598,777.901 175.496,777.901 \"/>\n",
       "<polyline clip-path=\"url(#clip410)\" style=\"stroke:#000000; stroke-linecap:round; stroke-linejoin:round; stroke-width:4; stroke-opacity:1; fill:none\" points=\"156.598,515.083 175.496,515.083 \"/>\n",
       "<polyline clip-path=\"url(#clip410)\" style=\"stroke:#000000; stroke-linecap:round; stroke-linejoin:round; stroke-width:4; stroke-opacity:1; fill:none\" points=\"156.598,252.266 175.496,252.266 \"/>\n",
       "<path clip-path=\"url(#clip410)\" d=\"M65.0198 1289.33 Q61.4087 1289.33 59.58 1292.9 Q57.7745 1296.44 57.7745 1303.57 Q57.7745 1310.68 59.58 1314.24 Q61.4087 1317.78 65.0198 1317.78 Q68.6541 1317.78 70.4596 1314.24 Q72.2883 1310.68 72.2883 1303.57 Q72.2883 1296.44 70.4596 1292.9 Q68.6541 1289.33 65.0198 1289.33 M65.0198 1285.63 Q70.83 1285.63 73.8855 1290.24 Q76.9642 1294.82 76.9642 1303.57 Q76.9642 1312.3 73.8855 1316.9 Q70.83 1321.49 65.0198 1321.49 Q59.2097 1321.49 56.131 1316.9 Q53.0754 1312.3 53.0754 1303.57 Q53.0754 1294.82 56.131 1290.24 Q59.2097 1285.63 65.0198 1285.63 Z\" fill=\"#000000\" fill-rule=\"nonzero\" fill-opacity=\"1\" /><path clip-path=\"url(#clip410)\" d=\"M85.1818 1314.94 L90.066 1314.94 L90.066 1320.82 L85.1818 1320.82 L85.1818 1314.94 Z\" fill=\"#000000\" fill-rule=\"nonzero\" fill-opacity=\"1\" /><path clip-path=\"url(#clip410)\" d=\"M104.279 1316.88 L120.598 1316.88 L120.598 1320.82 L98.6539 1320.82 L98.6539 1316.88 Q101.316 1314.13 105.899 1309.5 Q110.506 1304.84 111.686 1303.5 Q113.932 1300.98 114.811 1299.24 Q115.714 1297.48 115.714 1295.79 Q115.714 1293.04 113.77 1291.3 Q111.848 1289.57 108.746 1289.57 Q106.547 1289.57 104.094 1290.33 Q101.663 1291.09 98.8854 1292.64 L98.8854 1287.92 Q101.709 1286.79 104.163 1286.21 Q106.617 1285.63 108.654 1285.63 Q114.024 1285.63 117.219 1288.32 Q120.413 1291 120.413 1295.49 Q120.413 1297.62 119.603 1299.54 Q118.816 1301.44 116.709 1304.03 Q116.131 1304.7 113.029 1307.92 Q109.927 1311.12 104.279 1316.88 Z\" fill=\"#000000\" fill-rule=\"nonzero\" fill-opacity=\"1\" /><path clip-path=\"url(#clip410)\" d=\"M64.0708 1026.52 Q60.4597 1026.52 58.631 1030.08 Q56.8254 1033.62 56.8254 1040.75 Q56.8254 1047.86 58.631 1051.42 Q60.4597 1054.97 64.0708 1054.97 Q67.705 1054.97 69.5105 1051.42 Q71.3392 1047.86 71.3392 1040.75 Q71.3392 1033.62 69.5105 1030.08 Q67.705 1026.52 64.0708 1026.52 M64.0708 1022.81 Q69.8809 1022.81 72.9365 1027.42 Q76.0151 1032 76.0151 1040.75 Q76.0151 1049.48 72.9365 1054.09 Q69.8809 1058.67 64.0708 1058.67 Q58.2606 1058.67 55.1819 1054.09 Q52.1264 1049.48 52.1264 1040.75 Q52.1264 1032 55.1819 1027.42 Q58.2606 1022.81 64.0708 1022.81 Z\" fill=\"#000000\" fill-rule=\"nonzero\" fill-opacity=\"1\" /><path clip-path=\"url(#clip410)\" d=\"M84.2327 1052.12 L89.1169 1052.12 L89.1169 1058 L84.2327 1058 L84.2327 1052.12 Z\" fill=\"#000000\" fill-rule=\"nonzero\" fill-opacity=\"1\" /><path clip-path=\"url(#clip410)\" d=\"M113.469 1039.36 Q116.825 1040.08 118.7 1042.35 Q120.598 1044.62 120.598 1047.95 Q120.598 1053.07 117.08 1055.87 Q113.561 1058.67 107.08 1058.67 Q104.904 1058.67 102.589 1058.23 Q100.297 1057.81 97.8437 1056.96 L97.8437 1052.44 Q99.7882 1053.58 102.103 1054.16 Q104.418 1054.73 106.941 1054.73 Q111.339 1054.73 113.631 1053 Q115.945 1051.26 115.945 1047.95 Q115.945 1044.9 113.793 1043.18 Q111.663 1041.45 107.844 1041.45 L103.816 1041.45 L103.816 1037.6 L108.029 1037.6 Q111.478 1037.6 113.307 1036.24 Q115.135 1034.85 115.135 1032.26 Q115.135 1029.6 113.237 1028.18 Q111.362 1026.75 107.844 1026.75 Q105.922 1026.75 103.723 1027.17 Q101.524 1027.58 98.8854 1028.46 L98.8854 1024.29 Q101.547 1023.55 103.862 1023.18 Q106.2 1022.81 108.26 1022.81 Q113.584 1022.81 116.686 1025.24 Q119.788 1027.65 119.788 1031.77 Q119.788 1034.64 118.145 1036.63 Q116.501 1038.6 113.469 1039.36 Z\" fill=\"#000000\" fill-rule=\"nonzero\" fill-opacity=\"1\" /><path clip-path=\"url(#clip410)\" d=\"M62.9365 763.7 Q59.3254 763.7 57.4967 767.264 Q55.6912 770.806 55.6912 777.936 Q55.6912 785.042 57.4967 788.607 Q59.3254 792.148 62.9365 792.148 Q66.5707 792.148 68.3763 788.607 Q70.205 785.042 70.205 777.936 Q70.205 770.806 68.3763 767.264 Q66.5707 763.7 62.9365 763.7 M62.9365 759.996 Q68.7467 759.996 71.8022 764.602 Q74.8809 769.186 74.8809 777.936 Q74.8809 786.662 71.8022 791.269 Q68.7467 795.852 62.9365 795.852 Q57.1264 795.852 54.0477 791.269 Q50.9921 786.662 50.9921 777.936 Q50.9921 769.186 54.0477 764.602 Q57.1264 759.996 62.9365 759.996 Z\" fill=\"#000000\" fill-rule=\"nonzero\" fill-opacity=\"1\" /><path clip-path=\"url(#clip410)\" d=\"M83.0984 789.301 L87.9827 789.301 L87.9827 795.181 L83.0984 795.181 L83.0984 789.301 Z\" fill=\"#000000\" fill-rule=\"nonzero\" fill-opacity=\"1\" /><path clip-path=\"url(#clip410)\" d=\"M111.015 764.695 L99.2095 783.144 L111.015 783.144 L111.015 764.695 M109.788 760.621 L115.668 760.621 L115.668 783.144 L120.598 783.144 L120.598 787.033 L115.668 787.033 L115.668 795.181 L111.015 795.181 L111.015 787.033 L95.4132 787.033 L95.4132 782.519 L109.788 760.621 Z\" fill=\"#000000\" fill-rule=\"nonzero\" fill-opacity=\"1\" /><path clip-path=\"url(#clip410)\" d=\"M64.418 500.882 Q60.8069 500.882 58.9782 504.447 Q57.1726 507.989 57.1726 515.118 Q57.1726 522.225 58.9782 525.789 Q60.8069 529.331 64.418 529.331 Q68.0522 529.331 69.8578 525.789 Q71.6865 522.225 71.6865 515.118 Q71.6865 507.989 69.8578 504.447 Q68.0522 500.882 64.418 500.882 M64.418 497.178 Q70.2281 497.178 73.2837 501.785 Q76.3624 506.368 76.3624 515.118 Q76.3624 523.845 73.2837 528.451 Q70.2281 533.035 64.418 533.035 Q58.6078 533.035 55.5291 528.451 Q52.4736 523.845 52.4736 515.118 Q52.4736 506.368 55.5291 501.785 Q58.6078 497.178 64.418 497.178 Z\" fill=\"#000000\" fill-rule=\"nonzero\" fill-opacity=\"1\" /><path clip-path=\"url(#clip410)\" d=\"M84.5799 526.484 L89.4641 526.484 L89.4641 532.363 L84.5799 532.363 L84.5799 526.484 Z\" fill=\"#000000\" fill-rule=\"nonzero\" fill-opacity=\"1\" /><path clip-path=\"url(#clip410)\" d=\"M99.6956 497.803 L118.052 497.803 L118.052 501.739 L103.978 501.739 L103.978 510.211 Q104.996 509.864 106.015 509.702 Q107.033 509.516 108.052 509.516 Q113.839 509.516 117.219 512.688 Q120.598 515.859 120.598 521.276 Q120.598 526.854 117.126 529.956 Q113.654 533.035 107.334 533.035 Q105.159 533.035 102.89 532.664 Q100.645 532.294 98.2372 531.553 L98.2372 526.854 Q100.321 527.988 102.543 528.544 Q104.765 529.1 107.242 529.1 Q111.246 529.1 113.584 526.993 Q115.922 524.887 115.922 521.276 Q115.922 517.664 113.584 515.558 Q111.246 513.451 107.242 513.451 Q105.367 513.451 103.492 513.868 Q101.64 514.285 99.6956 515.164 L99.6956 497.803 Z\" fill=\"#000000\" fill-rule=\"nonzero\" fill-opacity=\"1\" /><path clip-path=\"url(#clip410)\" d=\"M63.2606 238.065 Q59.6495 238.065 57.8208 241.63 Q56.0152 245.171 56.0152 252.301 Q56.0152 259.407 57.8208 262.972 Q59.6495 266.514 63.2606 266.514 Q66.8948 266.514 68.7004 262.972 Q70.5291 259.407 70.5291 252.301 Q70.5291 245.171 68.7004 241.63 Q66.8948 238.065 63.2606 238.065 M63.2606 234.361 Q69.0707 234.361 72.1263 238.967 Q75.205 243.551 75.205 252.301 Q75.205 261.028 72.1263 265.634 Q69.0707 270.217 63.2606 270.217 Q57.4504 270.217 54.3717 265.634 Q51.3162 261.028 51.3162 252.301 Q51.3162 243.551 54.3717 238.967 Q57.4504 234.361 63.2606 234.361 Z\" fill=\"#000000\" fill-rule=\"nonzero\" fill-opacity=\"1\" /><path clip-path=\"url(#clip410)\" d=\"M83.4225 263.666 L88.3067 263.666 L88.3067 269.546 L83.4225 269.546 L83.4225 263.666 Z\" fill=\"#000000\" fill-rule=\"nonzero\" fill-opacity=\"1\" /><path clip-path=\"url(#clip410)\" d=\"M109.071 250.403 Q105.922 250.403 104.071 252.555 Q102.242 254.708 102.242 258.458 Q102.242 262.185 104.071 264.361 Q105.922 266.514 109.071 266.514 Q112.219 266.514 114.047 264.361 Q115.899 262.185 115.899 258.458 Q115.899 254.708 114.047 252.555 Q112.219 250.403 109.071 250.403 M118.353 235.75 L118.353 240.009 Q116.594 239.176 114.788 238.736 Q113.006 238.296 111.246 238.296 Q106.617 238.296 104.163 241.421 Q101.733 244.546 101.385 250.866 Q102.751 248.852 104.811 247.787 Q106.871 246.699 109.348 246.699 Q114.557 246.699 117.566 249.87 Q120.598 253.018 120.598 258.458 Q120.598 263.782 117.45 267 Q114.302 270.217 109.071 270.217 Q103.075 270.217 99.9039 265.634 Q96.7326 261.028 96.7326 252.301 Q96.7326 244.106 100.621 239.245 Q104.51 234.361 111.061 234.361 Q112.82 234.361 114.603 234.708 Q116.408 235.055 118.353 235.75 Z\" fill=\"#000000\" fill-rule=\"nonzero\" fill-opacity=\"1\" /><polyline clip-path=\"url(#clip412)\" style=\"stroke:#009af9; stroke-linecap:round; stroke-linejoin:round; stroke-width:4; stroke-opacity:1; fill:none\" points=\"2290.6,87.9763 1829.33,354.886 1224.67,740.907 431.641,1292.13 218.754,1445.72 333.044,1363.06 1708.24,429.176 312.672,1377.76 643.893,1140.89 2107.05,190.972 \"/>\n",
       "<path clip-path=\"url(#clip410)\" d=\"M229.803 198.898 L501.85 198.898 L501.85 95.2176 L229.803 95.2176  Z\" fill=\"#ffffff\" fill-rule=\"evenodd\" fill-opacity=\"1\"/>\n",
       "<polyline clip-path=\"url(#clip410)\" style=\"stroke:#000000; stroke-linecap:round; stroke-linejoin:round; stroke-width:4; stroke-opacity:1; fill:none\" points=\"229.803,198.898 501.85,198.898 501.85,95.2176 229.803,95.2176 229.803,198.898 \"/>\n",
       "<polyline clip-path=\"url(#clip410)\" style=\"stroke:#009af9; stroke-linecap:round; stroke-linejoin:round; stroke-width:4; stroke-opacity:1; fill:none\" points=\"254.205,147.058 400.616,147.058 \"/>\n",
       "<path clip-path=\"url(#clip410)\" d=\"M438.86 166.745 Q437.054 171.375 435.342 172.787 Q433.629 174.199 430.758 174.199 L427.355 174.199 L427.355 170.634 L429.855 170.634 Q431.615 170.634 432.587 169.8 Q433.559 168.967 434.74 165.865 L435.504 163.921 L425.018 138.412 L429.531 138.412 L437.633 158.689 L445.735 138.412 L450.249 138.412 L438.86 166.745 Z\" fill=\"#000000\" fill-rule=\"nonzero\" fill-opacity=\"1\" /><path clip-path=\"url(#clip410)\" d=\"M457.54 160.402 L465.179 160.402 L465.179 134.037 L456.869 135.703 L456.869 131.444 L465.133 129.778 L469.809 129.778 L469.809 160.402 L477.448 160.402 L477.448 164.338 L457.54 164.338 L457.54 160.402 Z\" fill=\"#000000\" fill-rule=\"nonzero\" fill-opacity=\"1\" /></svg>\n"
      ],
      "text/html": [
       "<?xml version=\"1.0\" encoding=\"utf-8\"?>\n",
       "<svg xmlns=\"http://www.w3.org/2000/svg\" xmlns:xlink=\"http://www.w3.org/1999/xlink\" width=\"600\" height=\"400\" viewBox=\"0 0 2400 1600\">\n",
       "<defs>\n",
       "  <clipPath id=\"clip460\">\n",
       "    <rect x=\"0\" y=\"0\" width=\"2400\" height=\"1600\"/>\n",
       "  </clipPath>\n",
       "</defs>\n",
       "<path clip-path=\"url(#clip460)\" d=\"M0 1600 L2400 1600 L2400 0 L0 0  Z\" fill=\"#ffffff\" fill-rule=\"evenodd\" fill-opacity=\"1\"/>\n",
       "<defs>\n",
       "  <clipPath id=\"clip461\">\n",
       "    <rect x=\"480\" y=\"0\" width=\"1681\" height=\"1600\"/>\n",
       "  </clipPath>\n",
       "</defs>\n",
       "<path clip-path=\"url(#clip460)\" d=\"M156.598 1486.45 L2352.76 1486.45 L2352.76 47.2441 L156.598 47.2441  Z\" fill=\"#ffffff\" fill-rule=\"evenodd\" fill-opacity=\"1\"/>\n",
       "<defs>\n",
       "  <clipPath id=\"clip462\">\n",
       "    <rect x=\"156\" y=\"47\" width=\"2197\" height=\"1440\"/>\n",
       "  </clipPath>\n",
       "</defs>\n",
       "<polyline clip-path=\"url(#clip462)\" style=\"stroke:#000000; stroke-linecap:round; stroke-linejoin:round; stroke-width:2; stroke-opacity:0.1; fill:none\" points=\"410.882,1486.45 410.882,47.2441 \"/>\n",
       "<polyline clip-path=\"url(#clip462)\" style=\"stroke:#000000; stroke-linecap:round; stroke-linejoin:round; stroke-width:2; stroke-opacity:0.1; fill:none\" points=\"769.494,1486.45 769.494,47.2441 \"/>\n",
       "<polyline clip-path=\"url(#clip462)\" style=\"stroke:#000000; stroke-linecap:round; stroke-linejoin:round; stroke-width:2; stroke-opacity:0.1; fill:none\" points=\"1128.1,1486.45 1128.1,47.2441 \"/>\n",
       "<polyline clip-path=\"url(#clip462)\" style=\"stroke:#000000; stroke-linecap:round; stroke-linejoin:round; stroke-width:2; stroke-opacity:0.1; fill:none\" points=\"1486.72,1486.45 1486.72,47.2441 \"/>\n",
       "<polyline clip-path=\"url(#clip462)\" style=\"stroke:#000000; stroke-linecap:round; stroke-linejoin:round; stroke-width:2; stroke-opacity:0.1; fill:none\" points=\"1845.33,1486.45 1845.33,47.2441 \"/>\n",
       "<polyline clip-path=\"url(#clip462)\" style=\"stroke:#000000; stroke-linecap:round; stroke-linejoin:round; stroke-width:2; stroke-opacity:0.1; fill:none\" points=\"2203.94,1486.45 2203.94,47.2441 \"/>\n",
       "<polyline clip-path=\"url(#clip460)\" style=\"stroke:#000000; stroke-linecap:round; stroke-linejoin:round; stroke-width:4; stroke-opacity:1; fill:none\" points=\"156.598,1486.45 2352.76,1486.45 \"/>\n",
       "<polyline clip-path=\"url(#clip460)\" style=\"stroke:#000000; stroke-linecap:round; stroke-linejoin:round; stroke-width:4; stroke-opacity:1; fill:none\" points=\"410.882,1486.45 410.882,1467.55 \"/>\n",
       "<polyline clip-path=\"url(#clip460)\" style=\"stroke:#000000; stroke-linecap:round; stroke-linejoin:round; stroke-width:4; stroke-opacity:1; fill:none\" points=\"769.494,1486.45 769.494,1467.55 \"/>\n",
       "<polyline clip-path=\"url(#clip460)\" style=\"stroke:#000000; stroke-linecap:round; stroke-linejoin:round; stroke-width:4; stroke-opacity:1; fill:none\" points=\"1128.1,1486.45 1128.1,1467.55 \"/>\n",
       "<polyline clip-path=\"url(#clip460)\" style=\"stroke:#000000; stroke-linecap:round; stroke-linejoin:round; stroke-width:4; stroke-opacity:1; fill:none\" points=\"1486.72,1486.45 1486.72,1467.55 \"/>\n",
       "<polyline clip-path=\"url(#clip460)\" style=\"stroke:#000000; stroke-linecap:round; stroke-linejoin:round; stroke-width:4; stroke-opacity:1; fill:none\" points=\"1845.33,1486.45 1845.33,1467.55 \"/>\n",
       "<polyline clip-path=\"url(#clip460)\" style=\"stroke:#000000; stroke-linecap:round; stroke-linejoin:round; stroke-width:4; stroke-opacity:1; fill:none\" points=\"2203.94,1486.45 2203.94,1467.55 \"/>\n",
       "<path clip-path=\"url(#clip460)\" d=\"M389.065 1517.37 Q385.454 1517.37 383.626 1520.93 Q381.82 1524.47 381.82 1531.6 Q381.82 1538.71 383.626 1542.27 Q385.454 1545.82 389.065 1545.82 Q392.7 1545.82 394.505 1542.27 Q396.334 1538.71 396.334 1531.6 Q396.334 1524.47 394.505 1520.93 Q392.7 1517.37 389.065 1517.37 M389.065 1513.66 Q394.876 1513.66 397.931 1518.27 Q401.01 1522.85 401.01 1531.6 Q401.01 1540.33 397.931 1544.94 Q394.876 1549.52 389.065 1549.52 Q383.255 1549.52 380.177 1544.94 Q377.121 1540.33 377.121 1531.6 Q377.121 1522.85 380.177 1518.27 Q383.255 1513.66 389.065 1513.66 Z\" fill=\"#000000\" fill-rule=\"nonzero\" fill-opacity=\"1\" /><path clip-path=\"url(#clip460)\" d=\"M409.227 1542.97 L414.112 1542.97 L414.112 1548.85 L409.227 1548.85 L409.227 1542.97 Z\" fill=\"#000000\" fill-rule=\"nonzero\" fill-opacity=\"1\" /><path clip-path=\"url(#clip460)\" d=\"M428.324 1544.91 L444.644 1544.91 L444.644 1548.85 L422.699 1548.85 L422.699 1544.91 Q425.361 1542.16 429.945 1537.53 Q434.551 1532.88 435.732 1531.53 Q437.977 1529.01 438.857 1527.27 Q439.76 1525.51 439.76 1523.82 Q439.76 1521.07 437.815 1519.33 Q435.894 1517.6 432.792 1517.6 Q430.593 1517.6 428.139 1518.36 Q425.709 1519.13 422.931 1520.68 L422.931 1515.95 Q425.755 1514.82 428.209 1514.24 Q430.662 1513.66 432.699 1513.66 Q438.07 1513.66 441.264 1516.35 Q444.459 1519.03 444.459 1523.52 Q444.459 1525.65 443.648 1527.57 Q442.861 1529.47 440.755 1532.07 Q440.176 1532.74 437.074 1535.95 Q433.973 1539.15 428.324 1544.91 Z\" fill=\"#000000\" fill-rule=\"nonzero\" fill-opacity=\"1\" /><path clip-path=\"url(#clip460)\" d=\"M747.202 1517.37 Q743.591 1517.37 741.762 1520.93 Q739.957 1524.47 739.957 1531.6 Q739.957 1538.71 741.762 1542.27 Q743.591 1545.82 747.202 1545.82 Q750.836 1545.82 752.642 1542.27 Q754.47 1538.71 754.47 1531.6 Q754.47 1524.47 752.642 1520.93 Q750.836 1517.37 747.202 1517.37 M747.202 1513.66 Q753.012 1513.66 756.068 1518.27 Q759.146 1522.85 759.146 1531.6 Q759.146 1540.33 756.068 1544.94 Q753.012 1549.52 747.202 1549.52 Q741.392 1549.52 738.313 1544.94 Q735.258 1540.33 735.258 1531.6 Q735.258 1522.85 738.313 1518.27 Q741.392 1513.66 747.202 1513.66 Z\" fill=\"#000000\" fill-rule=\"nonzero\" fill-opacity=\"1\" /><path clip-path=\"url(#clip460)\" d=\"M767.364 1542.97 L772.248 1542.97 L772.248 1548.85 L767.364 1548.85 L767.364 1542.97 Z\" fill=\"#000000\" fill-rule=\"nonzero\" fill-opacity=\"1\" /><path clip-path=\"url(#clip460)\" d=\"M796.6 1530.21 Q799.956 1530.93 801.831 1533.2 Q803.729 1535.47 803.729 1538.8 Q803.729 1543.92 800.211 1546.72 Q796.692 1549.52 790.211 1549.52 Q788.035 1549.52 785.72 1549.08 Q783.429 1548.66 780.975 1547.81 L780.975 1543.29 Q782.919 1544.43 785.234 1545.01 Q787.549 1545.58 790.072 1545.58 Q794.47 1545.58 796.762 1543.85 Q799.077 1542.11 799.077 1538.8 Q799.077 1535.75 796.924 1534.03 Q794.794 1532.3 790.975 1532.3 L786.947 1532.3 L786.947 1528.45 L791.16 1528.45 Q794.609 1528.45 796.438 1527.09 Q798.267 1525.7 798.267 1523.11 Q798.267 1520.45 796.368 1519.03 Q794.493 1517.6 790.975 1517.6 Q789.054 1517.6 786.855 1518.01 Q784.656 1518.43 782.017 1519.31 L782.017 1515.14 Q784.679 1514.4 786.993 1514.03 Q789.331 1513.66 791.392 1513.66 Q796.716 1513.66 799.817 1516.09 Q802.919 1518.5 802.919 1522.62 Q802.919 1525.49 801.276 1527.48 Q799.632 1529.45 796.6 1530.21 Z\" fill=\"#000000\" fill-rule=\"nonzero\" fill-opacity=\"1\" /><path clip-path=\"url(#clip460)\" d=\"M1105.25 1517.37 Q1101.64 1517.37 1099.81 1520.93 Q1098 1524.47 1098 1531.6 Q1098 1538.71 1099.81 1542.27 Q1101.64 1545.82 1105.25 1545.82 Q1108.88 1545.82 1110.69 1542.27 Q1112.51 1538.71 1112.51 1531.6 Q1112.51 1524.47 1110.69 1520.93 Q1108.88 1517.37 1105.25 1517.37 M1105.25 1513.66 Q1111.06 1513.66 1114.11 1518.27 Q1117.19 1522.85 1117.19 1531.6 Q1117.19 1540.33 1114.11 1544.94 Q1111.06 1549.52 1105.25 1549.52 Q1099.44 1549.52 1096.36 1544.94 Q1093.3 1540.33 1093.3 1531.6 Q1093.3 1522.85 1096.36 1518.27 Q1099.44 1513.66 1105.25 1513.66 Z\" fill=\"#000000\" fill-rule=\"nonzero\" fill-opacity=\"1\" /><path clip-path=\"url(#clip460)\" d=\"M1125.41 1542.97 L1130.29 1542.97 L1130.29 1548.85 L1125.41 1548.85 L1125.41 1542.97 Z\" fill=\"#000000\" fill-rule=\"nonzero\" fill-opacity=\"1\" /><path clip-path=\"url(#clip460)\" d=\"M1153.32 1518.36 L1141.52 1536.81 L1153.32 1536.81 L1153.32 1518.36 M1152.1 1514.29 L1157.98 1514.29 L1157.98 1536.81 L1162.91 1536.81 L1162.91 1540.7 L1157.98 1540.7 L1157.98 1548.85 L1153.32 1548.85 L1153.32 1540.7 L1137.72 1540.7 L1137.72 1536.19 L1152.1 1514.29 Z\" fill=\"#000000\" fill-rule=\"nonzero\" fill-opacity=\"1\" /><path clip-path=\"url(#clip460)\" d=\"M1464.6 1517.37 Q1460.99 1517.37 1459.16 1520.93 Q1457.35 1524.47 1457.35 1531.6 Q1457.35 1538.71 1459.16 1542.27 Q1460.99 1545.82 1464.6 1545.82 Q1468.23 1545.82 1470.04 1542.27 Q1471.87 1538.71 1471.87 1531.6 Q1471.87 1524.47 1470.04 1520.93 Q1468.23 1517.37 1464.6 1517.37 M1464.6 1513.66 Q1470.41 1513.66 1473.46 1518.27 Q1476.54 1522.85 1476.54 1531.6 Q1476.54 1540.33 1473.46 1544.94 Q1470.41 1549.52 1464.6 1549.52 Q1458.79 1549.52 1455.71 1544.94 Q1452.65 1540.33 1452.65 1531.6 Q1452.65 1522.85 1455.71 1518.27 Q1458.79 1513.66 1464.6 1513.66 Z\" fill=\"#000000\" fill-rule=\"nonzero\" fill-opacity=\"1\" /><path clip-path=\"url(#clip460)\" d=\"M1484.76 1542.97 L1489.64 1542.97 L1489.64 1548.85 L1484.76 1548.85 L1484.76 1542.97 Z\" fill=\"#000000\" fill-rule=\"nonzero\" fill-opacity=\"1\" /><path clip-path=\"url(#clip460)\" d=\"M1499.88 1514.29 L1518.23 1514.29 L1518.23 1518.22 L1504.16 1518.22 L1504.16 1526.7 Q1505.18 1526.35 1506.2 1526.19 Q1507.21 1526 1508.23 1526 Q1514.02 1526 1517.4 1529.17 Q1520.78 1532.34 1520.78 1537.76 Q1520.78 1543.34 1517.31 1546.44 Q1513.83 1549.52 1507.51 1549.52 Q1505.34 1549.52 1503.07 1549.15 Q1500.82 1548.78 1498.42 1548.04 L1498.42 1543.34 Q1500.5 1544.47 1502.72 1545.03 Q1504.95 1545.58 1507.42 1545.58 Q1511.43 1545.58 1513.76 1543.48 Q1516.1 1541.37 1516.1 1537.76 Q1516.1 1534.15 1513.76 1532.04 Q1511.43 1529.94 1507.42 1529.94 Q1505.55 1529.94 1503.67 1530.35 Q1501.82 1530.77 1499.88 1531.65 L1499.88 1514.29 Z\" fill=\"#000000\" fill-rule=\"nonzero\" fill-opacity=\"1\" /><path clip-path=\"url(#clip460)\" d=\"M1822.63 1517.37 Q1819.02 1517.37 1817.19 1520.93 Q1815.39 1524.47 1815.39 1531.6 Q1815.39 1538.71 1817.19 1542.27 Q1819.02 1545.82 1822.63 1545.82 Q1826.26 1545.82 1828.07 1542.27 Q1829.9 1538.71 1829.9 1531.6 Q1829.9 1524.47 1828.07 1520.93 Q1826.26 1517.37 1822.63 1517.37 M1822.63 1513.66 Q1828.44 1513.66 1831.5 1518.27 Q1834.57 1522.85 1834.57 1531.6 Q1834.57 1540.33 1831.5 1544.94 Q1828.44 1549.52 1822.63 1549.52 Q1816.82 1549.52 1813.74 1544.94 Q1810.69 1540.33 1810.69 1531.6 Q1810.69 1522.85 1813.74 1518.27 Q1816.82 1513.66 1822.63 1513.66 Z\" fill=\"#000000\" fill-rule=\"nonzero\" fill-opacity=\"1\" /><path clip-path=\"url(#clip460)\" d=\"M1842.79 1542.97 L1847.68 1542.97 L1847.68 1548.85 L1842.79 1548.85 L1842.79 1542.97 Z\" fill=\"#000000\" fill-rule=\"nonzero\" fill-opacity=\"1\" /><path clip-path=\"url(#clip460)\" d=\"M1868.44 1529.7 Q1865.29 1529.7 1863.44 1531.86 Q1861.61 1534.01 1861.61 1537.76 Q1861.61 1541.49 1863.44 1543.66 Q1865.29 1545.82 1868.44 1545.82 Q1871.59 1545.82 1873.42 1543.66 Q1875.27 1541.49 1875.27 1537.76 Q1875.27 1534.01 1873.42 1531.86 Q1871.59 1529.7 1868.44 1529.7 M1877.72 1515.05 L1877.72 1519.31 Q1875.96 1518.48 1874.16 1518.04 Q1872.38 1517.6 1870.62 1517.6 Q1865.99 1517.6 1863.53 1520.72 Q1861.1 1523.85 1860.76 1530.17 Q1862.12 1528.15 1864.18 1527.09 Q1866.24 1526 1868.72 1526 Q1873.93 1526 1876.94 1529.17 Q1879.97 1532.32 1879.97 1537.76 Q1879.97 1543.08 1876.82 1546.3 Q1873.67 1549.52 1868.44 1549.52 Q1862.45 1549.52 1859.27 1544.94 Q1856.1 1540.33 1856.1 1531.6 Q1856.1 1523.41 1859.99 1518.55 Q1863.88 1513.66 1870.43 1513.66 Q1872.19 1513.66 1873.97 1514.01 Q1875.78 1514.36 1877.72 1515.05 Z\" fill=\"#000000\" fill-rule=\"nonzero\" fill-opacity=\"1\" /><path clip-path=\"url(#clip460)\" d=\"M2181.77 1517.37 Q2178.16 1517.37 2176.33 1520.93 Q2174.53 1524.47 2174.53 1531.6 Q2174.53 1538.71 2176.33 1542.27 Q2178.16 1545.82 2181.77 1545.82 Q2185.41 1545.82 2187.21 1542.27 Q2189.04 1538.71 2189.04 1531.6 Q2189.04 1524.47 2187.21 1520.93 Q2185.41 1517.37 2181.77 1517.37 M2181.77 1513.66 Q2187.58 1513.66 2190.64 1518.27 Q2193.72 1522.85 2193.72 1531.6 Q2193.72 1540.33 2190.64 1544.94 Q2187.58 1549.52 2181.77 1549.52 Q2175.96 1549.52 2172.89 1544.94 Q2169.83 1540.33 2169.83 1531.6 Q2169.83 1522.85 2172.89 1518.27 Q2175.96 1513.66 2181.77 1513.66 Z\" fill=\"#000000\" fill-rule=\"nonzero\" fill-opacity=\"1\" /><path clip-path=\"url(#clip460)\" d=\"M2201.94 1542.97 L2206.82 1542.97 L2206.82 1548.85 L2201.94 1548.85 L2201.94 1542.97 Z\" fill=\"#000000\" fill-rule=\"nonzero\" fill-opacity=\"1\" /><path clip-path=\"url(#clip460)\" d=\"M2215.82 1514.29 L2238.05 1514.29 L2238.05 1516.28 L2225.5 1548.85 L2220.62 1548.85 L2232.42 1518.22 L2215.82 1518.22 L2215.82 1514.29 Z\" fill=\"#000000\" fill-rule=\"nonzero\" fill-opacity=\"1\" /><polyline clip-path=\"url(#clip462)\" style=\"stroke:#000000; stroke-linecap:round; stroke-linejoin:round; stroke-width:2; stroke-opacity:0.1; fill:none\" points=\"156.598,1303.54 2352.76,1303.54 \"/>\n",
       "<polyline clip-path=\"url(#clip462)\" style=\"stroke:#000000; stroke-linecap:round; stroke-linejoin:round; stroke-width:2; stroke-opacity:0.1; fill:none\" points=\"156.598,1040.72 2352.76,1040.72 \"/>\n",
       "<polyline clip-path=\"url(#clip462)\" style=\"stroke:#000000; stroke-linecap:round; stroke-linejoin:round; stroke-width:2; stroke-opacity:0.1; fill:none\" points=\"156.598,777.901 2352.76,777.901 \"/>\n",
       "<polyline clip-path=\"url(#clip462)\" style=\"stroke:#000000; stroke-linecap:round; stroke-linejoin:round; stroke-width:2; stroke-opacity:0.1; fill:none\" points=\"156.598,515.083 2352.76,515.083 \"/>\n",
       "<polyline clip-path=\"url(#clip462)\" style=\"stroke:#000000; stroke-linecap:round; stroke-linejoin:round; stroke-width:2; stroke-opacity:0.1; fill:none\" points=\"156.598,252.266 2352.76,252.266 \"/>\n",
       "<polyline clip-path=\"url(#clip460)\" style=\"stroke:#000000; stroke-linecap:round; stroke-linejoin:round; stroke-width:4; stroke-opacity:1; fill:none\" points=\"156.598,1486.45 156.598,47.2441 \"/>\n",
       "<polyline clip-path=\"url(#clip460)\" style=\"stroke:#000000; stroke-linecap:round; stroke-linejoin:round; stroke-width:4; stroke-opacity:1; fill:none\" points=\"156.598,1303.54 175.496,1303.54 \"/>\n",
       "<polyline clip-path=\"url(#clip460)\" style=\"stroke:#000000; stroke-linecap:round; stroke-linejoin:round; stroke-width:4; stroke-opacity:1; fill:none\" points=\"156.598,1040.72 175.496,1040.72 \"/>\n",
       "<polyline clip-path=\"url(#clip460)\" style=\"stroke:#000000; stroke-linecap:round; stroke-linejoin:round; stroke-width:4; stroke-opacity:1; fill:none\" points=\"156.598,777.901 175.496,777.901 \"/>\n",
       "<polyline clip-path=\"url(#clip460)\" style=\"stroke:#000000; stroke-linecap:round; stroke-linejoin:round; stroke-width:4; stroke-opacity:1; fill:none\" points=\"156.598,515.083 175.496,515.083 \"/>\n",
       "<polyline clip-path=\"url(#clip460)\" style=\"stroke:#000000; stroke-linecap:round; stroke-linejoin:round; stroke-width:4; stroke-opacity:1; fill:none\" points=\"156.598,252.266 175.496,252.266 \"/>\n",
       "<path clip-path=\"url(#clip460)\" d=\"M65.0198 1289.33 Q61.4087 1289.33 59.58 1292.9 Q57.7745 1296.44 57.7745 1303.57 Q57.7745 1310.68 59.58 1314.24 Q61.4087 1317.78 65.0198 1317.78 Q68.6541 1317.78 70.4596 1314.24 Q72.2883 1310.68 72.2883 1303.57 Q72.2883 1296.44 70.4596 1292.9 Q68.6541 1289.33 65.0198 1289.33 M65.0198 1285.63 Q70.83 1285.63 73.8855 1290.24 Q76.9642 1294.82 76.9642 1303.57 Q76.9642 1312.3 73.8855 1316.9 Q70.83 1321.49 65.0198 1321.49 Q59.2097 1321.49 56.131 1316.9 Q53.0754 1312.3 53.0754 1303.57 Q53.0754 1294.82 56.131 1290.24 Q59.2097 1285.63 65.0198 1285.63 Z\" fill=\"#000000\" fill-rule=\"nonzero\" fill-opacity=\"1\" /><path clip-path=\"url(#clip460)\" d=\"M85.1818 1314.94 L90.066 1314.94 L90.066 1320.82 L85.1818 1320.82 L85.1818 1314.94 Z\" fill=\"#000000\" fill-rule=\"nonzero\" fill-opacity=\"1\" /><path clip-path=\"url(#clip460)\" d=\"M104.279 1316.88 L120.598 1316.88 L120.598 1320.82 L98.6539 1320.82 L98.6539 1316.88 Q101.316 1314.13 105.899 1309.5 Q110.506 1304.84 111.686 1303.5 Q113.932 1300.98 114.811 1299.24 Q115.714 1297.48 115.714 1295.79 Q115.714 1293.04 113.77 1291.3 Q111.848 1289.57 108.746 1289.57 Q106.547 1289.57 104.094 1290.33 Q101.663 1291.09 98.8854 1292.64 L98.8854 1287.92 Q101.709 1286.79 104.163 1286.21 Q106.617 1285.63 108.654 1285.63 Q114.024 1285.63 117.219 1288.32 Q120.413 1291 120.413 1295.49 Q120.413 1297.62 119.603 1299.54 Q118.816 1301.44 116.709 1304.03 Q116.131 1304.7 113.029 1307.92 Q109.927 1311.12 104.279 1316.88 Z\" fill=\"#000000\" fill-rule=\"nonzero\" fill-opacity=\"1\" /><path clip-path=\"url(#clip460)\" d=\"M64.0708 1026.52 Q60.4597 1026.52 58.631 1030.08 Q56.8254 1033.62 56.8254 1040.75 Q56.8254 1047.86 58.631 1051.42 Q60.4597 1054.97 64.0708 1054.97 Q67.705 1054.97 69.5105 1051.42 Q71.3392 1047.86 71.3392 1040.75 Q71.3392 1033.62 69.5105 1030.08 Q67.705 1026.52 64.0708 1026.52 M64.0708 1022.81 Q69.8809 1022.81 72.9365 1027.42 Q76.0151 1032 76.0151 1040.75 Q76.0151 1049.48 72.9365 1054.09 Q69.8809 1058.67 64.0708 1058.67 Q58.2606 1058.67 55.1819 1054.09 Q52.1264 1049.48 52.1264 1040.75 Q52.1264 1032 55.1819 1027.42 Q58.2606 1022.81 64.0708 1022.81 Z\" fill=\"#000000\" fill-rule=\"nonzero\" fill-opacity=\"1\" /><path clip-path=\"url(#clip460)\" d=\"M84.2327 1052.12 L89.1169 1052.12 L89.1169 1058 L84.2327 1058 L84.2327 1052.12 Z\" fill=\"#000000\" fill-rule=\"nonzero\" fill-opacity=\"1\" /><path clip-path=\"url(#clip460)\" d=\"M113.469 1039.36 Q116.825 1040.08 118.7 1042.35 Q120.598 1044.62 120.598 1047.95 Q120.598 1053.07 117.08 1055.87 Q113.561 1058.67 107.08 1058.67 Q104.904 1058.67 102.589 1058.23 Q100.297 1057.81 97.8437 1056.96 L97.8437 1052.44 Q99.7882 1053.58 102.103 1054.16 Q104.418 1054.73 106.941 1054.73 Q111.339 1054.73 113.631 1053 Q115.945 1051.26 115.945 1047.95 Q115.945 1044.9 113.793 1043.18 Q111.663 1041.45 107.844 1041.45 L103.816 1041.45 L103.816 1037.6 L108.029 1037.6 Q111.478 1037.6 113.307 1036.24 Q115.135 1034.85 115.135 1032.26 Q115.135 1029.6 113.237 1028.18 Q111.362 1026.75 107.844 1026.75 Q105.922 1026.75 103.723 1027.17 Q101.524 1027.58 98.8854 1028.46 L98.8854 1024.29 Q101.547 1023.55 103.862 1023.18 Q106.2 1022.81 108.26 1022.81 Q113.584 1022.81 116.686 1025.24 Q119.788 1027.65 119.788 1031.77 Q119.788 1034.64 118.145 1036.63 Q116.501 1038.6 113.469 1039.36 Z\" fill=\"#000000\" fill-rule=\"nonzero\" fill-opacity=\"1\" /><path clip-path=\"url(#clip460)\" d=\"M62.9365 763.7 Q59.3254 763.7 57.4967 767.264 Q55.6912 770.806 55.6912 777.936 Q55.6912 785.042 57.4967 788.607 Q59.3254 792.148 62.9365 792.148 Q66.5707 792.148 68.3763 788.607 Q70.205 785.042 70.205 777.936 Q70.205 770.806 68.3763 767.264 Q66.5707 763.7 62.9365 763.7 M62.9365 759.996 Q68.7467 759.996 71.8022 764.602 Q74.8809 769.186 74.8809 777.936 Q74.8809 786.662 71.8022 791.269 Q68.7467 795.852 62.9365 795.852 Q57.1264 795.852 54.0477 791.269 Q50.9921 786.662 50.9921 777.936 Q50.9921 769.186 54.0477 764.602 Q57.1264 759.996 62.9365 759.996 Z\" fill=\"#000000\" fill-rule=\"nonzero\" fill-opacity=\"1\" /><path clip-path=\"url(#clip460)\" d=\"M83.0984 789.301 L87.9827 789.301 L87.9827 795.181 L83.0984 795.181 L83.0984 789.301 Z\" fill=\"#000000\" fill-rule=\"nonzero\" fill-opacity=\"1\" /><path clip-path=\"url(#clip460)\" d=\"M111.015 764.695 L99.2095 783.144 L111.015 783.144 L111.015 764.695 M109.788 760.621 L115.668 760.621 L115.668 783.144 L120.598 783.144 L120.598 787.033 L115.668 787.033 L115.668 795.181 L111.015 795.181 L111.015 787.033 L95.4132 787.033 L95.4132 782.519 L109.788 760.621 Z\" fill=\"#000000\" fill-rule=\"nonzero\" fill-opacity=\"1\" /><path clip-path=\"url(#clip460)\" d=\"M64.418 500.882 Q60.8069 500.882 58.9782 504.447 Q57.1726 507.989 57.1726 515.118 Q57.1726 522.225 58.9782 525.789 Q60.8069 529.331 64.418 529.331 Q68.0522 529.331 69.8578 525.789 Q71.6865 522.225 71.6865 515.118 Q71.6865 507.989 69.8578 504.447 Q68.0522 500.882 64.418 500.882 M64.418 497.178 Q70.2281 497.178 73.2837 501.785 Q76.3624 506.368 76.3624 515.118 Q76.3624 523.845 73.2837 528.451 Q70.2281 533.035 64.418 533.035 Q58.6078 533.035 55.5291 528.451 Q52.4736 523.845 52.4736 515.118 Q52.4736 506.368 55.5291 501.785 Q58.6078 497.178 64.418 497.178 Z\" fill=\"#000000\" fill-rule=\"nonzero\" fill-opacity=\"1\" /><path clip-path=\"url(#clip460)\" d=\"M84.5799 526.484 L89.4641 526.484 L89.4641 532.363 L84.5799 532.363 L84.5799 526.484 Z\" fill=\"#000000\" fill-rule=\"nonzero\" fill-opacity=\"1\" /><path clip-path=\"url(#clip460)\" d=\"M99.6956 497.803 L118.052 497.803 L118.052 501.739 L103.978 501.739 L103.978 510.211 Q104.996 509.864 106.015 509.702 Q107.033 509.516 108.052 509.516 Q113.839 509.516 117.219 512.688 Q120.598 515.859 120.598 521.276 Q120.598 526.854 117.126 529.956 Q113.654 533.035 107.334 533.035 Q105.159 533.035 102.89 532.664 Q100.645 532.294 98.2372 531.553 L98.2372 526.854 Q100.321 527.988 102.543 528.544 Q104.765 529.1 107.242 529.1 Q111.246 529.1 113.584 526.993 Q115.922 524.887 115.922 521.276 Q115.922 517.664 113.584 515.558 Q111.246 513.451 107.242 513.451 Q105.367 513.451 103.492 513.868 Q101.64 514.285 99.6956 515.164 L99.6956 497.803 Z\" fill=\"#000000\" fill-rule=\"nonzero\" fill-opacity=\"1\" /><path clip-path=\"url(#clip460)\" d=\"M63.2606 238.065 Q59.6495 238.065 57.8208 241.63 Q56.0152 245.171 56.0152 252.301 Q56.0152 259.407 57.8208 262.972 Q59.6495 266.514 63.2606 266.514 Q66.8948 266.514 68.7004 262.972 Q70.5291 259.407 70.5291 252.301 Q70.5291 245.171 68.7004 241.63 Q66.8948 238.065 63.2606 238.065 M63.2606 234.361 Q69.0707 234.361 72.1263 238.967 Q75.205 243.551 75.205 252.301 Q75.205 261.028 72.1263 265.634 Q69.0707 270.217 63.2606 270.217 Q57.4504 270.217 54.3717 265.634 Q51.3162 261.028 51.3162 252.301 Q51.3162 243.551 54.3717 238.967 Q57.4504 234.361 63.2606 234.361 Z\" fill=\"#000000\" fill-rule=\"nonzero\" fill-opacity=\"1\" /><path clip-path=\"url(#clip460)\" d=\"M83.4225 263.666 L88.3067 263.666 L88.3067 269.546 L83.4225 269.546 L83.4225 263.666 Z\" fill=\"#000000\" fill-rule=\"nonzero\" fill-opacity=\"1\" /><path clip-path=\"url(#clip460)\" d=\"M109.071 250.403 Q105.922 250.403 104.071 252.555 Q102.242 254.708 102.242 258.458 Q102.242 262.185 104.071 264.361 Q105.922 266.514 109.071 266.514 Q112.219 266.514 114.047 264.361 Q115.899 262.185 115.899 258.458 Q115.899 254.708 114.047 252.555 Q112.219 250.403 109.071 250.403 M118.353 235.75 L118.353 240.009 Q116.594 239.176 114.788 238.736 Q113.006 238.296 111.246 238.296 Q106.617 238.296 104.163 241.421 Q101.733 244.546 101.385 250.866 Q102.751 248.852 104.811 247.787 Q106.871 246.699 109.348 246.699 Q114.557 246.699 117.566 249.87 Q120.598 253.018 120.598 258.458 Q120.598 263.782 117.45 267 Q114.302 270.217 109.071 270.217 Q103.075 270.217 99.9039 265.634 Q96.7326 261.028 96.7326 252.301 Q96.7326 244.106 100.621 239.245 Q104.51 234.361 111.061 234.361 Q112.82 234.361 114.603 234.708 Q116.408 235.055 118.353 235.75 Z\" fill=\"#000000\" fill-rule=\"nonzero\" fill-opacity=\"1\" /><polyline clip-path=\"url(#clip462)\" style=\"stroke:#009af9; stroke-linecap:round; stroke-linejoin:round; stroke-width:4; stroke-opacity:1; fill:none\" points=\"2290.6,87.9763 1829.33,354.886 1224.67,740.907 431.641,1292.13 218.754,1445.72 333.044,1363.06 1708.24,429.176 312.672,1377.76 643.893,1140.89 2107.05,190.972 \"/>\n",
       "<path clip-path=\"url(#clip460)\" d=\"M229.803 198.898 L501.85 198.898 L501.85 95.2176 L229.803 95.2176  Z\" fill=\"#ffffff\" fill-rule=\"evenodd\" fill-opacity=\"1\"/>\n",
       "<polyline clip-path=\"url(#clip460)\" style=\"stroke:#000000; stroke-linecap:round; stroke-linejoin:round; stroke-width:4; stroke-opacity:1; fill:none\" points=\"229.803,198.898 501.85,198.898 501.85,95.2176 229.803,95.2176 229.803,198.898 \"/>\n",
       "<polyline clip-path=\"url(#clip460)\" style=\"stroke:#009af9; stroke-linecap:round; stroke-linejoin:round; stroke-width:4; stroke-opacity:1; fill:none\" points=\"254.205,147.058 400.616,147.058 \"/>\n",
       "<path clip-path=\"url(#clip460)\" d=\"M438.86 166.745 Q437.054 171.375 435.342 172.787 Q433.629 174.199 430.758 174.199 L427.355 174.199 L427.355 170.634 L429.855 170.634 Q431.615 170.634 432.587 169.8 Q433.559 168.967 434.74 165.865 L435.504 163.921 L425.018 138.412 L429.531 138.412 L437.633 158.689 L445.735 138.412 L450.249 138.412 L438.86 166.745 Z\" fill=\"#000000\" fill-rule=\"nonzero\" fill-opacity=\"1\" /><path clip-path=\"url(#clip460)\" d=\"M457.54 160.402 L465.179 160.402 L465.179 134.037 L456.869 135.703 L456.869 131.444 L465.133 129.778 L469.809 129.778 L469.809 160.402 L477.448 160.402 L477.448 164.338 L457.54 164.338 L457.54 160.402 Z\" fill=\"#000000\" fill-rule=\"nonzero\" fill-opacity=\"1\" /></svg>\n"
      ]
     },
     "metadata": {},
     "output_type": "display_data"
    }
   ],
   "source": [
    "using Plots\n",
    "\n",
    "plot(sin, rand(10))"
   ]
  },
  {
   "cell_type": "code",
   "execution_count": 11,
   "metadata": {},
   "outputs": [
    {
     "data": {
      "image/png": "[encoded data removed]",
      "image/svg+xml": [
       "<?xml version=\"1.0\" encoding=\"utf-8\"?>\n",
       "<svg xmlns=\"http://www.w3.org/2000/svg\" xmlns:xlink=\"http://www.w3.org/1999/xlink\" width=\"600\" height=\"400\" viewBox=\"0 0 2400 1600\">\n",
       "<defs>\n",
       "  <clipPath id=\"clip500\">\n",
       "    <rect x=\"0\" y=\"0\" width=\"2400\" height=\"1600\"/>\n",
       "  </clipPath>\n",
       "</defs>\n",
       "<path clip-path=\"url(#clip500)\" d=\"M0 1600 L2400 1600 L2400 0 L0 0  Z\" fill=\"#ffffff\" fill-rule=\"evenodd\" fill-opacity=\"1\"/>\n",
       "<defs>\n",
       "  <clipPath id=\"clip501\">\n",
       "    <rect x=\"480\" y=\"0\" width=\"1681\" height=\"1600\"/>\n",
       "  </clipPath>\n",
       "</defs>\n",
       "<path clip-path=\"url(#clip500)\" d=\"M219.866 1423.18 L2352.76 1423.18 L2352.76 123.472 L219.866 123.472  Z\" fill=\"#ffffff\" fill-rule=\"evenodd\" fill-opacity=\"1\"/>\n",
       "<defs>\n",
       "  <clipPath id=\"clip502\">\n",
       "    <rect x=\"219\" y=\"123\" width=\"2134\" height=\"1301\"/>\n",
       "  </clipPath>\n",
       "</defs>\n",
       "<polyline clip-path=\"url(#clip502)\" style=\"stroke:#000000; stroke-linecap:round; stroke-linejoin:round; stroke-width:2; stroke-opacity:0.1; fill:none\" points=\"466.825,1423.18 466.825,123.472 \"/>\n",
       "<polyline clip-path=\"url(#clip502)\" style=\"stroke:#000000; stroke-linecap:round; stroke-linejoin:round; stroke-width:2; stroke-opacity:0.1; fill:none\" points=\"815.105,1423.18 815.105,123.472 \"/>\n",
       "<polyline clip-path=\"url(#clip502)\" style=\"stroke:#000000; stroke-linecap:round; stroke-linejoin:round; stroke-width:2; stroke-opacity:0.1; fill:none\" points=\"1163.39,1423.18 1163.39,123.472 \"/>\n",
       "<polyline clip-path=\"url(#clip502)\" style=\"stroke:#000000; stroke-linecap:round; stroke-linejoin:round; stroke-width:2; stroke-opacity:0.1; fill:none\" points=\"1511.67,1423.18 1511.67,123.472 \"/>\n",
       "<polyline clip-path=\"url(#clip502)\" style=\"stroke:#000000; stroke-linecap:round; stroke-linejoin:round; stroke-width:2; stroke-opacity:0.1; fill:none\" points=\"1859.95,1423.18 1859.95,123.472 \"/>\n",
       "<polyline clip-path=\"url(#clip502)\" style=\"stroke:#000000; stroke-linecap:round; stroke-linejoin:round; stroke-width:2; stroke-opacity:0.1; fill:none\" points=\"2208.23,1423.18 2208.23,123.472 \"/>\n",
       "<polyline clip-path=\"url(#clip500)\" style=\"stroke:#000000; stroke-linecap:round; stroke-linejoin:round; stroke-width:4; stroke-opacity:1; fill:none\" points=\"219.866,1423.18 2352.76,1423.18 \"/>\n",
       "<polyline clip-path=\"url(#clip500)\" style=\"stroke:#000000; stroke-linecap:round; stroke-linejoin:round; stroke-width:4; stroke-opacity:1; fill:none\" points=\"466.825,1423.18 466.825,1404.28 \"/>\n",
       "<polyline clip-path=\"url(#clip500)\" style=\"stroke:#000000; stroke-linecap:round; stroke-linejoin:round; stroke-width:4; stroke-opacity:1; fill:none\" points=\"815.105,1423.18 815.105,1404.28 \"/>\n",
       "<polyline clip-path=\"url(#clip500)\" style=\"stroke:#000000; stroke-linecap:round; stroke-linejoin:round; stroke-width:4; stroke-opacity:1; fill:none\" points=\"1163.39,1423.18 1163.39,1404.28 \"/>\n",
       "<polyline clip-path=\"url(#clip500)\" style=\"stroke:#000000; stroke-linecap:round; stroke-linejoin:round; stroke-width:4; stroke-opacity:1; fill:none\" points=\"1511.67,1423.18 1511.67,1404.28 \"/>\n",
       "<polyline clip-path=\"url(#clip500)\" style=\"stroke:#000000; stroke-linecap:round; stroke-linejoin:round; stroke-width:4; stroke-opacity:1; fill:none\" points=\"1859.95,1423.18 1859.95,1404.28 \"/>\n",
       "<polyline clip-path=\"url(#clip500)\" style=\"stroke:#000000; stroke-linecap:round; stroke-linejoin:round; stroke-width:4; stroke-opacity:1; fill:none\" points=\"2208.23,1423.18 2208.23,1404.28 \"/>\n",
       "<path clip-path=\"url(#clip500)\" d=\"M445.008 1454.1 Q441.397 1454.1 439.568 1457.66 Q437.763 1461.2 437.763 1468.33 Q437.763 1475.44 439.568 1479.01 Q441.397 1482.55 445.008 1482.55 Q448.642 1482.55 450.448 1479.01 Q452.276 1475.44 452.276 1468.33 Q452.276 1461.2 450.448 1457.66 Q448.642 1454.1 445.008 1454.1 M445.008 1450.39 Q450.818 1450.39 453.874 1455 Q456.952 1459.58 456.952 1468.33 Q456.952 1477.06 453.874 1481.67 Q450.818 1486.25 445.008 1486.25 Q439.198 1486.25 436.119 1481.67 Q433.063 1477.06 433.063 1468.33 Q433.063 1459.58 436.119 1455 Q439.198 1450.39 445.008 1450.39 Z\" fill=\"#000000\" fill-rule=\"nonzero\" fill-opacity=\"1\" /><path clip-path=\"url(#clip500)\" d=\"M465.17 1479.7 L470.054 1479.7 L470.054 1485.58 L465.17 1485.58 L465.17 1479.7 Z\" fill=\"#000000\" fill-rule=\"nonzero\" fill-opacity=\"1\" /><path clip-path=\"url(#clip500)\" d=\"M484.267 1481.64 L500.586 1481.64 L500.586 1485.58 L478.642 1485.58 L478.642 1481.64 Q481.304 1478.89 485.887 1474.26 Q490.494 1469.61 491.674 1468.27 Q493.92 1465.74 494.799 1464.01 Q495.702 1462.25 495.702 1460.56 Q495.702 1457.8 493.758 1456.07 Q491.836 1454.33 488.734 1454.33 Q486.535 1454.33 484.082 1455.09 Q481.651 1455.86 478.873 1457.41 L478.873 1452.69 Q481.697 1451.55 484.151 1450.97 Q486.605 1450.39 488.642 1450.39 Q494.012 1450.39 497.207 1453.08 Q500.401 1455.77 500.401 1460.26 Q500.401 1462.39 499.591 1464.31 Q498.804 1466.2 496.697 1468.8 Q496.119 1469.47 493.017 1472.69 Q489.915 1475.88 484.267 1481.64 Z\" fill=\"#000000\" fill-rule=\"nonzero\" fill-opacity=\"1\" /><path clip-path=\"url(#clip500)\" d=\"M792.813 1454.1 Q789.202 1454.1 787.374 1457.66 Q785.568 1461.2 785.568 1468.33 Q785.568 1475.44 787.374 1479.01 Q789.202 1482.55 792.813 1482.55 Q796.448 1482.55 798.253 1479.01 Q800.082 1475.44 800.082 1468.33 Q800.082 1461.2 798.253 1457.66 Q796.448 1454.1 792.813 1454.1 M792.813 1450.39 Q798.624 1450.39 801.679 1455 Q804.758 1459.58 804.758 1468.33 Q804.758 1477.06 801.679 1481.67 Q798.624 1486.25 792.813 1486.25 Q787.003 1486.25 783.925 1481.67 Q780.869 1477.06 780.869 1468.33 Q780.869 1459.58 783.925 1455 Q787.003 1450.39 792.813 1450.39 Z\" fill=\"#000000\" fill-rule=\"nonzero\" fill-opacity=\"1\" /><path clip-path=\"url(#clip500)\" d=\"M812.975 1479.7 L817.86 1479.7 L817.86 1485.58 L812.975 1485.58 L812.975 1479.7 Z\" fill=\"#000000\" fill-rule=\"nonzero\" fill-opacity=\"1\" /><path clip-path=\"url(#clip500)\" d=\"M842.211 1466.95 Q845.568 1467.66 847.443 1469.93 Q849.341 1472.2 849.341 1475.53 Q849.341 1480.65 845.822 1483.45 Q842.304 1486.25 835.822 1486.25 Q833.647 1486.25 831.332 1485.81 Q829.04 1485.39 826.586 1484.54 L826.586 1480.02 Q828.531 1481.16 830.846 1481.74 Q833.16 1482.32 835.684 1482.32 Q840.082 1482.32 842.373 1480.58 Q844.688 1478.84 844.688 1475.53 Q844.688 1472.48 842.535 1470.77 Q840.406 1469.03 836.586 1469.03 L832.559 1469.03 L832.559 1465.19 L836.772 1465.19 Q840.221 1465.19 842.049 1463.82 Q843.878 1462.43 843.878 1459.84 Q843.878 1457.18 841.98 1455.77 Q840.105 1454.33 836.586 1454.33 Q834.665 1454.33 832.466 1454.75 Q830.267 1455.16 827.628 1456.04 L827.628 1451.88 Q830.29 1451.14 832.605 1450.77 Q834.943 1450.39 837.003 1450.39 Q842.327 1450.39 845.429 1452.83 Q848.531 1455.23 848.531 1459.35 Q848.531 1462.22 846.887 1464.21 Q845.244 1466.18 842.211 1466.95 Z\" fill=\"#000000\" fill-rule=\"nonzero\" fill-opacity=\"1\" /><path clip-path=\"url(#clip500)\" d=\"M1140.53 1454.1 Q1136.92 1454.1 1135.09 1457.66 Q1133.28 1461.2 1133.28 1468.33 Q1133.28 1475.44 1135.09 1479.01 Q1136.92 1482.55 1140.53 1482.55 Q1144.16 1482.55 1145.97 1479.01 Q1147.79 1475.44 1147.79 1468.33 Q1147.79 1461.2 1145.97 1457.66 Q1144.16 1454.1 1140.53 1454.1 M1140.53 1450.39 Q1146.34 1450.39 1149.39 1455 Q1152.47 1459.58 1152.47 1468.33 Q1152.47 1477.06 1149.39 1481.67 Q1146.34 1486.25 1140.53 1486.25 Q1134.72 1486.25 1131.64 1481.67 Q1128.58 1477.06 1128.58 1468.33 Q1128.58 1459.58 1131.64 1455 Q1134.72 1450.39 1140.53 1450.39 Z\" fill=\"#000000\" fill-rule=\"nonzero\" fill-opacity=\"1\" /><path clip-path=\"url(#clip500)\" d=\"M1160.69 1479.7 L1165.57 1479.7 L1165.57 1485.58 L1160.69 1485.58 L1160.69 1479.7 Z\" fill=\"#000000\" fill-rule=\"nonzero\" fill-opacity=\"1\" /><path clip-path=\"url(#clip500)\" d=\"M1188.6 1455.09 L1176.8 1473.54 L1188.6 1473.54 L1188.6 1455.09 M1187.38 1451.02 L1193.26 1451.02 L1193.26 1473.54 L1198.19 1473.54 L1198.19 1477.43 L1193.26 1477.43 L1193.26 1485.58 L1188.6 1485.58 L1188.6 1477.43 L1173 1477.43 L1173 1472.92 L1187.38 1451.02 Z\" fill=\"#000000\" fill-rule=\"nonzero\" fill-opacity=\"1\" /><path clip-path=\"url(#clip500)\" d=\"M1489.55 1454.1 Q1485.94 1454.1 1484.11 1457.66 Q1482.3 1461.2 1482.3 1468.33 Q1482.3 1475.44 1484.11 1479.01 Q1485.94 1482.55 1489.55 1482.55 Q1493.18 1482.55 1494.99 1479.01 Q1496.82 1475.44 1496.82 1468.33 Q1496.82 1461.2 1494.99 1457.66 Q1493.18 1454.1 1489.55 1454.1 M1489.55 1450.39 Q1495.36 1450.39 1498.41 1455 Q1501.49 1459.58 1501.49 1468.33 Q1501.49 1477.06 1498.41 1481.67 Q1495.36 1486.25 1489.55 1486.25 Q1483.74 1486.25 1480.66 1481.67 Q1477.6 1477.06 1477.6 1468.33 Q1477.6 1459.58 1480.66 1455 Q1483.74 1450.39 1489.55 1450.39 Z\" fill=\"#000000\" fill-rule=\"nonzero\" fill-opacity=\"1\" /><path clip-path=\"url(#clip500)\" d=\"M1509.71 1479.7 L1514.59 1479.7 L1514.59 1485.58 L1509.71 1485.58 L1509.71 1479.7 Z\" fill=\"#000000\" fill-rule=\"nonzero\" fill-opacity=\"1\" /><path clip-path=\"url(#clip500)\" d=\"M1524.82 1451.02 L1543.18 1451.02 L1543.18 1454.96 L1529.11 1454.96 L1529.11 1463.43 Q1530.13 1463.08 1531.14 1462.92 Q1532.16 1462.73 1533.18 1462.73 Q1538.97 1462.73 1542.35 1465.9 Q1545.73 1469.08 1545.73 1474.49 Q1545.73 1480.07 1542.26 1483.17 Q1538.78 1486.25 1532.46 1486.25 Q1530.29 1486.25 1528.02 1485.88 Q1525.77 1485.51 1523.37 1484.77 L1523.37 1480.07 Q1525.45 1481.2 1527.67 1481.76 Q1529.89 1482.32 1532.37 1482.32 Q1536.38 1482.32 1538.71 1480.21 Q1541.05 1478.1 1541.05 1474.49 Q1541.05 1470.88 1538.71 1468.77 Q1536.38 1466.67 1532.37 1466.67 Q1530.5 1466.67 1528.62 1467.08 Q1526.77 1467.5 1524.82 1468.38 L1524.82 1451.02 Z\" fill=\"#000000\" fill-rule=\"nonzero\" fill-opacity=\"1\" /><path clip-path=\"url(#clip500)\" d=\"M1837.25 1454.1 Q1833.64 1454.1 1831.81 1457.66 Q1830 1461.2 1830 1468.33 Q1830 1475.44 1831.81 1479.01 Q1833.64 1482.55 1837.25 1482.55 Q1840.88 1482.55 1842.69 1479.01 Q1844.52 1475.44 1844.52 1468.33 Q1844.52 1461.2 1842.69 1457.66 Q1840.88 1454.1 1837.25 1454.1 M1837.25 1450.39 Q1843.06 1450.39 1846.11 1455 Q1849.19 1459.58 1849.19 1468.33 Q1849.19 1477.06 1846.11 1481.67 Q1843.06 1486.25 1837.25 1486.25 Q1831.44 1486.25 1828.36 1481.67 Q1825.3 1477.06 1825.3 1468.33 Q1825.3 1459.58 1828.36 1455 Q1831.44 1450.39 1837.25 1450.39 Z\" fill=\"#000000\" fill-rule=\"nonzero\" fill-opacity=\"1\" /><path clip-path=\"url(#clip500)\" d=\"M1857.41 1479.7 L1862.29 1479.7 L1862.29 1485.58 L1857.41 1485.58 L1857.41 1479.7 Z\" fill=\"#000000\" fill-rule=\"nonzero\" fill-opacity=\"1\" /><path clip-path=\"url(#clip500)\" d=\"M1883.06 1466.44 Q1879.91 1466.44 1878.06 1468.59 Q1876.23 1470.74 1876.23 1474.49 Q1876.23 1478.22 1878.06 1480.39 Q1879.91 1482.55 1883.06 1482.55 Q1886.21 1482.55 1888.04 1480.39 Q1889.89 1478.22 1889.89 1474.49 Q1889.89 1470.74 1888.04 1468.59 Q1886.21 1466.44 1883.06 1466.44 M1892.34 1451.78 L1892.34 1456.04 Q1890.58 1455.21 1888.78 1454.77 Q1886.99 1454.33 1885.23 1454.33 Q1880.61 1454.33 1878.15 1457.45 Q1875.72 1460.58 1875.37 1466.9 Q1876.74 1464.89 1878.8 1463.82 Q1880.86 1462.73 1883.34 1462.73 Q1888.54 1462.73 1891.55 1465.9 Q1894.59 1469.05 1894.59 1474.49 Q1894.59 1479.82 1891.44 1483.03 Q1888.29 1486.25 1883.06 1486.25 Q1877.06 1486.25 1873.89 1481.67 Q1870.72 1477.06 1870.72 1468.33 Q1870.72 1460.14 1874.61 1455.28 Q1878.5 1450.39 1885.05 1450.39 Q1886.81 1450.39 1888.59 1450.74 Q1890.4 1451.09 1892.34 1451.78 Z\" fill=\"#000000\" fill-rule=\"nonzero\" fill-opacity=\"1\" /><path clip-path=\"url(#clip500)\" d=\"M2186.06 1454.1 Q2182.45 1454.1 2180.62 1457.66 Q2178.82 1461.2 2178.82 1468.33 Q2178.82 1475.44 2180.62 1479.01 Q2182.45 1482.55 2186.06 1482.55 Q2189.7 1482.55 2191.5 1479.01 Q2193.33 1475.44 2193.33 1468.33 Q2193.33 1461.2 2191.5 1457.66 Q2189.7 1454.1 2186.06 1454.1 M2186.06 1450.39 Q2191.87 1450.39 2194.93 1455 Q2198.01 1459.58 2198.01 1468.33 Q2198.01 1477.06 2194.93 1481.67 Q2191.87 1486.25 2186.06 1486.25 Q2180.25 1486.25 2177.17 1481.67 Q2174.12 1477.06 2174.12 1468.33 Q2174.12 1459.58 2177.17 1455 Q2180.25 1450.39 2186.06 1450.39 Z\" fill=\"#000000\" fill-rule=\"nonzero\" fill-opacity=\"1\" /><path clip-path=\"url(#clip500)\" d=\"M2206.22 1479.7 L2211.11 1479.7 L2211.11 1485.58 L2206.22 1485.58 L2206.22 1479.7 Z\" fill=\"#000000\" fill-rule=\"nonzero\" fill-opacity=\"1\" /><path clip-path=\"url(#clip500)\" d=\"M2220.11 1451.02 L2242.33 1451.02 L2242.33 1453.01 L2229.79 1485.58 L2224.9 1485.58 L2236.71 1454.96 L2220.11 1454.96 L2220.11 1451.02 Z\" fill=\"#000000\" fill-rule=\"nonzero\" fill-opacity=\"1\" /><path clip-path=\"url(#clip500)\" d=\"M1302.93 1532.4 L1290.04 1549.74 L1303.59 1568.04 L1296.69 1568.04 L1286.31 1554.04 L1275.93 1568.04 L1269.03 1568.04 L1282.87 1549.39 L1270.21 1532.4 L1277.11 1532.4 L1286.57 1545.1 L1296.02 1532.4 L1302.93 1532.4 Z\" fill=\"#000000\" fill-rule=\"nonzero\" fill-opacity=\"1\" /><polyline clip-path=\"url(#clip502)\" style=\"stroke:#000000; stroke-linecap:round; stroke-linejoin:round; stroke-width:2; stroke-opacity:0.1; fill:none\" points=\"219.866,1258 2352.76,1258 \"/>\n",
       "<polyline clip-path=\"url(#clip502)\" style=\"stroke:#000000; stroke-linecap:round; stroke-linejoin:round; stroke-width:2; stroke-opacity:0.1; fill:none\" points=\"219.866,1020.65 2352.76,1020.65 \"/>\n",
       "<polyline clip-path=\"url(#clip502)\" style=\"stroke:#000000; stroke-linecap:round; stroke-linejoin:round; stroke-width:2; stroke-opacity:0.1; fill:none\" points=\"219.866,783.309 2352.76,783.309 \"/>\n",
       "<polyline clip-path=\"url(#clip502)\" style=\"stroke:#000000; stroke-linecap:round; stroke-linejoin:round; stroke-width:2; stroke-opacity:0.1; fill:none\" points=\"219.866,545.966 2352.76,545.966 \"/>\n",
       "<polyline clip-path=\"url(#clip502)\" style=\"stroke:#000000; stroke-linecap:round; stroke-linejoin:round; stroke-width:2; stroke-opacity:0.1; fill:none\" points=\"219.866,308.622 2352.76,308.622 \"/>\n",
       "<polyline clip-path=\"url(#clip500)\" style=\"stroke:#000000; stroke-linecap:round; stroke-linejoin:round; stroke-width:4; stroke-opacity:1; fill:none\" points=\"219.866,1423.18 219.866,123.472 \"/>\n",
       "<polyline clip-path=\"url(#clip500)\" style=\"stroke:#000000; stroke-linecap:round; stroke-linejoin:round; stroke-width:4; stroke-opacity:1; fill:none\" points=\"219.866,1258 238.764,1258 \"/>\n",
       "<polyline clip-path=\"url(#clip500)\" style=\"stroke:#000000; stroke-linecap:round; stroke-linejoin:round; stroke-width:4; stroke-opacity:1; fill:none\" points=\"219.866,1020.65 238.764,1020.65 \"/>\n",
       "<polyline clip-path=\"url(#clip500)\" style=\"stroke:#000000; stroke-linecap:round; stroke-linejoin:round; stroke-width:4; stroke-opacity:1; fill:none\" points=\"219.866,783.309 238.764,783.309 \"/>\n",
       "<polyline clip-path=\"url(#clip500)\" style=\"stroke:#000000; stroke-linecap:round; stroke-linejoin:round; stroke-width:4; stroke-opacity:1; fill:none\" points=\"219.866,545.966 238.764,545.966 \"/>\n",
       "<polyline clip-path=\"url(#clip500)\" style=\"stroke:#000000; stroke-linecap:round; stroke-linejoin:round; stroke-width:4; stroke-opacity:1; fill:none\" points=\"219.866,308.622 238.764,308.622 \"/>\n",
       "<path clip-path=\"url(#clip500)\" d=\"M128.288 1243.8 Q124.677 1243.8 122.848 1247.36 Q121.043 1250.9 121.043 1258.03 Q121.043 1265.14 122.848 1268.7 Q124.677 1272.24 128.288 1272.24 Q131.922 1272.24 133.728 1268.7 Q135.556 1265.14 135.556 1258.03 Q135.556 1250.9 133.728 1247.36 Q131.922 1243.8 128.288 1243.8 M128.288 1240.09 Q134.098 1240.09 137.154 1244.7 Q140.232 1249.28 140.232 1258.03 Q140.232 1266.76 137.154 1271.36 Q134.098 1275.95 128.288 1275.95 Q122.478 1275.95 119.399 1271.36 Q116.343 1266.76 116.343 1258.03 Q116.343 1249.28 119.399 1244.7 Q122.478 1240.09 128.288 1240.09 Z\" fill=\"#000000\" fill-rule=\"nonzero\" fill-opacity=\"1\" /><path clip-path=\"url(#clip500)\" d=\"M148.45 1269.4 L153.334 1269.4 L153.334 1275.28 L148.45 1275.28 L148.45 1269.4 Z\" fill=\"#000000\" fill-rule=\"nonzero\" fill-opacity=\"1\" /><path clip-path=\"url(#clip500)\" d=\"M167.547 1271.34 L183.866 1271.34 L183.866 1275.28 L161.922 1275.28 L161.922 1271.34 Q164.584 1268.59 169.167 1263.96 Q173.774 1259.3 174.954 1257.96 Q177.2 1255.44 178.079 1253.7 Q178.982 1251.94 178.982 1250.25 Q178.982 1247.5 177.038 1245.76 Q175.116 1244.03 172.014 1244.03 Q169.815 1244.03 167.362 1244.79 Q164.931 1245.55 162.153 1247.11 L162.153 1242.38 Q164.977 1241.25 167.431 1240.67 Q169.885 1240.09 171.922 1240.09 Q177.292 1240.09 180.487 1242.78 Q183.681 1245.46 183.681 1249.95 Q183.681 1252.08 182.871 1254 Q182.084 1255.9 179.977 1258.49 Q179.399 1259.17 176.297 1262.38 Q173.195 1265.58 167.547 1271.34 Z\" fill=\"#000000\" fill-rule=\"nonzero\" fill-opacity=\"1\" /><path clip-path=\"url(#clip500)\" d=\"M127.339 1006.45 Q123.728 1006.45 121.899 1010.02 Q120.093 1013.56 120.093 1020.69 Q120.093 1027.79 121.899 1031.36 Q123.728 1034.9 127.339 1034.9 Q130.973 1034.9 132.779 1031.36 Q134.607 1027.79 134.607 1020.69 Q134.607 1013.56 132.779 1010.02 Q130.973 1006.45 127.339 1006.45 M127.339 1002.75 Q133.149 1002.75 136.204 1007.35 Q139.283 1011.94 139.283 1020.69 Q139.283 1029.41 136.204 1034.02 Q133.149 1038.6 127.339 1038.6 Q121.529 1038.6 118.45 1034.02 Q115.394 1029.41 115.394 1020.69 Q115.394 1011.94 118.45 1007.35 Q121.529 1002.75 127.339 1002.75 Z\" fill=\"#000000\" fill-rule=\"nonzero\" fill-opacity=\"1\" /><path clip-path=\"url(#clip500)\" d=\"M147.501 1032.05 L152.385 1032.05 L152.385 1037.93 L147.501 1037.93 L147.501 1032.05 Z\" fill=\"#000000\" fill-rule=\"nonzero\" fill-opacity=\"1\" /><path clip-path=\"url(#clip500)\" d=\"M176.737 1019.3 Q180.093 1020.02 181.968 1022.28 Q183.866 1024.55 183.866 1027.89 Q183.866 1033 180.348 1035.8 Q176.829 1038.6 170.348 1038.6 Q168.172 1038.6 165.857 1038.16 Q163.565 1037.75 161.112 1036.89 L161.112 1032.38 Q163.056 1033.51 165.371 1034.09 Q167.686 1034.67 170.209 1034.67 Q174.607 1034.67 176.899 1032.93 Q179.214 1031.2 179.214 1027.89 Q179.214 1024.83 177.061 1023.12 Q174.931 1021.38 171.112 1021.38 L167.084 1021.38 L167.084 1017.54 L171.297 1017.54 Q174.746 1017.54 176.575 1016.17 Q178.403 1014.78 178.403 1012.19 Q178.403 1009.53 176.505 1008.12 Q174.63 1006.68 171.112 1006.68 Q169.19 1006.68 166.991 1007.1 Q164.792 1007.52 162.153 1008.4 L162.153 1004.23 Q164.815 1003.49 167.13 1003.12 Q169.468 1002.75 171.528 1002.75 Q176.852 1002.75 179.954 1005.18 Q183.056 1007.59 183.056 1011.71 Q183.056 1014.58 181.413 1016.57 Q179.769 1018.53 176.737 1019.3 Z\" fill=\"#000000\" fill-rule=\"nonzero\" fill-opacity=\"1\" /><path clip-path=\"url(#clip500)\" d=\"M126.205 769.108 Q122.593 769.108 120.765 772.673 Q118.959 776.214 118.959 783.344 Q118.959 790.45 120.765 794.015 Q122.593 797.557 126.205 797.557 Q129.839 797.557 131.644 794.015 Q133.473 790.45 133.473 783.344 Q133.473 776.214 131.644 772.673 Q129.839 769.108 126.205 769.108 M126.205 765.404 Q132.015 765.404 135.07 770.011 Q138.149 774.594 138.149 783.344 Q138.149 792.071 135.07 796.677 Q132.015 801.261 126.205 801.261 Q120.394 801.261 117.316 796.677 Q114.26 792.071 114.26 783.344 Q114.26 774.594 117.316 770.011 Q120.394 765.404 126.205 765.404 Z\" fill=\"#000000\" fill-rule=\"nonzero\" fill-opacity=\"1\" /><path clip-path=\"url(#clip500)\" d=\"M146.366 794.71 L151.251 794.71 L151.251 800.589 L146.366 800.589 L146.366 794.71 Z\" fill=\"#000000\" fill-rule=\"nonzero\" fill-opacity=\"1\" /><path clip-path=\"url(#clip500)\" d=\"M174.283 770.103 L162.477 788.552 L174.283 788.552 L174.283 770.103 M173.056 766.029 L178.936 766.029 L178.936 788.552 L183.866 788.552 L183.866 792.441 L178.936 792.441 L178.936 800.589 L174.283 800.589 L174.283 792.441 L158.681 792.441 L158.681 787.927 L173.056 766.029 Z\" fill=\"#000000\" fill-rule=\"nonzero\" fill-opacity=\"1\" /><path clip-path=\"url(#clip500)\" d=\"M127.686 531.764 Q124.075 531.764 122.246 535.329 Q120.441 538.871 120.441 546 Q120.441 553.107 122.246 556.672 Q124.075 560.213 127.686 560.213 Q131.32 560.213 133.126 556.672 Q134.954 553.107 134.954 546 Q134.954 538.871 133.126 535.329 Q131.32 531.764 127.686 531.764 M127.686 528.061 Q133.496 528.061 136.552 532.667 Q139.63 537.25 139.63 546 Q139.63 554.727 136.552 559.334 Q133.496 563.917 127.686 563.917 Q121.876 563.917 118.797 559.334 Q115.742 554.727 115.742 546 Q115.742 537.25 118.797 532.667 Q121.876 528.061 127.686 528.061 Z\" fill=\"#000000\" fill-rule=\"nonzero\" fill-opacity=\"1\" /><path clip-path=\"url(#clip500)\" d=\"M147.848 557.366 L152.732 557.366 L152.732 563.246 L147.848 563.246 L147.848 557.366 Z\" fill=\"#000000\" fill-rule=\"nonzero\" fill-opacity=\"1\" /><path clip-path=\"url(#clip500)\" d=\"M162.964 528.686 L181.32 528.686 L181.32 532.621 L167.246 532.621 L167.246 541.093 Q168.264 540.746 169.283 540.584 Q170.302 540.399 171.32 540.399 Q177.107 540.399 180.487 543.57 Q183.866 546.741 183.866 552.158 Q183.866 557.736 180.394 560.838 Q176.922 563.917 170.602 563.917 Q168.427 563.917 166.158 563.547 Q163.913 563.176 161.505 562.436 L161.505 557.736 Q163.589 558.871 165.811 559.426 Q168.033 559.982 170.51 559.982 Q174.514 559.982 176.852 557.875 Q179.19 555.769 179.19 552.158 Q179.19 548.547 176.852 546.44 Q174.514 544.334 170.51 544.334 Q168.635 544.334 166.76 544.75 Q164.908 545.167 162.964 546.047 L162.964 528.686 Z\" fill=\"#000000\" fill-rule=\"nonzero\" fill-opacity=\"1\" /><path clip-path=\"url(#clip500)\" d=\"M126.529 294.421 Q122.918 294.421 121.089 297.986 Q119.283 301.527 119.283 308.657 Q119.283 315.763 121.089 319.328 Q122.918 322.87 126.529 322.87 Q130.163 322.87 131.968 319.328 Q133.797 315.763 133.797 308.657 Q133.797 301.527 131.968 297.986 Q130.163 294.421 126.529 294.421 M126.529 290.717 Q132.339 290.717 135.394 295.324 Q138.473 299.907 138.473 308.657 Q138.473 317.384 135.394 321.99 Q132.339 326.573 126.529 326.573 Q120.718 326.573 117.64 321.99 Q114.584 317.384 114.584 308.657 Q114.584 299.907 117.64 295.324 Q120.718 290.717 126.529 290.717 Z\" fill=\"#000000\" fill-rule=\"nonzero\" fill-opacity=\"1\" /><path clip-path=\"url(#clip500)\" d=\"M146.691 320.023 L151.575 320.023 L151.575 325.902 L146.691 325.902 L146.691 320.023 Z\" fill=\"#000000\" fill-rule=\"nonzero\" fill-opacity=\"1\" /><path clip-path=\"url(#clip500)\" d=\"M172.339 306.759 Q169.19 306.759 167.339 308.911 Q165.51 311.064 165.51 314.814 Q165.51 318.541 167.339 320.717 Q169.19 322.87 172.339 322.87 Q175.487 322.87 177.315 320.717 Q179.167 318.541 179.167 314.814 Q179.167 311.064 177.315 308.911 Q175.487 306.759 172.339 306.759 M181.621 292.106 L181.621 296.365 Q179.862 295.532 178.056 295.092 Q176.274 294.652 174.514 294.652 Q169.885 294.652 167.431 297.777 Q165.001 300.902 164.653 307.222 Q166.019 305.208 168.079 304.143 Q170.139 303.055 172.616 303.055 Q177.825 303.055 180.834 306.226 Q183.866 309.374 183.866 314.814 Q183.866 320.138 180.718 323.356 Q177.57 326.573 172.339 326.573 Q166.343 326.573 163.172 321.99 Q160.001 317.384 160.001 308.657 Q160.001 300.462 163.89 295.601 Q167.778 290.717 174.329 290.717 Q176.089 290.717 177.871 291.064 Q179.676 291.412 181.621 292.106 Z\" fill=\"#000000\" fill-rule=\"nonzero\" fill-opacity=\"1\" /><path clip-path=\"url(#clip500)\" d=\"M67.3143 771.639 Q73.68 774.122 75.6216 776.477 Q77.5631 778.832 77.5631 782.779 L77.5631 787.458 L72.6615 787.458 L72.6615 784.02 Q72.6615 781.601 71.5157 780.265 Q70.3699 778.928 66.1048 777.305 L63.4312 776.254 L28.3562 790.673 L28.3562 784.466 L56.238 773.326 L28.3562 762.186 L28.3562 755.979 L67.3143 771.639 Z\" fill=\"#000000\" fill-rule=\"nonzero\" fill-opacity=\"1\" /><path clip-path=\"url(#clip500)\" d=\"M1066.12 28.5427 L1066.12 35.5912 Q1062.96 33.9709 1059.56 33.1607 Q1056.16 32.3505 1052.51 32.3505 Q1046.96 32.3505 1044.17 34.0519 Q1041.41 35.7533 1041.41 39.156 Q1041.41 41.7486 1043.4 43.2475 Q1045.38 44.7058 1051.38 46.0426 L1053.93 46.6097 Q1061.87 48.3111 1065.19 51.4303 Q1068.55 54.509 1068.55 60.0587 Q1068.55 66.3781 1063.53 70.0644 Q1058.55 73.7508 1049.8 73.7508 Q1046.15 73.7508 1042.18 73.0216 Q1038.25 72.3329 1033.88 70.9151 L1033.88 63.2184 Q1038.01 65.3654 1042.02 66.4591 Q1046.03 67.5124 1049.96 67.5124 Q1055.23 67.5124 1058.06 65.73 Q1060.9 63.9071 1060.9 60.6258 Q1060.9 57.5877 1058.83 55.9673 Q1056.81 54.3469 1049.88 52.8481 L1047.29 52.2405 Q1040.36 50.7821 1037.28 47.7845 Q1034.2 44.7463 1034.2 39.4801 Q1034.2 33.0797 1038.74 29.5959 Q1043.28 26.1121 1051.62 26.1121 Q1055.75 26.1121 1059.4 26.7198 Q1063.05 27.3274 1066.12 28.5427 Z\" fill=\"#000000\" fill-rule=\"nonzero\" fill-opacity=\"1\" /><path clip-path=\"url(#clip500)\" d=\"M1080.42 27.2059 L1087.88 27.2059 L1087.88 72.576 L1080.42 72.576 L1080.42 27.2059 M1080.42 9.54393 L1087.88 9.54393 L1087.88 18.9825 L1080.42 18.9825 L1080.42 9.54393 Z\" fill=\"#000000\" fill-rule=\"nonzero\" fill-opacity=\"1\" /><path clip-path=\"url(#clip500)\" d=\"M1141.19 45.1919 L1141.19 72.576 L1133.73 72.576 L1133.73 45.4349 Q1133.73 38.994 1131.22 35.7938 Q1128.71 32.5936 1123.69 32.5936 Q1117.65 32.5936 1114.17 36.4419 Q1110.68 40.2903 1110.68 46.9338 L1110.68 72.576 L1103.19 72.576 L1103.19 27.2059 L1110.68 27.2059 L1110.68 34.2544 Q1113.36 30.163 1116.96 28.1376 Q1120.61 26.1121 1125.35 26.1121 Q1133.17 26.1121 1137.18 30.9732 Q1141.19 35.7938 1141.19 45.1919 Z\" fill=\"#000000\" fill-rule=\"nonzero\" fill-opacity=\"1\" /><path clip-path=\"url(#clip500)\" d=\"M1215.08 28.9478 L1215.08 35.9153 Q1211.92 34.1734 1208.72 33.3227 Q1205.56 32.4315 1202.32 32.4315 Q1195.06 32.4315 1191.05 37.0496 Q1187.04 41.6271 1187.04 49.9314 Q1187.04 58.2358 1191.05 62.8538 Q1195.06 67.4314 1202.32 67.4314 Q1205.56 67.4314 1208.72 66.5807 Q1211.92 65.6895 1215.08 63.9476 L1215.08 70.8341 Q1211.96 72.2924 1208.59 73.0216 Q1205.27 73.7508 1201.51 73.7508 Q1191.26 73.7508 1185.22 67.3098 Q1179.18 60.8689 1179.18 49.9314 Q1179.18 38.832 1185.26 32.472 Q1191.38 26.1121 1201.99 26.1121 Q1205.43 26.1121 1208.72 26.8413 Q1212 27.5299 1215.08 28.9478 Z\" fill=\"#000000\" fill-rule=\"nonzero\" fill-opacity=\"1\" /><path clip-path=\"url(#clip500)\" d=\"M1245.62 32.4315 Q1239.62 32.4315 1236.14 37.1306 Q1232.66 41.7891 1232.66 49.9314 Q1232.66 58.0738 1236.1 62.7728 Q1239.58 67.4314 1245.62 67.4314 Q1251.57 67.4314 1255.06 62.7323 Q1258.54 58.0333 1258.54 49.9314 Q1258.54 41.8701 1255.06 37.1711 Q1251.57 32.4315 1245.62 32.4315 M1245.62 26.1121 Q1255.34 26.1121 1260.89 32.4315 Q1266.44 38.7509 1266.44 49.9314 Q1266.44 61.0714 1260.89 67.4314 Q1255.34 73.7508 1245.62 73.7508 Q1235.86 73.7508 1230.31 67.4314 Q1224.8 61.0714 1224.8 49.9314 Q1224.8 38.7509 1230.31 32.4315 Q1235.86 26.1121 1245.62 26.1121 Z\" fill=\"#000000\" fill-rule=\"nonzero\" fill-opacity=\"1\" /><path clip-path=\"url(#clip500)\" d=\"M1307.72 28.5427 L1307.72 35.5912 Q1304.56 33.9709 1301.16 33.1607 Q1297.75 32.3505 1294.11 32.3505 Q1288.56 32.3505 1285.76 34.0519 Q1283.01 35.7533 1283.01 39.156 Q1283.01 41.7486 1284.99 43.2475 Q1286.98 44.7058 1292.97 46.0426 L1295.53 46.6097 Q1303.47 48.3111 1306.79 51.4303 Q1310.15 54.509 1310.15 60.0587 Q1310.15 66.3781 1305.13 70.0644 Q1300.14 73.7508 1291.39 73.7508 Q1287.75 73.7508 1283.78 73.0216 Q1279.85 72.3329 1275.47 70.9151 L1275.47 63.2184 Q1279.61 65.3654 1283.62 66.4591 Q1287.63 67.5124 1291.56 67.5124 Q1296.82 67.5124 1299.66 65.73 Q1302.49 63.9071 1302.49 60.6258 Q1302.49 57.5877 1300.43 55.9673 Q1298.4 54.3469 1291.48 52.8481 L1288.88 52.2405 Q1281.96 50.7821 1278.88 47.7845 Q1275.8 44.7463 1275.8 39.4801 Q1275.8 33.0797 1280.34 29.5959 Q1284.87 26.1121 1293.22 26.1121 Q1297.35 26.1121 1301 26.7198 Q1304.64 27.3274 1307.72 28.5427 Z\" fill=\"#000000\" fill-rule=\"nonzero\" fill-opacity=\"1\" /><path clip-path=\"url(#clip500)\" d=\"M1355.6 65.7705 L1355.6 89.8329 L1348.11 89.8329 L1348.11 27.2059 L1355.6 27.2059 L1355.6 34.0924 Q1357.95 30.0415 1361.52 28.0971 Q1365.12 26.1121 1370.1 26.1121 Q1378.37 26.1121 1383.51 32.6746 Q1388.7 39.2371 1388.7 49.9314 Q1388.7 60.6258 1383.51 67.1883 Q1378.37 73.7508 1370.1 73.7508 Q1365.12 73.7508 1361.52 71.8063 Q1357.95 69.8214 1355.6 65.7705 M1380.96 49.9314 Q1380.96 41.7081 1377.56 37.0496 Q1374.2 32.3505 1368.28 32.3505 Q1362.37 32.3505 1358.96 37.0496 Q1355.6 41.7081 1355.6 49.9314 Q1355.6 58.1548 1358.96 62.8538 Q1362.37 67.5124 1368.28 67.5124 Q1374.2 67.5124 1377.56 62.8538 Q1380.96 58.1548 1380.96 49.9314 Z\" fill=\"#000000\" fill-rule=\"nonzero\" fill-opacity=\"1\" /><path clip-path=\"url(#clip500)\" d=\"M1401.05 9.54393 L1408.51 9.54393 L1408.51 72.576 L1401.05 72.576 L1401.05 9.54393 Z\" fill=\"#000000\" fill-rule=\"nonzero\" fill-opacity=\"1\" /><path clip-path=\"url(#clip500)\" d=\"M1441.68 32.4315 Q1435.69 32.4315 1432.2 37.1306 Q1428.72 41.7891 1428.72 49.9314 Q1428.72 58.0738 1432.16 62.7728 Q1435.65 67.4314 1441.68 67.4314 Q1447.64 67.4314 1451.12 62.7323 Q1454.61 58.0333 1454.61 49.9314 Q1454.61 41.8701 1451.12 37.1711 Q1447.64 32.4315 1441.68 32.4315 M1441.68 26.1121 Q1451.41 26.1121 1456.96 32.4315 Q1462.51 38.7509 1462.51 49.9314 Q1462.51 61.0714 1456.96 67.4314 Q1451.41 73.7508 1441.68 73.7508 Q1431.92 73.7508 1426.37 67.4314 Q1420.86 61.0714 1420.86 49.9314 Q1420.86 38.7509 1426.37 32.4315 Q1431.92 26.1121 1441.68 26.1121 Z\" fill=\"#000000\" fill-rule=\"nonzero\" fill-opacity=\"1\" /><path clip-path=\"url(#clip500)\" d=\"M1482.23 14.324 L1482.23 27.2059 L1497.59 27.2059 L1497.59 32.9987 L1482.23 32.9987 L1482.23 57.6282 Q1482.23 63.1779 1483.73 64.7578 Q1485.27 66.3376 1489.93 66.3376 L1497.59 66.3376 L1497.59 72.576 L1489.93 72.576 Q1481.3 72.576 1478.02 69.3758 Q1474.74 66.1351 1474.74 57.6282 L1474.74 32.9987 L1469.27 32.9987 L1469.27 27.2059 L1474.74 27.2059 L1474.74 14.324 L1482.23 14.324 Z\" fill=\"#000000\" fill-rule=\"nonzero\" fill-opacity=\"1\" /><path clip-path=\"url(#clip500)\" d=\"M1536.31 28.5427 L1536.31 35.5912 Q1533.15 33.9709 1529.75 33.1607 Q1526.35 32.3505 1522.7 32.3505 Q1517.15 32.3505 1514.36 34.0519 Q1511.6 35.7533 1511.6 39.156 Q1511.6 41.7486 1513.59 43.2475 Q1515.57 44.7058 1521.57 46.0426 L1524.12 46.6097 Q1532.06 48.3111 1535.38 51.4303 Q1538.74 54.509 1538.74 60.0587 Q1538.74 66.3781 1533.72 70.0644 Q1528.74 73.7508 1519.99 73.7508 Q1516.34 73.7508 1512.37 73.0216 Q1508.44 72.3329 1504.07 70.9151 L1504.07 63.2184 Q1508.2 65.3654 1512.21 66.4591 Q1516.22 67.5124 1520.15 67.5124 Q1525.42 67.5124 1528.25 65.73 Q1531.09 63.9071 1531.09 60.6258 Q1531.09 57.5877 1529.02 55.9673 Q1527 54.3469 1520.07 52.8481 L1517.48 52.2405 Q1510.55 50.7821 1507.47 47.7845 Q1504.39 44.7463 1504.39 39.4801 Q1504.39 33.0797 1508.93 29.5959 Q1513.47 26.1121 1521.81 26.1121 Q1525.94 26.1121 1529.59 26.7198 Q1533.23 27.3274 1536.31 28.5427 Z\" fill=\"#000000\" fill-rule=\"nonzero\" fill-opacity=\"1\" /><polyline clip-path=\"url(#clip502)\" style=\"stroke:#009af9; stroke-linecap:round; stroke-linejoin:round; stroke-width:4; stroke-opacity:1; fill:none\" points=\"2292.39,160.256 1844.4,401.295 1257.17,749.901 486.985,1247.7 280.231,1386.4 391.229,1311.75 1726.81,468.385 371.444,1325.03 693.122,1111.11 2114.13,253.269 \"/>\n",
       "<path clip-path=\"url(#clip500)\" d=\"M290.963 270.476 L556.682 270.476 L556.682 166.796 L290.963 166.796  Z\" fill=\"#ffffff\" fill-rule=\"evenodd\" fill-opacity=\"1\"/>\n",
       "<polyline clip-path=\"url(#clip500)\" style=\"stroke:#000000; stroke-linecap:round; stroke-linejoin:round; stroke-width:4; stroke-opacity:1; fill:none\" points=\"290.963,270.476 556.682,270.476 556.682,166.796 290.963,166.796 290.963,270.476 \"/>\n",
       "<polyline clip-path=\"url(#clip500)\" style=\"stroke:#009af9; stroke-linecap:round; stroke-linejoin:round; stroke-width:4; stroke-opacity:1; fill:none\" points=\"314.661,218.636 456.854,218.636 \"/>\n",
       "<path clip-path=\"url(#clip500)\" d=\"M494.395 238.323 Q492.59 242.953 490.877 244.365 Q489.164 245.777 486.293 245.777 L482.891 245.777 L482.891 242.212 L485.391 242.212 Q487.15 242.212 488.122 241.379 Q489.094 240.545 490.275 237.443 L491.039 235.499 L480.553 209.99 L485.067 209.99 L493.168 230.268 L501.27 209.99 L505.784 209.99 L494.395 238.323 Z\" fill=\"#000000\" fill-rule=\"nonzero\" fill-opacity=\"1\" /><path clip-path=\"url(#clip500)\" d=\"M513.076 231.981 L520.715 231.981 L520.715 205.615 L512.404 207.282 L512.404 203.022 L520.668 201.356 L525.344 201.356 L525.344 231.981 L532.983 231.981 L532.983 235.916 L513.076 235.916 L513.076 231.981 Z\" fill=\"#000000\" fill-rule=\"nonzero\" fill-opacity=\"1\" /></svg>\n"
      ],
      "text/html": [
       "<?xml version=\"1.0\" encoding=\"utf-8\"?>\n",
       "<svg xmlns=\"http://www.w3.org/2000/svg\" xmlns:xlink=\"http://www.w3.org/1999/xlink\" width=\"600\" height=\"400\" viewBox=\"0 0 2400 1600\">\n",
       "<defs>\n",
       "  <clipPath id=\"clip550\">\n",
       "    <rect x=\"0\" y=\"0\" width=\"2400\" height=\"1600\"/>\n",
       "  </clipPath>\n",
       "</defs>\n",
       "<path clip-path=\"url(#clip550)\" d=\"M0 1600 L2400 1600 L2400 0 L0 0  Z\" fill=\"#ffffff\" fill-rule=\"evenodd\" fill-opacity=\"1\"/>\n",
       "<defs>\n",
       "  <clipPath id=\"clip551\">\n",
       "    <rect x=\"480\" y=\"0\" width=\"1681\" height=\"1600\"/>\n",
       "  </clipPath>\n",
       "</defs>\n",
       "<path clip-path=\"url(#clip550)\" d=\"M219.866 1423.18 L2352.76 1423.18 L2352.76 123.472 L219.866 123.472  Z\" fill=\"#ffffff\" fill-rule=\"evenodd\" fill-opacity=\"1\"/>\n",
       "<defs>\n",
       "  <clipPath id=\"clip552\">\n",
       "    <rect x=\"219\" y=\"123\" width=\"2134\" height=\"1301\"/>\n",
       "  </clipPath>\n",
       "</defs>\n",
       "<polyline clip-path=\"url(#clip552)\" style=\"stroke:#000000; stroke-linecap:round; stroke-linejoin:round; stroke-width:2; stroke-opacity:0.1; fill:none\" points=\"466.825,1423.18 466.825,123.472 \"/>\n",
       "<polyline clip-path=\"url(#clip552)\" style=\"stroke:#000000; stroke-linecap:round; stroke-linejoin:round; stroke-width:2; stroke-opacity:0.1; fill:none\" points=\"815.105,1423.18 815.105,123.472 \"/>\n",
       "<polyline clip-path=\"url(#clip552)\" style=\"stroke:#000000; stroke-linecap:round; stroke-linejoin:round; stroke-width:2; stroke-opacity:0.1; fill:none\" points=\"1163.39,1423.18 1163.39,123.472 \"/>\n",
       "<polyline clip-path=\"url(#clip552)\" style=\"stroke:#000000; stroke-linecap:round; stroke-linejoin:round; stroke-width:2; stroke-opacity:0.1; fill:none\" points=\"1511.67,1423.18 1511.67,123.472 \"/>\n",
       "<polyline clip-path=\"url(#clip552)\" style=\"stroke:#000000; stroke-linecap:round; stroke-linejoin:round; stroke-width:2; stroke-opacity:0.1; fill:none\" points=\"1859.95,1423.18 1859.95,123.472 \"/>\n",
       "<polyline clip-path=\"url(#clip552)\" style=\"stroke:#000000; stroke-linecap:round; stroke-linejoin:round; stroke-width:2; stroke-opacity:0.1; fill:none\" points=\"2208.23,1423.18 2208.23,123.472 \"/>\n",
       "<polyline clip-path=\"url(#clip550)\" style=\"stroke:#000000; stroke-linecap:round; stroke-linejoin:round; stroke-width:4; stroke-opacity:1; fill:none\" points=\"219.866,1423.18 2352.76,1423.18 \"/>\n",
       "<polyline clip-path=\"url(#clip550)\" style=\"stroke:#000000; stroke-linecap:round; stroke-linejoin:round; stroke-width:4; stroke-opacity:1; fill:none\" points=\"466.825,1423.18 466.825,1404.28 \"/>\n",
       "<polyline clip-path=\"url(#clip550)\" style=\"stroke:#000000; stroke-linecap:round; stroke-linejoin:round; stroke-width:4; stroke-opacity:1; fill:none\" points=\"815.105,1423.18 815.105,1404.28 \"/>\n",
       "<polyline clip-path=\"url(#clip550)\" style=\"stroke:#000000; stroke-linecap:round; stroke-linejoin:round; stroke-width:4; stroke-opacity:1; fill:none\" points=\"1163.39,1423.18 1163.39,1404.28 \"/>\n",
       "<polyline clip-path=\"url(#clip550)\" style=\"stroke:#000000; stroke-linecap:round; stroke-linejoin:round; stroke-width:4; stroke-opacity:1; fill:none\" points=\"1511.67,1423.18 1511.67,1404.28 \"/>\n",
       "<polyline clip-path=\"url(#clip550)\" style=\"stroke:#000000; stroke-linecap:round; stroke-linejoin:round; stroke-width:4; stroke-opacity:1; fill:none\" points=\"1859.95,1423.18 1859.95,1404.28 \"/>\n",
       "<polyline clip-path=\"url(#clip550)\" style=\"stroke:#000000; stroke-linecap:round; stroke-linejoin:round; stroke-width:4; stroke-opacity:1; fill:none\" points=\"2208.23,1423.18 2208.23,1404.28 \"/>\n",
       "<path clip-path=\"url(#clip550)\" d=\"M445.008 1454.1 Q441.397 1454.1 439.568 1457.66 Q437.763 1461.2 437.763 1468.33 Q437.763 1475.44 439.568 1479.01 Q441.397 1482.55 445.008 1482.55 Q448.642 1482.55 450.448 1479.01 Q452.276 1475.44 452.276 1468.33 Q452.276 1461.2 450.448 1457.66 Q448.642 1454.1 445.008 1454.1 M445.008 1450.39 Q450.818 1450.39 453.874 1455 Q456.952 1459.58 456.952 1468.33 Q456.952 1477.06 453.874 1481.67 Q450.818 1486.25 445.008 1486.25 Q439.198 1486.25 436.119 1481.67 Q433.063 1477.06 433.063 1468.33 Q433.063 1459.58 436.119 1455 Q439.198 1450.39 445.008 1450.39 Z\" fill=\"#000000\" fill-rule=\"nonzero\" fill-opacity=\"1\" /><path clip-path=\"url(#clip550)\" d=\"M465.17 1479.7 L470.054 1479.7 L470.054 1485.58 L465.17 1485.58 L465.17 1479.7 Z\" fill=\"#000000\" fill-rule=\"nonzero\" fill-opacity=\"1\" /><path clip-path=\"url(#clip550)\" d=\"M484.267 1481.64 L500.586 1481.64 L500.586 1485.58 L478.642 1485.58 L478.642 1481.64 Q481.304 1478.89 485.887 1474.26 Q490.494 1469.61 491.674 1468.27 Q493.92 1465.74 494.799 1464.01 Q495.702 1462.25 495.702 1460.56 Q495.702 1457.8 493.758 1456.07 Q491.836 1454.33 488.734 1454.33 Q486.535 1454.33 484.082 1455.09 Q481.651 1455.86 478.873 1457.41 L478.873 1452.69 Q481.697 1451.55 484.151 1450.97 Q486.605 1450.39 488.642 1450.39 Q494.012 1450.39 497.207 1453.08 Q500.401 1455.77 500.401 1460.26 Q500.401 1462.39 499.591 1464.31 Q498.804 1466.2 496.697 1468.8 Q496.119 1469.47 493.017 1472.69 Q489.915 1475.88 484.267 1481.64 Z\" fill=\"#000000\" fill-rule=\"nonzero\" fill-opacity=\"1\" /><path clip-path=\"url(#clip550)\" d=\"M792.813 1454.1 Q789.202 1454.1 787.374 1457.66 Q785.568 1461.2 785.568 1468.33 Q785.568 1475.44 787.374 1479.01 Q789.202 1482.55 792.813 1482.55 Q796.448 1482.55 798.253 1479.01 Q800.082 1475.44 800.082 1468.33 Q800.082 1461.2 798.253 1457.66 Q796.448 1454.1 792.813 1454.1 M792.813 1450.39 Q798.624 1450.39 801.679 1455 Q804.758 1459.58 804.758 1468.33 Q804.758 1477.06 801.679 1481.67 Q798.624 1486.25 792.813 1486.25 Q787.003 1486.25 783.925 1481.67 Q780.869 1477.06 780.869 1468.33 Q780.869 1459.58 783.925 1455 Q787.003 1450.39 792.813 1450.39 Z\" fill=\"#000000\" fill-rule=\"nonzero\" fill-opacity=\"1\" /><path clip-path=\"url(#clip550)\" d=\"M812.975 1479.7 L817.86 1479.7 L817.86 1485.58 L812.975 1485.58 L812.975 1479.7 Z\" fill=\"#000000\" fill-rule=\"nonzero\" fill-opacity=\"1\" /><path clip-path=\"url(#clip550)\" d=\"M842.211 1466.95 Q845.568 1467.66 847.443 1469.93 Q849.341 1472.2 849.341 1475.53 Q849.341 1480.65 845.822 1483.45 Q842.304 1486.25 835.822 1486.25 Q833.647 1486.25 831.332 1485.81 Q829.04 1485.39 826.586 1484.54 L826.586 1480.02 Q828.531 1481.16 830.846 1481.74 Q833.16 1482.32 835.684 1482.32 Q840.082 1482.32 842.373 1480.58 Q844.688 1478.84 844.688 1475.53 Q844.688 1472.48 842.535 1470.77 Q840.406 1469.03 836.586 1469.03 L832.559 1469.03 L832.559 1465.19 L836.772 1465.19 Q840.221 1465.19 842.049 1463.82 Q843.878 1462.43 843.878 1459.84 Q843.878 1457.18 841.98 1455.77 Q840.105 1454.33 836.586 1454.33 Q834.665 1454.33 832.466 1454.75 Q830.267 1455.16 827.628 1456.04 L827.628 1451.88 Q830.29 1451.14 832.605 1450.77 Q834.943 1450.39 837.003 1450.39 Q842.327 1450.39 845.429 1452.83 Q848.531 1455.23 848.531 1459.35 Q848.531 1462.22 846.887 1464.21 Q845.244 1466.18 842.211 1466.95 Z\" fill=\"#000000\" fill-rule=\"nonzero\" fill-opacity=\"1\" /><path clip-path=\"url(#clip550)\" d=\"M1140.53 1454.1 Q1136.92 1454.1 1135.09 1457.66 Q1133.28 1461.2 1133.28 1468.33 Q1133.28 1475.44 1135.09 1479.01 Q1136.92 1482.55 1140.53 1482.55 Q1144.16 1482.55 1145.97 1479.01 Q1147.79 1475.44 1147.79 1468.33 Q1147.79 1461.2 1145.97 1457.66 Q1144.16 1454.1 1140.53 1454.1 M1140.53 1450.39 Q1146.34 1450.39 1149.39 1455 Q1152.47 1459.58 1152.47 1468.33 Q1152.47 1477.06 1149.39 1481.67 Q1146.34 1486.25 1140.53 1486.25 Q1134.72 1486.25 1131.64 1481.67 Q1128.58 1477.06 1128.58 1468.33 Q1128.58 1459.58 1131.64 1455 Q1134.72 1450.39 1140.53 1450.39 Z\" fill=\"#000000\" fill-rule=\"nonzero\" fill-opacity=\"1\" /><path clip-path=\"url(#clip550)\" d=\"M1160.69 1479.7 L1165.57 1479.7 L1165.57 1485.58 L1160.69 1485.58 L1160.69 1479.7 Z\" fill=\"#000000\" fill-rule=\"nonzero\" fill-opacity=\"1\" /><path clip-path=\"url(#clip550)\" d=\"M1188.6 1455.09 L1176.8 1473.54 L1188.6 1473.54 L1188.6 1455.09 M1187.38 1451.02 L1193.26 1451.02 L1193.26 1473.54 L1198.19 1473.54 L1198.19 1477.43 L1193.26 1477.43 L1193.26 1485.58 L1188.6 1485.58 L1188.6 1477.43 L1173 1477.43 L1173 1472.92 L1187.38 1451.02 Z\" fill=\"#000000\" fill-rule=\"nonzero\" fill-opacity=\"1\" /><path clip-path=\"url(#clip550)\" d=\"M1489.55 1454.1 Q1485.94 1454.1 1484.11 1457.66 Q1482.3 1461.2 1482.3 1468.33 Q1482.3 1475.44 1484.11 1479.01 Q1485.94 1482.55 1489.55 1482.55 Q1493.18 1482.55 1494.99 1479.01 Q1496.82 1475.44 1496.82 1468.33 Q1496.82 1461.2 1494.99 1457.66 Q1493.18 1454.1 1489.55 1454.1 M1489.55 1450.39 Q1495.36 1450.39 1498.41 1455 Q1501.49 1459.58 1501.49 1468.33 Q1501.49 1477.06 1498.41 1481.67 Q1495.36 1486.25 1489.55 1486.25 Q1483.74 1486.25 1480.66 1481.67 Q1477.6 1477.06 1477.6 1468.33 Q1477.6 1459.58 1480.66 1455 Q1483.74 1450.39 1489.55 1450.39 Z\" fill=\"#000000\" fill-rule=\"nonzero\" fill-opacity=\"1\" /><path clip-path=\"url(#clip550)\" d=\"M1509.71 1479.7 L1514.59 1479.7 L1514.59 1485.58 L1509.71 1485.58 L1509.71 1479.7 Z\" fill=\"#000000\" fill-rule=\"nonzero\" fill-opacity=\"1\" /><path clip-path=\"url(#clip550)\" d=\"M1524.82 1451.02 L1543.18 1451.02 L1543.18 1454.96 L1529.11 1454.96 L1529.11 1463.43 Q1530.13 1463.08 1531.14 1462.92 Q1532.16 1462.73 1533.18 1462.73 Q1538.97 1462.73 1542.35 1465.9 Q1545.73 1469.08 1545.73 1474.49 Q1545.73 1480.07 1542.26 1483.17 Q1538.78 1486.25 1532.46 1486.25 Q1530.29 1486.25 1528.02 1485.88 Q1525.77 1485.51 1523.37 1484.77 L1523.37 1480.07 Q1525.45 1481.2 1527.67 1481.76 Q1529.89 1482.32 1532.37 1482.32 Q1536.38 1482.32 1538.71 1480.21 Q1541.05 1478.1 1541.05 1474.49 Q1541.05 1470.88 1538.71 1468.77 Q1536.38 1466.67 1532.37 1466.67 Q1530.5 1466.67 1528.62 1467.08 Q1526.77 1467.5 1524.82 1468.38 L1524.82 1451.02 Z\" fill=\"#000000\" fill-rule=\"nonzero\" fill-opacity=\"1\" /><path clip-path=\"url(#clip550)\" d=\"M1837.25 1454.1 Q1833.64 1454.1 1831.81 1457.66 Q1830 1461.2 1830 1468.33 Q1830 1475.44 1831.81 1479.01 Q1833.64 1482.55 1837.25 1482.55 Q1840.88 1482.55 1842.69 1479.01 Q1844.52 1475.44 1844.52 1468.33 Q1844.52 1461.2 1842.69 1457.66 Q1840.88 1454.1 1837.25 1454.1 M1837.25 1450.39 Q1843.06 1450.39 1846.11 1455 Q1849.19 1459.58 1849.19 1468.33 Q1849.19 1477.06 1846.11 1481.67 Q1843.06 1486.25 1837.25 1486.25 Q1831.44 1486.25 1828.36 1481.67 Q1825.3 1477.06 1825.3 1468.33 Q1825.3 1459.58 1828.36 1455 Q1831.44 1450.39 1837.25 1450.39 Z\" fill=\"#000000\" fill-rule=\"nonzero\" fill-opacity=\"1\" /><path clip-path=\"url(#clip550)\" d=\"M1857.41 1479.7 L1862.29 1479.7 L1862.29 1485.58 L1857.41 1485.58 L1857.41 1479.7 Z\" fill=\"#000000\" fill-rule=\"nonzero\" fill-opacity=\"1\" /><path clip-path=\"url(#clip550)\" d=\"M1883.06 1466.44 Q1879.91 1466.44 1878.06 1468.59 Q1876.23 1470.74 1876.23 1474.49 Q1876.23 1478.22 1878.06 1480.39 Q1879.91 1482.55 1883.06 1482.55 Q1886.21 1482.55 1888.04 1480.39 Q1889.89 1478.22 1889.89 1474.49 Q1889.89 1470.74 1888.04 1468.59 Q1886.21 1466.44 1883.06 1466.44 M1892.34 1451.78 L1892.34 1456.04 Q1890.58 1455.21 1888.78 1454.77 Q1886.99 1454.33 1885.23 1454.33 Q1880.61 1454.33 1878.15 1457.45 Q1875.72 1460.58 1875.37 1466.9 Q1876.74 1464.89 1878.8 1463.82 Q1880.86 1462.73 1883.34 1462.73 Q1888.54 1462.73 1891.55 1465.9 Q1894.59 1469.05 1894.59 1474.49 Q1894.59 1479.82 1891.44 1483.03 Q1888.29 1486.25 1883.06 1486.25 Q1877.06 1486.25 1873.89 1481.67 Q1870.72 1477.06 1870.72 1468.33 Q1870.72 1460.14 1874.61 1455.28 Q1878.5 1450.39 1885.05 1450.39 Q1886.81 1450.39 1888.59 1450.74 Q1890.4 1451.09 1892.34 1451.78 Z\" fill=\"#000000\" fill-rule=\"nonzero\" fill-opacity=\"1\" /><path clip-path=\"url(#clip550)\" d=\"M2186.06 1454.1 Q2182.45 1454.1 2180.62 1457.66 Q2178.82 1461.2 2178.82 1468.33 Q2178.82 1475.44 2180.62 1479.01 Q2182.45 1482.55 2186.06 1482.55 Q2189.7 1482.55 2191.5 1479.01 Q2193.33 1475.44 2193.33 1468.33 Q2193.33 1461.2 2191.5 1457.66 Q2189.7 1454.1 2186.06 1454.1 M2186.06 1450.39 Q2191.87 1450.39 2194.93 1455 Q2198.01 1459.58 2198.01 1468.33 Q2198.01 1477.06 2194.93 1481.67 Q2191.87 1486.25 2186.06 1486.25 Q2180.25 1486.25 2177.17 1481.67 Q2174.12 1477.06 2174.12 1468.33 Q2174.12 1459.58 2177.17 1455 Q2180.25 1450.39 2186.06 1450.39 Z\" fill=\"#000000\" fill-rule=\"nonzero\" fill-opacity=\"1\" /><path clip-path=\"url(#clip550)\" d=\"M2206.22 1479.7 L2211.11 1479.7 L2211.11 1485.58 L2206.22 1485.58 L2206.22 1479.7 Z\" fill=\"#000000\" fill-rule=\"nonzero\" fill-opacity=\"1\" /><path clip-path=\"url(#clip550)\" d=\"M2220.11 1451.02 L2242.33 1451.02 L2242.33 1453.01 L2229.79 1485.58 L2224.9 1485.58 L2236.71 1454.96 L2220.11 1454.96 L2220.11 1451.02 Z\" fill=\"#000000\" fill-rule=\"nonzero\" fill-opacity=\"1\" /><path clip-path=\"url(#clip550)\" d=\"M1302.93 1532.4 L1290.04 1549.74 L1303.59 1568.04 L1296.69 1568.04 L1286.31 1554.04 L1275.93 1568.04 L1269.03 1568.04 L1282.87 1549.39 L1270.21 1532.4 L1277.11 1532.4 L1286.57 1545.1 L1296.02 1532.4 L1302.93 1532.4 Z\" fill=\"#000000\" fill-rule=\"nonzero\" fill-opacity=\"1\" /><polyline clip-path=\"url(#clip552)\" style=\"stroke:#000000; stroke-linecap:round; stroke-linejoin:round; stroke-width:2; stroke-opacity:0.1; fill:none\" points=\"219.866,1258 2352.76,1258 \"/>\n",
       "<polyline clip-path=\"url(#clip552)\" style=\"stroke:#000000; stroke-linecap:round; stroke-linejoin:round; stroke-width:2; stroke-opacity:0.1; fill:none\" points=\"219.866,1020.65 2352.76,1020.65 \"/>\n",
       "<polyline clip-path=\"url(#clip552)\" style=\"stroke:#000000; stroke-linecap:round; stroke-linejoin:round; stroke-width:2; stroke-opacity:0.1; fill:none\" points=\"219.866,783.309 2352.76,783.309 \"/>\n",
       "<polyline clip-path=\"url(#clip552)\" style=\"stroke:#000000; stroke-linecap:round; stroke-linejoin:round; stroke-width:2; stroke-opacity:0.1; fill:none\" points=\"219.866,545.966 2352.76,545.966 \"/>\n",
       "<polyline clip-path=\"url(#clip552)\" style=\"stroke:#000000; stroke-linecap:round; stroke-linejoin:round; stroke-width:2; stroke-opacity:0.1; fill:none\" points=\"219.866,308.622 2352.76,308.622 \"/>\n",
       "<polyline clip-path=\"url(#clip550)\" style=\"stroke:#000000; stroke-linecap:round; stroke-linejoin:round; stroke-width:4; stroke-opacity:1; fill:none\" points=\"219.866,1423.18 219.866,123.472 \"/>\n",
       "<polyline clip-path=\"url(#clip550)\" style=\"stroke:#000000; stroke-linecap:round; stroke-linejoin:round; stroke-width:4; stroke-opacity:1; fill:none\" points=\"219.866,1258 238.764,1258 \"/>\n",
       "<polyline clip-path=\"url(#clip550)\" style=\"stroke:#000000; stroke-linecap:round; stroke-linejoin:round; stroke-width:4; stroke-opacity:1; fill:none\" points=\"219.866,1020.65 238.764,1020.65 \"/>\n",
       "<polyline clip-path=\"url(#clip550)\" style=\"stroke:#000000; stroke-linecap:round; stroke-linejoin:round; stroke-width:4; stroke-opacity:1; fill:none\" points=\"219.866,783.309 238.764,783.309 \"/>\n",
       "<polyline clip-path=\"url(#clip550)\" style=\"stroke:#000000; stroke-linecap:round; stroke-linejoin:round; stroke-width:4; stroke-opacity:1; fill:none\" points=\"219.866,545.966 238.764,545.966 \"/>\n",
       "<polyline clip-path=\"url(#clip550)\" style=\"stroke:#000000; stroke-linecap:round; stroke-linejoin:round; stroke-width:4; stroke-opacity:1; fill:none\" points=\"219.866,308.622 238.764,308.622 \"/>\n",
       "<path clip-path=\"url(#clip550)\" d=\"M128.288 1243.8 Q124.677 1243.8 122.848 1247.36 Q121.043 1250.9 121.043 1258.03 Q121.043 1265.14 122.848 1268.7 Q124.677 1272.24 128.288 1272.24 Q131.922 1272.24 133.728 1268.7 Q135.556 1265.14 135.556 1258.03 Q135.556 1250.9 133.728 1247.36 Q131.922 1243.8 128.288 1243.8 M128.288 1240.09 Q134.098 1240.09 137.154 1244.7 Q140.232 1249.28 140.232 1258.03 Q140.232 1266.76 137.154 1271.36 Q134.098 1275.95 128.288 1275.95 Q122.478 1275.95 119.399 1271.36 Q116.343 1266.76 116.343 1258.03 Q116.343 1249.28 119.399 1244.7 Q122.478 1240.09 128.288 1240.09 Z\" fill=\"#000000\" fill-rule=\"nonzero\" fill-opacity=\"1\" /><path clip-path=\"url(#clip550)\" d=\"M148.45 1269.4 L153.334 1269.4 L153.334 1275.28 L148.45 1275.28 L148.45 1269.4 Z\" fill=\"#000000\" fill-rule=\"nonzero\" fill-opacity=\"1\" /><path clip-path=\"url(#clip550)\" d=\"M167.547 1271.34 L183.866 1271.34 L183.866 1275.28 L161.922 1275.28 L161.922 1271.34 Q164.584 1268.59 169.167 1263.96 Q173.774 1259.3 174.954 1257.96 Q177.2 1255.44 178.079 1253.7 Q178.982 1251.94 178.982 1250.25 Q178.982 1247.5 177.038 1245.76 Q175.116 1244.03 172.014 1244.03 Q169.815 1244.03 167.362 1244.79 Q164.931 1245.55 162.153 1247.11 L162.153 1242.38 Q164.977 1241.25 167.431 1240.67 Q169.885 1240.09 171.922 1240.09 Q177.292 1240.09 180.487 1242.78 Q183.681 1245.46 183.681 1249.95 Q183.681 1252.08 182.871 1254 Q182.084 1255.9 179.977 1258.49 Q179.399 1259.17 176.297 1262.38 Q173.195 1265.58 167.547 1271.34 Z\" fill=\"#000000\" fill-rule=\"nonzero\" fill-opacity=\"1\" /><path clip-path=\"url(#clip550)\" d=\"M127.339 1006.45 Q123.728 1006.45 121.899 1010.02 Q120.093 1013.56 120.093 1020.69 Q120.093 1027.79 121.899 1031.36 Q123.728 1034.9 127.339 1034.9 Q130.973 1034.9 132.779 1031.36 Q134.607 1027.79 134.607 1020.69 Q134.607 1013.56 132.779 1010.02 Q130.973 1006.45 127.339 1006.45 M127.339 1002.75 Q133.149 1002.75 136.204 1007.35 Q139.283 1011.94 139.283 1020.69 Q139.283 1029.41 136.204 1034.02 Q133.149 1038.6 127.339 1038.6 Q121.529 1038.6 118.45 1034.02 Q115.394 1029.41 115.394 1020.69 Q115.394 1011.94 118.45 1007.35 Q121.529 1002.75 127.339 1002.75 Z\" fill=\"#000000\" fill-rule=\"nonzero\" fill-opacity=\"1\" /><path clip-path=\"url(#clip550)\" d=\"M147.501 1032.05 L152.385 1032.05 L152.385 1037.93 L147.501 1037.93 L147.501 1032.05 Z\" fill=\"#000000\" fill-rule=\"nonzero\" fill-opacity=\"1\" /><path clip-path=\"url(#clip550)\" d=\"M176.737 1019.3 Q180.093 1020.02 181.968 1022.28 Q183.866 1024.55 183.866 1027.89 Q183.866 1033 180.348 1035.8 Q176.829 1038.6 170.348 1038.6 Q168.172 1038.6 165.857 1038.16 Q163.565 1037.75 161.112 1036.89 L161.112 1032.38 Q163.056 1033.51 165.371 1034.09 Q167.686 1034.67 170.209 1034.67 Q174.607 1034.67 176.899 1032.93 Q179.214 1031.2 179.214 1027.89 Q179.214 1024.83 177.061 1023.12 Q174.931 1021.38 171.112 1021.38 L167.084 1021.38 L167.084 1017.54 L171.297 1017.54 Q174.746 1017.54 176.575 1016.17 Q178.403 1014.78 178.403 1012.19 Q178.403 1009.53 176.505 1008.12 Q174.63 1006.68 171.112 1006.68 Q169.19 1006.68 166.991 1007.1 Q164.792 1007.52 162.153 1008.4 L162.153 1004.23 Q164.815 1003.49 167.13 1003.12 Q169.468 1002.75 171.528 1002.75 Q176.852 1002.75 179.954 1005.18 Q183.056 1007.59 183.056 1011.71 Q183.056 1014.58 181.413 1016.57 Q179.769 1018.53 176.737 1019.3 Z\" fill=\"#000000\" fill-rule=\"nonzero\" fill-opacity=\"1\" /><path clip-path=\"url(#clip550)\" d=\"M126.205 769.108 Q122.593 769.108 120.765 772.673 Q118.959 776.214 118.959 783.344 Q118.959 790.45 120.765 794.015 Q122.593 797.557 126.205 797.557 Q129.839 797.557 131.644 794.015 Q133.473 790.45 133.473 783.344 Q133.473 776.214 131.644 772.673 Q129.839 769.108 126.205 769.108 M126.205 765.404 Q132.015 765.404 135.07 770.011 Q138.149 774.594 138.149 783.344 Q138.149 792.071 135.07 796.677 Q132.015 801.261 126.205 801.261 Q120.394 801.261 117.316 796.677 Q114.26 792.071 114.26 783.344 Q114.26 774.594 117.316 770.011 Q120.394 765.404 126.205 765.404 Z\" fill=\"#000000\" fill-rule=\"nonzero\" fill-opacity=\"1\" /><path clip-path=\"url(#clip550)\" d=\"M146.366 794.71 L151.251 794.71 L151.251 800.589 L146.366 800.589 L146.366 794.71 Z\" fill=\"#000000\" fill-rule=\"nonzero\" fill-opacity=\"1\" /><path clip-path=\"url(#clip550)\" d=\"M174.283 770.103 L162.477 788.552 L174.283 788.552 L174.283 770.103 M173.056 766.029 L178.936 766.029 L178.936 788.552 L183.866 788.552 L183.866 792.441 L178.936 792.441 L178.936 800.589 L174.283 800.589 L174.283 792.441 L158.681 792.441 L158.681 787.927 L173.056 766.029 Z\" fill=\"#000000\" fill-rule=\"nonzero\" fill-opacity=\"1\" /><path clip-path=\"url(#clip550)\" d=\"M127.686 531.764 Q124.075 531.764 122.246 535.329 Q120.441 538.871 120.441 546 Q120.441 553.107 122.246 556.672 Q124.075 560.213 127.686 560.213 Q131.32 560.213 133.126 556.672 Q134.954 553.107 134.954 546 Q134.954 538.871 133.126 535.329 Q131.32 531.764 127.686 531.764 M127.686 528.061 Q133.496 528.061 136.552 532.667 Q139.63 537.25 139.63 546 Q139.63 554.727 136.552 559.334 Q133.496 563.917 127.686 563.917 Q121.876 563.917 118.797 559.334 Q115.742 554.727 115.742 546 Q115.742 537.25 118.797 532.667 Q121.876 528.061 127.686 528.061 Z\" fill=\"#000000\" fill-rule=\"nonzero\" fill-opacity=\"1\" /><path clip-path=\"url(#clip550)\" d=\"M147.848 557.366 L152.732 557.366 L152.732 563.246 L147.848 563.246 L147.848 557.366 Z\" fill=\"#000000\" fill-rule=\"nonzero\" fill-opacity=\"1\" /><path clip-path=\"url(#clip550)\" d=\"M162.964 528.686 L181.32 528.686 L181.32 532.621 L167.246 532.621 L167.246 541.093 Q168.264 540.746 169.283 540.584 Q170.302 540.399 171.32 540.399 Q177.107 540.399 180.487 543.57 Q183.866 546.741 183.866 552.158 Q183.866 557.736 180.394 560.838 Q176.922 563.917 170.602 563.917 Q168.427 563.917 166.158 563.547 Q163.913 563.176 161.505 562.436 L161.505 557.736 Q163.589 558.871 165.811 559.426 Q168.033 559.982 170.51 559.982 Q174.514 559.982 176.852 557.875 Q179.19 555.769 179.19 552.158 Q179.19 548.547 176.852 546.44 Q174.514 544.334 170.51 544.334 Q168.635 544.334 166.76 544.75 Q164.908 545.167 162.964 546.047 L162.964 528.686 Z\" fill=\"#000000\" fill-rule=\"nonzero\" fill-opacity=\"1\" /><path clip-path=\"url(#clip550)\" d=\"M126.529 294.421 Q122.918 294.421 121.089 297.986 Q119.283 301.527 119.283 308.657 Q119.283 315.763 121.089 319.328 Q122.918 322.87 126.529 322.87 Q130.163 322.87 131.968 319.328 Q133.797 315.763 133.797 308.657 Q133.797 301.527 131.968 297.986 Q130.163 294.421 126.529 294.421 M126.529 290.717 Q132.339 290.717 135.394 295.324 Q138.473 299.907 138.473 308.657 Q138.473 317.384 135.394 321.99 Q132.339 326.573 126.529 326.573 Q120.718 326.573 117.64 321.99 Q114.584 317.384 114.584 308.657 Q114.584 299.907 117.64 295.324 Q120.718 290.717 126.529 290.717 Z\" fill=\"#000000\" fill-rule=\"nonzero\" fill-opacity=\"1\" /><path clip-path=\"url(#clip550)\" d=\"M146.691 320.023 L151.575 320.023 L151.575 325.902 L146.691 325.902 L146.691 320.023 Z\" fill=\"#000000\" fill-rule=\"nonzero\" fill-opacity=\"1\" /><path clip-path=\"url(#clip550)\" d=\"M172.339 306.759 Q169.19 306.759 167.339 308.911 Q165.51 311.064 165.51 314.814 Q165.51 318.541 167.339 320.717 Q169.19 322.87 172.339 322.87 Q175.487 322.87 177.315 320.717 Q179.167 318.541 179.167 314.814 Q179.167 311.064 177.315 308.911 Q175.487 306.759 172.339 306.759 M181.621 292.106 L181.621 296.365 Q179.862 295.532 178.056 295.092 Q176.274 294.652 174.514 294.652 Q169.885 294.652 167.431 297.777 Q165.001 300.902 164.653 307.222 Q166.019 305.208 168.079 304.143 Q170.139 303.055 172.616 303.055 Q177.825 303.055 180.834 306.226 Q183.866 309.374 183.866 314.814 Q183.866 320.138 180.718 323.356 Q177.57 326.573 172.339 326.573 Q166.343 326.573 163.172 321.99 Q160.001 317.384 160.001 308.657 Q160.001 300.462 163.89 295.601 Q167.778 290.717 174.329 290.717 Q176.089 290.717 177.871 291.064 Q179.676 291.412 181.621 292.106 Z\" fill=\"#000000\" fill-rule=\"nonzero\" fill-opacity=\"1\" /><path clip-path=\"url(#clip550)\" d=\"M67.3143 771.639 Q73.68 774.122 75.6216 776.477 Q77.5631 778.832 77.5631 782.779 L77.5631 787.458 L72.6615 787.458 L72.6615 784.02 Q72.6615 781.601 71.5157 780.265 Q70.3699 778.928 66.1048 777.305 L63.4312 776.254 L28.3562 790.673 L28.3562 784.466 L56.238 773.326 L28.3562 762.186 L28.3562 755.979 L67.3143 771.639 Z\" fill=\"#000000\" fill-rule=\"nonzero\" fill-opacity=\"1\" /><path clip-path=\"url(#clip550)\" d=\"M1066.12 28.5427 L1066.12 35.5912 Q1062.96 33.9709 1059.56 33.1607 Q1056.16 32.3505 1052.51 32.3505 Q1046.96 32.3505 1044.17 34.0519 Q1041.41 35.7533 1041.41 39.156 Q1041.41 41.7486 1043.4 43.2475 Q1045.38 44.7058 1051.38 46.0426 L1053.93 46.6097 Q1061.87 48.3111 1065.19 51.4303 Q1068.55 54.509 1068.55 60.0587 Q1068.55 66.3781 1063.53 70.0644 Q1058.55 73.7508 1049.8 73.7508 Q1046.15 73.7508 1042.18 73.0216 Q1038.25 72.3329 1033.88 70.9151 L1033.88 63.2184 Q1038.01 65.3654 1042.02 66.4591 Q1046.03 67.5124 1049.96 67.5124 Q1055.23 67.5124 1058.06 65.73 Q1060.9 63.9071 1060.9 60.6258 Q1060.9 57.5877 1058.83 55.9673 Q1056.81 54.3469 1049.88 52.8481 L1047.29 52.2405 Q1040.36 50.7821 1037.28 47.7845 Q1034.2 44.7463 1034.2 39.4801 Q1034.2 33.0797 1038.74 29.5959 Q1043.28 26.1121 1051.62 26.1121 Q1055.75 26.1121 1059.4 26.7198 Q1063.05 27.3274 1066.12 28.5427 Z\" fill=\"#000000\" fill-rule=\"nonzero\" fill-opacity=\"1\" /><path clip-path=\"url(#clip550)\" d=\"M1080.42 27.2059 L1087.88 27.2059 L1087.88 72.576 L1080.42 72.576 L1080.42 27.2059 M1080.42 9.54393 L1087.88 9.54393 L1087.88 18.9825 L1080.42 18.9825 L1080.42 9.54393 Z\" fill=\"#000000\" fill-rule=\"nonzero\" fill-opacity=\"1\" /><path clip-path=\"url(#clip550)\" d=\"M1141.19 45.1919 L1141.19 72.576 L1133.73 72.576 L1133.73 45.4349 Q1133.73 38.994 1131.22 35.7938 Q1128.71 32.5936 1123.69 32.5936 Q1117.65 32.5936 1114.17 36.4419 Q1110.68 40.2903 1110.68 46.9338 L1110.68 72.576 L1103.19 72.576 L1103.19 27.2059 L1110.68 27.2059 L1110.68 34.2544 Q1113.36 30.163 1116.96 28.1376 Q1120.61 26.1121 1125.35 26.1121 Q1133.17 26.1121 1137.18 30.9732 Q1141.19 35.7938 1141.19 45.1919 Z\" fill=\"#000000\" fill-rule=\"nonzero\" fill-opacity=\"1\" /><path clip-path=\"url(#clip550)\" d=\"M1215.08 28.9478 L1215.08 35.9153 Q1211.92 34.1734 1208.72 33.3227 Q1205.56 32.4315 1202.32 32.4315 Q1195.06 32.4315 1191.05 37.0496 Q1187.04 41.6271 1187.04 49.9314 Q1187.04 58.2358 1191.05 62.8538 Q1195.06 67.4314 1202.32 67.4314 Q1205.56 67.4314 1208.72 66.5807 Q1211.92 65.6895 1215.08 63.9476 L1215.08 70.8341 Q1211.96 72.2924 1208.59 73.0216 Q1205.27 73.7508 1201.51 73.7508 Q1191.26 73.7508 1185.22 67.3098 Q1179.18 60.8689 1179.18 49.9314 Q1179.18 38.832 1185.26 32.472 Q1191.38 26.1121 1201.99 26.1121 Q1205.43 26.1121 1208.72 26.8413 Q1212 27.5299 1215.08 28.9478 Z\" fill=\"#000000\" fill-rule=\"nonzero\" fill-opacity=\"1\" /><path clip-path=\"url(#clip550)\" d=\"M1245.62 32.4315 Q1239.62 32.4315 1236.14 37.1306 Q1232.66 41.7891 1232.66 49.9314 Q1232.66 58.0738 1236.1 62.7728 Q1239.58 67.4314 1245.62 67.4314 Q1251.57 67.4314 1255.06 62.7323 Q1258.54 58.0333 1258.54 49.9314 Q1258.54 41.8701 1255.06 37.1711 Q1251.57 32.4315 1245.62 32.4315 M1245.62 26.1121 Q1255.34 26.1121 1260.89 32.4315 Q1266.44 38.7509 1266.44 49.9314 Q1266.44 61.0714 1260.89 67.4314 Q1255.34 73.7508 1245.62 73.7508 Q1235.86 73.7508 1230.31 67.4314 Q1224.8 61.0714 1224.8 49.9314 Q1224.8 38.7509 1230.31 32.4315 Q1235.86 26.1121 1245.62 26.1121 Z\" fill=\"#000000\" fill-rule=\"nonzero\" fill-opacity=\"1\" /><path clip-path=\"url(#clip550)\" d=\"M1307.72 28.5427 L1307.72 35.5912 Q1304.56 33.9709 1301.16 33.1607 Q1297.75 32.3505 1294.11 32.3505 Q1288.56 32.3505 1285.76 34.0519 Q1283.01 35.7533 1283.01 39.156 Q1283.01 41.7486 1284.99 43.2475 Q1286.98 44.7058 1292.97 46.0426 L1295.53 46.6097 Q1303.47 48.3111 1306.79 51.4303 Q1310.15 54.509 1310.15 60.0587 Q1310.15 66.3781 1305.13 70.0644 Q1300.14 73.7508 1291.39 73.7508 Q1287.75 73.7508 1283.78 73.0216 Q1279.85 72.3329 1275.47 70.9151 L1275.47 63.2184 Q1279.61 65.3654 1283.62 66.4591 Q1287.63 67.5124 1291.56 67.5124 Q1296.82 67.5124 1299.66 65.73 Q1302.49 63.9071 1302.49 60.6258 Q1302.49 57.5877 1300.43 55.9673 Q1298.4 54.3469 1291.48 52.8481 L1288.88 52.2405 Q1281.96 50.7821 1278.88 47.7845 Q1275.8 44.7463 1275.8 39.4801 Q1275.8 33.0797 1280.34 29.5959 Q1284.87 26.1121 1293.22 26.1121 Q1297.35 26.1121 1301 26.7198 Q1304.64 27.3274 1307.72 28.5427 Z\" fill=\"#000000\" fill-rule=\"nonzero\" fill-opacity=\"1\" /><path clip-path=\"url(#clip550)\" d=\"M1355.6 65.7705 L1355.6 89.8329 L1348.11 89.8329 L1348.11 27.2059 L1355.6 27.2059 L1355.6 34.0924 Q1357.95 30.0415 1361.52 28.0971 Q1365.12 26.1121 1370.1 26.1121 Q1378.37 26.1121 1383.51 32.6746 Q1388.7 39.2371 1388.7 49.9314 Q1388.7 60.6258 1383.51 67.1883 Q1378.37 73.7508 1370.1 73.7508 Q1365.12 73.7508 1361.52 71.8063 Q1357.95 69.8214 1355.6 65.7705 M1380.96 49.9314 Q1380.96 41.7081 1377.56 37.0496 Q1374.2 32.3505 1368.28 32.3505 Q1362.37 32.3505 1358.96 37.0496 Q1355.6 41.7081 1355.6 49.9314 Q1355.6 58.1548 1358.96 62.8538 Q1362.37 67.5124 1368.28 67.5124 Q1374.2 67.5124 1377.56 62.8538 Q1380.96 58.1548 1380.96 49.9314 Z\" fill=\"#000000\" fill-rule=\"nonzero\" fill-opacity=\"1\" /><path clip-path=\"url(#clip550)\" d=\"M1401.05 9.54393 L1408.51 9.54393 L1408.51 72.576 L1401.05 72.576 L1401.05 9.54393 Z\" fill=\"#000000\" fill-rule=\"nonzero\" fill-opacity=\"1\" /><path clip-path=\"url(#clip550)\" d=\"M1441.68 32.4315 Q1435.69 32.4315 1432.2 37.1306 Q1428.72 41.7891 1428.72 49.9314 Q1428.72 58.0738 1432.16 62.7728 Q1435.65 67.4314 1441.68 67.4314 Q1447.64 67.4314 1451.12 62.7323 Q1454.61 58.0333 1454.61 49.9314 Q1454.61 41.8701 1451.12 37.1711 Q1447.64 32.4315 1441.68 32.4315 M1441.68 26.1121 Q1451.41 26.1121 1456.96 32.4315 Q1462.51 38.7509 1462.51 49.9314 Q1462.51 61.0714 1456.96 67.4314 Q1451.41 73.7508 1441.68 73.7508 Q1431.92 73.7508 1426.37 67.4314 Q1420.86 61.0714 1420.86 49.9314 Q1420.86 38.7509 1426.37 32.4315 Q1431.92 26.1121 1441.68 26.1121 Z\" fill=\"#000000\" fill-rule=\"nonzero\" fill-opacity=\"1\" /><path clip-path=\"url(#clip550)\" d=\"M1482.23 14.324 L1482.23 27.2059 L1497.59 27.2059 L1497.59 32.9987 L1482.23 32.9987 L1482.23 57.6282 Q1482.23 63.1779 1483.73 64.7578 Q1485.27 66.3376 1489.93 66.3376 L1497.59 66.3376 L1497.59 72.576 L1489.93 72.576 Q1481.3 72.576 1478.02 69.3758 Q1474.74 66.1351 1474.74 57.6282 L1474.74 32.9987 L1469.27 32.9987 L1469.27 27.2059 L1474.74 27.2059 L1474.74 14.324 L1482.23 14.324 Z\" fill=\"#000000\" fill-rule=\"nonzero\" fill-opacity=\"1\" /><path clip-path=\"url(#clip550)\" d=\"M1536.31 28.5427 L1536.31 35.5912 Q1533.15 33.9709 1529.75 33.1607 Q1526.35 32.3505 1522.7 32.3505 Q1517.15 32.3505 1514.36 34.0519 Q1511.6 35.7533 1511.6 39.156 Q1511.6 41.7486 1513.59 43.2475 Q1515.57 44.7058 1521.57 46.0426 L1524.12 46.6097 Q1532.06 48.3111 1535.38 51.4303 Q1538.74 54.509 1538.74 60.0587 Q1538.74 66.3781 1533.72 70.0644 Q1528.74 73.7508 1519.99 73.7508 Q1516.34 73.7508 1512.37 73.0216 Q1508.44 72.3329 1504.07 70.9151 L1504.07 63.2184 Q1508.2 65.3654 1512.21 66.4591 Q1516.22 67.5124 1520.15 67.5124 Q1525.42 67.5124 1528.25 65.73 Q1531.09 63.9071 1531.09 60.6258 Q1531.09 57.5877 1529.02 55.9673 Q1527 54.3469 1520.07 52.8481 L1517.48 52.2405 Q1510.55 50.7821 1507.47 47.7845 Q1504.39 44.7463 1504.39 39.4801 Q1504.39 33.0797 1508.93 29.5959 Q1513.47 26.1121 1521.81 26.1121 Q1525.94 26.1121 1529.59 26.7198 Q1533.23 27.3274 1536.31 28.5427 Z\" fill=\"#000000\" fill-rule=\"nonzero\" fill-opacity=\"1\" /><polyline clip-path=\"url(#clip552)\" style=\"stroke:#009af9; stroke-linecap:round; stroke-linejoin:round; stroke-width:4; stroke-opacity:1; fill:none\" points=\"2292.39,160.256 1844.4,401.295 1257.17,749.901 486.985,1247.7 280.231,1386.4 391.229,1311.75 1726.81,468.385 371.444,1325.03 693.122,1111.11 2114.13,253.269 \"/>\n",
       "<path clip-path=\"url(#clip550)\" d=\"M290.963 270.476 L556.682 270.476 L556.682 166.796 L290.963 166.796  Z\" fill=\"#ffffff\" fill-rule=\"evenodd\" fill-opacity=\"1\"/>\n",
       "<polyline clip-path=\"url(#clip550)\" style=\"stroke:#000000; stroke-linecap:round; stroke-linejoin:round; stroke-width:4; stroke-opacity:1; fill:none\" points=\"290.963,270.476 556.682,270.476 556.682,166.796 290.963,166.796 290.963,270.476 \"/>\n",
       "<polyline clip-path=\"url(#clip550)\" style=\"stroke:#009af9; stroke-linecap:round; stroke-linejoin:round; stroke-width:4; stroke-opacity:1; fill:none\" points=\"314.661,218.636 456.854,218.636 \"/>\n",
       "<path clip-path=\"url(#clip550)\" d=\"M494.395 238.323 Q492.59 242.953 490.877 244.365 Q489.164 245.777 486.293 245.777 L482.891 245.777 L482.891 242.212 L485.391 242.212 Q487.15 242.212 488.122 241.379 Q489.094 240.545 490.275 237.443 L491.039 235.499 L480.553 209.99 L485.067 209.99 L493.168 230.268 L501.27 209.99 L505.784 209.99 L494.395 238.323 Z\" fill=\"#000000\" fill-rule=\"nonzero\" fill-opacity=\"1\" /><path clip-path=\"url(#clip550)\" d=\"M513.076 231.981 L520.715 231.981 L520.715 205.615 L512.404 207.282 L512.404 203.022 L520.668 201.356 L525.344 201.356 L525.344 231.981 L532.983 231.981 L532.983 235.916 L513.076 235.916 L513.076 231.981 Z\" fill=\"#000000\" fill-rule=\"nonzero\" fill-opacity=\"1\" /></svg>\n"
      ]
     },
     "metadata": {},
     "output_type": "display_data"
    }
   ],
   "source": [
    "plot!(title=\"sin cos plots\", xlabel=\"x\", ylabel=\"y\")"
   ]
  },
  {
   "cell_type": "markdown",
   "metadata": {},
   "source": []
  },
  {
   "cell_type": "markdown",
   "metadata": {},
   "source": []
  }
 ],
 "metadata": {
  "kernelspec": {
   "display_name": "Julia 1.9.2",
   "language": "julia",
   "name": "julia-1.9"
  },
  "language_info": {
   "file_extension": ".jl",
   "mimetype": "application/julia",
   "name": "julia",
   "version": "1.9.2"
  },
  "orig_nbformat": 4
 },
 "nbformat": 4,
 "nbformat_minor": 2
}
