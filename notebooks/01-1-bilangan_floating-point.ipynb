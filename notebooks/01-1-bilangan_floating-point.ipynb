{
 "cells": [
  {
   "cell_type": "markdown",
   "metadata": {},
   "source": [
    "## Bilangan Floating-Point\n",
    "\n",
    "Himpunan bilangan real $\\mathbb{R}$ tak berhingga, karena ia tidak terbatas dan kontinu. Secara komputasi, istilah tak behingga tidak mungkin ditemui. Ini sesuai dengan apa yang dikatakan {cite}`10.5555/260999` bahwa salah satu sifat yang harus dimiliki oleh suatu algoritma (dalam hal ini kita bisa katakan komputasi) adalah keberhinggaan (finiteness). Oleh karena itu, kita perlu mengetahui suatu himpunan berhingga yang dapat dijalankan di komputer (sebagai alat komputasi) yang dapat merepresentasikan bilangan real tersebut. \n",
    "\n",
    "```{admonition} Definisi 1.1.1: Bilangan Floating-Point\n",
    "Himpunan __bilangan floating-point__ $\\mathbb{F}$ terdiri dari nilai nol dan semua bilangan yang dibentuk dari\n",
    "\n",
    "$$\n",
    "\\pm (1+f) \\times 2^n,\n",
    "$$ (eqn:1-1)\n",
    "\n",
    "dimana $n$ adalah bilangan bulat yang disebut dengan __eksponen__, dan $1+f$ adalah __matissa__ atau __significand__, dengan\n",
    "\n",
    "$$\n",
    "f = \\sum_{i=1}^{d} b_i 2^{-i}, \\hspace{1em} b_i \\in \\{0, 1\\},\n",
    "$$ (eqn:1-2)\n",
    "\n",
    "dan bilangan bulat $d$ disebut dengan __presisi__.\n",
    "```\n",
    "\n",
    "Persamaan {eq}`eqn:1-2` merepresentasikan significand sebagai bilangan di interval $\\[1, 2 \\)$ dalam bentuk basis-2. Secara ekuivalen,\n",
    "\n",
    "$$\n",
    "f = 2^{-d} \\sum_{i=1}^{d} b_i 2^{d-i} = 2^{-d}z,\n",
    "$$ (eqn:1-3)\n",
    "\n",
    "untuk suatu bilangan bulat $z$ di himpunan $\\{ 0, 1, \\cdots, 2^d - 1\\}$. Konsekunsinya, mulai dari $2^n$ dan berakhir sebelum $2^{n+1}$, maka terdapat tepat $2^d$ __evenly spaced numbers__ yang dimiliki oleh $\\mathbb{F}$. "
   ]
  },
  {
   "cell_type": "markdown",
   "metadata": {},
   "source": [
    "```{tip} Contoh 1.1.1\n",
    "Misalkan $d=2$ dan dengan mengambil $n=0$ di {eq}`eqn:1-1`, kita cacah\n",
    "\n",
    "$$\n",
    "1 + \\frac{0}{4}, 1 + \\frac{1}{4}, 1 + \\frac{2}{4}, 1 + \\frac{3}{4}.\n",
    "$$\n",
    "\n",
    "Angka-angka ini adalah anggota dari $\\mathbb{F}$ di interval \\[1, 2\\) dan mereka dipisahkan oleh $\\frac{1}{4}$.\n",
    "```"
   ]
  },
  {
   "cell_type": "markdown",
   "metadata": {},
   "source": []
  }
 ],
 "metadata": {
  "kernelspec": {
   "display_name": "Julia 1.7.0",
   "language": "julia",
   "name": "julia-1.7"
  },
  "language_info": {
   "name": "julia"
  },
  "orig_nbformat": 4
 },
 "nbformat": 4,
 "nbformat_minor": 2
}
