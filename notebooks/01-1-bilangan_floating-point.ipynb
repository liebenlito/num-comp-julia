{
 "cells": [
  {
   "cell_type": "markdown",
   "metadata": {},
   "source": [
    "# Bilangan Floating-Point\n",
    "\n",
    "Himpunan bilangan real $\\mathbb{R}$ tak berhingga, karena ia tidak terbatas dan kontinu. Secara komputasi, istilah tak behingga tidak mungkin ditemui. Ini sesuai dengan apa yang dikatakan {cite}`Knuth` bahwa salah satu sifat yang harus dimiliki oleh suatu algoritma (dalam hal ini kita bisa katakan komputasi) adalah keberhinggaan (finiteness). Oleh karena itu, kita perlu mengetahui suatu himpunan berhingga yang dapat dijalankan di komputer (sebagai alat komputasi) yang dapat merepresentasikan bilangan real tersebut. \n",
    "\n",
    "```{admonition} Definisi 1.1.1: Bilangan Floating-Point\n",
    "Himpunan __bilangan floating-point__ $\\mathbb{F}$ terdiri dari nilai nol dan semua bilangan yang dibentuk dari\n",
    "\n",
    "$$\n",
    "\\pm (1+f) \\times 2^n,\n",
    "$$ (eqn:1-1)\n",
    "\n",
    "dimana $n$ adalah bilangan bulat yang disebut dengan __eksponen__, dan $1+f$ adalah __matissa__ atau __significand__, dengan\n",
    "\n",
    "$$\n",
    "f = \\sum_{i=1}^{d} b_i 2^{-i}, \\hspace{1em} b_i \\in {0, 1},\n",
    "$$ (eqn:1-2)\n",
    "\n",
    "untuk bilangan bulat $d$ disebut dengan __presisi__.\n",
    "```"
   ]
  }
 ],
 "metadata": {
  "kernelspec": {
   "display_name": "Julia 1.7.0",
   "language": "julia",
   "name": "julia-1.7"
  },
  "language_info": {
   "name": "julia"
  },
  "orig_nbformat": 4
 },
 "nbformat": 4,
 "nbformat_minor": 2
}
