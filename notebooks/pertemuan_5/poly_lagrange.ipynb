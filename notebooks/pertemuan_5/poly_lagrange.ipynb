{
 "cells": [
  {
   "cell_type": "markdown",
   "id": "e4f6f2b7-cc3f-4424-89df-dc77dbd0941d",
   "metadata": {
    "user_expressions": []
   },
   "source": [
    "# Polynomial Lagrange\n",
    "\n",
    ":::{prf:definition}\n",
    ":label: def-poly_lagrange\n",
    "Diberikan $n$ titik $(x_0, y_0), (x_1, x_1), \\cdots, (x_n, y_n)$. **Fungsi kardinal** $l_0, l_1, \\cdots, l_{n} \\in \\mathcal{P}^{n}$ (polynomial berderajat $n$), dimana\n",
    "\n",
    "$$\n",
    "l_i(x_i) = \\delta_{ij} =\n",
    "\\begin{cases}\n",
    "1, \\hspace{1em} i = j \\\\\n",
    "0, \\hspace{1em} i \\neq j\n",
    "\\end{cases}\n",
    "$$\n",
    "\n",
    "untuk $i = 0, 1, \\cdots, n$. Bentuk **polynomial Lagrange** adalah\n",
    "\n",
    "$$\n",
    "P_n(x) = \\sum_{i=0}^{n} l_i(x)\\cdot y_i\n",
    "$$\n",
    ":::"
   ]
  },
  {
   "cell_type": "markdown",
   "id": "f69cabd4-082f-4c8d-b36a-91b987565c56",
   "metadata": {
    "user_expressions": []
   },
   "source": [
    "Kita periksa sifat interpolasi:\n",
    "\n",
    "$$\n",
    "P_n(x_j) = \\sum_{i=0}^{n} l_i(x)\\cdot y_i, \\hspace{1em} \\forall j.\n",
    "$$\n",
    "\n",
    "$l_i(x)$ dapat dituliskan sebagai\n",
    "\n",
    "$$\n",
    "\\begin{align*}\n",
    "l_i(x) &= \\prod_{j=0, j\\neq i}^{n} \\left( \\frac{x - x_j}{x_i - x_j} \\right) \\\\\n",
    "&= \\frac{x - x_0}{x_i - x_0} \\cdot \\frac{x - x_1}{x_i - x_1} \\cdots \\frac{x - x_{i-1}}{x_i - x_{i-1}} \\cdot \\frac{x - x_{i+1}}{x_i - x_{i+1}} \\cdots \\frac{x - x_n}{x_i - x_n}\n",
    "\\end{align*}\n",
    "$$"
   ]
  },
  {
   "cell_type": "markdown",
   "id": "7dc9ae1b-5438-4895-ab9b-c074dc74b75f",
   "metadata": {
    "user_expressions": []
   },
   "source": [
    "## Contoh 1\n",
    "\n"
   ]
  },
  {
   "cell_type": "code",
   "execution_count": null,
   "id": "8146f7a6-2a02-439d-a30d-41b1e02ac0dd",
   "metadata": {},
   "outputs": [],
   "source": []
  }
 ],
 "metadata": {
  "kernelspec": {
   "display_name": "Julia 1.9.2",
   "language": "julia",
   "name": "julia-1.9"
  },
  "language_info": {
   "file_extension": ".jl",
   "mimetype": "application/julia",
   "name": "julia",
   "version": "1.9.2"
  }
 },
 "nbformat": 4,
 "nbformat_minor": 5
}
