{
 "cells": [
  {
   "cell_type": "markdown",
   "id": "e4f6f2b7-cc3f-4424-89df-dc77dbd0941d",
   "metadata": {
    "user_expressions": []
   },
   "source": [
    "# Polynomial Lagrange\n",
    "\n",
    ":::{prf:definition}\n",
    ":label: def-poly_lagrange\n",
    "Diberikan $n$ titik $(x_0, y_0), (x_1, x_1), \\cdots, (x_n, y_n)$. **Fungsi kardinal** $l_0, l_1, \\cdots, l_{n} \\in \\mathcal{P}^{n}$ (polynomial berderajat $n$), dimana\n",
    "\n",
    "$$\n",
    "l_i(x_i) = \\delta_{ij} =\n",
    "\\begin{cases}\n",
    "1, \\hspace{1em} i = j \\\\\n",
    "0, \\hspace{1em} i \\neq j\n",
    "\\end{cases}\n",
    "$$\n",
    "\n",
    "untuk $i = 0, 1, \\cdots, n$. Bentuk **polynomial Lagrange** adalah\n",
    "\n",
    "$$\n",
    "P_n(x) = \\sum_{i=0}^{n} l_i(x)\\cdot y_i\n",
    "$$\n",
    ":::"
   ]
  },
  {
   "cell_type": "markdown",
   "id": "f69cabd4-082f-4c8d-b36a-91b987565c56",
   "metadata": {
    "user_expressions": []
   },
   "source": [
    "Kita periksa sifat interpolasi:\n",
    "\n",
    "$$\n",
    "P_n(x_j) = \\sum_{i=0}^{n} l_i(x)\\cdot y_i, \\hspace{1em} \\forall j.\n",
    "$$\n",
    "\n",
    "$l_i(x)$ dapat dituliskan sebagai\n",
    "\n",
    "$$\n",
    "\\begin{align*}\n",
    "l_i(x) &= \\prod_{j=0, j\\neq i}^{n} \\left( \\frac{x - x_j}{x_i - x_j} \\right) \\\\\n",
    "&= \\frac{x - x_0}{x_i - x_0} \\cdot \\frac{x - x_1}{x_i - x_1} \\cdots \\frac{x - x_{i-1}}{x_i - x_{i-1}} \\cdot \\frac{x - x_{i+1}}{x_i - x_{i+1}} \\cdots \\frac{x - x_n}{x_i - x_n}\n",
    "\\end{align*}\n",
    "$$"
   ]
  },
  {
   "cell_type": "markdown",
   "id": "e46a67ed-b8a3-4704-9195-f9c0f3e28a5b",
   "metadata": {},
   "source": [
    "## Contoh 1"
   ]
  },
  {
   "cell_type": "markdown",
   "id": "dc8a1c69-7fcc-40f2-ae67-00661cfcbd4f",
   "metadata": {
    "user_expressions": []
   },
   "source": [
    "```{list-table} Titik data\n",
    ":header-rows: 1\n",
    ":name: example1-table\n",
    "\n",
    "* - $x_i$\n",
    "  - $y_i$\n",
    "* - 0\n",
    "  - 1\n",
    "* - 1\n",
    "  - 0\n",
    "* - 2/3\n",
    "  - 0.5\n",
    "```\n",
    "\n",
    "dengan menggunakan polynomial Lagrange kita dapatkan\n",
    "\n",
    ":::{tip} Jawaban\n",
    ":class: dropdown\n",
    "$$\n",
    "\\begin{align*}\n",
    "l_0(x) &= \\frac{\\frac{x-2}{3}}{\\frac{0-2}{3}} \\cdot \\frac{x-1}{0-1} = \\frac{3}{2} \\left( x - \\frac{2}{3} \\right) \\left( x - 1 \\right) \\\\\n",
    "l_1(x) &= \\frac{x-0}{2/3 - 0} \\cdot \\frac{x-1}{2/3 - 1} = -\\frac{9}{2} x \\left( x - 1 \\right) \\\\\n",
    "l_2(x) &= \\frac{x-0}{1 - 0} \\cdot \\frac{x-2/3}{1-2/3} = -3x \\left( x - \\frac{2}{3} \\right) \\\\\n",
    "\\end{align*}\n",
    "$$\n",
    "\n",
    "jadi\n",
    "\n",
    "$$\n",
    "\\begin{align*}\n",
    "P_2(x) &= l_0(x)y_0 + l_1(x)y_1 + l_2(x)y_2 \\\\\n",
    "&= \\frac{3}{2} \\left( x - \\frac{2}{3}\\right) (x-1) - \\frac{9}{2}x (x - 1) (0.5) + 0 \\\\\n",
    "&= -\\frac{3}{4} x^2 - \\frac{1}{4}x + 1.\n",
    "\\end{align*}\n",
    "$$\n",
    ":::"
   ]
  },
  {
   "cell_type": "code",
   "execution_count": null,
   "id": "bfabea40-666b-4d49-951a-ffddd2ba2177",
   "metadata": {},
   "outputs": [],
   "source": []
  }
 ],
 "metadata": {
  "kernelspec": {
   "display_name": "Julia 1.9.2",
   "language": "julia",
   "name": "julia-1.9"
  },
  "language_info": {
   "file_extension": ".jl",
   "mimetype": "application/julia",
   "name": "julia",
   "version": "1.9.2"
  }
 },
 "nbformat": 4,
 "nbformat_minor": 5
}
