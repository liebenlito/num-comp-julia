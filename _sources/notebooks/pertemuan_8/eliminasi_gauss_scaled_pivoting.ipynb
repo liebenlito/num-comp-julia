{
 "cells": [
  {
   "cell_type": "markdown",
   "id": "c09fa529-fb6d-4c5c-81c7-5526de2e3881",
   "metadata": {
    "user_expressions": []
   },
   "source": [
    "# Eliminasi Gauss dengan Scaled Partial Pivoting\n",
    "\n",
    "kita lihat SPL berikut\n",
    "\n",
    "$$\n",
    "\\begin{array}{cc}\n",
    "E_1: a_{11} x_1 + a_{12} x_2 &=& b_1 \\\\\n",
    "E_2: a_{21} x_1 + a_{22} x_2 &=& b_2\n",
    "\\end{array}\n",
    "$$\n",
    "\n",
    "Asumsikan bahwa kita telah mendapatkan nilai dari $x_2$ dan mengandung error pembulatan (round-off error), $\\hat{x}_2 = x_2 + \\varepsilon_2$. Kemudian kita hitung $x_1$ dengan $\\hat{x}_2$:\n",
    "\n",
    "$$\n",
    "\\begin{array}{cc}\n",
    "  \\hat{x}_1 &=& \\frac{1}{a_{11}}(b_1 - a_{12}\\hat{x}_2)\\\\\n",
    "            &=& \\frac{1}{a_{11}}(b_1 - a_{12}x_2 - a_{12}\\varepsilon_2)\\\\\n",
    "            &=& \\frac{1}{a_{11}}(b_1 - a_{12}x_2) - \\frac{a_{12}}{a_{11}} \\varepsilon_2\\\\\n",
    "            &=& x_1 - \\varepsilon_1\n",
    "\\end{array}\n",
    "$$\n",
    "\n",
    "dengan demikian kita dapatkan $\\varepsilon_1 = \\frac{a_{12}}{a_{11}} \\varepsilon_2$. Error di $x_2$ terpropagasi dengan suatu faktor $\\frac{a_{12}}{a_{11}}$. Kasus ini disebut juga dengan __error terpropagasi (propagated error)__. Untuk menghasilkan hasil yang terbaik, kita menginginkan nilai dari $|a_{11}|$ sebesar mungkin. "
   ]
  },
  {
   "cell_type": "markdown",
   "id": "bd051a19-c08b-47f0-9a48-a5e2e08bd5b0",
   "metadata": {
    "user_expressions": []
   },
   "source": [
    "Untuk menghindari hal tersebut, kita memerlukan __penukaran baris__ di A."
   ]
  },
  {
   "cell_type": "code",
   "execution_count": 12,
   "id": "f88e311b-d58d-443d-a43d-ba1a14e2a943",
   "metadata": {},
   "outputs": [
    {
     "data": {
      "text/plain": [
       "eliminasi_gauss (generic function with 1 method)"
      ]
     },
     "execution_count": 12,
     "metadata": {},
     "output_type": "execute_result"
    }
   ],
   "source": [
    "function eliminasi_gauss(A, b)\n",
    "    A_c = hcat(A, b)\n",
    "    \n",
    "    # jumlah baris dari A\n",
    "    n = size(A_c, 1)\n",
    "    \n",
    "    # eliminasi maju\n",
    "    for i in 1:n-1\n",
    "        pivot = A_c[i, i]\n",
    "        for j in i+1:n\n",
    "            faktor = A_c[j, i] / pivot\n",
    "            A_c[j, :] -= faktor .* A_c[i, :]\n",
    "        end\n",
    "    end\n",
    "    \n",
    "    # subtitusi mundur\n",
    "    b = A_c[:, end]\n",
    "    b[end] /= A_c[end, end-1]\n",
    "    for i in n-1:-1:1\n",
    "        pivot = A_c[i, i]\n",
    "        b[i] -= sum(A_c[i, i+1:end-1] .* b[i+1:end])\n",
    "        b[i] /= pivot\n",
    "    end\n",
    "    \n",
    "    return b\n",
    "end"
   ]
  },
  {
   "cell_type": "code",
   "execution_count": 13,
   "id": "4e1fa3c0-1018-4dbb-ae32-d4d6f7f601d5",
   "metadata": {},
   "outputs": [
    {
     "data": {
      "text/plain": [
       "2-element Vector{Int64}:\n",
       " -1\n",
       "  3"
      ]
     },
     "execution_count": 13,
     "metadata": {},
     "output_type": "execute_result"
    }
   ],
   "source": [
    "A = [1e-17 -1; 1 2]\n",
    "b = [-1; 3]"
   ]
  },
  {
   "cell_type": "code",
   "execution_count": 14,
   "id": "26dc4222-9637-4e34-9aad-b6514efeb933",
   "metadata": {},
   "outputs": [
    {
     "name": "stdout",
     "output_type": "stream",
     "text": [
      "A = [1.0 2.0; 1.0e-17 -1.0]b = [3, -1]"
     ]
    }
   ],
   "source": [
    "# Tukar baris\n",
    "A[[1,2],:] = A[[2,1],:]\n",
    "b[[1,2]] = b[[2,1]]\n",
    "\n",
    "print(\"A = \", A)\n",
    "print(\"b = \", b)"
   ]
  },
  {
   "cell_type": "code",
   "execution_count": 15,
   "id": "0fbb20ce-6b8b-499c-9df9-c50de88813bf",
   "metadata": {},
   "outputs": [
    {
     "data": {
      "text/plain": [
       "2-element Vector{Float64}:\n",
       " 1.0\n",
       " 1.0"
      ]
     },
     "execution_count": 15,
     "metadata": {},
     "output_type": "execute_result"
    }
   ],
   "source": [
    "sol = eliminasi_gauss(A, b)"
   ]
  },
  {
   "cell_type": "markdown",
   "id": "3fe93880-f1f3-4ba7-8f03-44d233afbfb5",
   "metadata": {
    "user_expressions": []
   },
   "source": [
    "Dari kasus tersebut, kita memerlukan teknik __scaled partial pivoting__. Idenya adalah mencari skala terbesar dari masing-masing koefisien di setiap persamaan,  $max_{k \\leq i \\leq n} |a_{ik}|$ untuk $a_{ii}$, kemudian cari mana baris yang memiliki skala terbesar dan lakukan penukaran baris. Untuk lebih jelasnya, kita lihat algoritma berikut:"
   ]
  },
  {
   "cell_type": "markdown",
   "id": "756d5e90-1d21-4e02-8b88-c6bae53385ea",
   "metadata": {
    "user_expressions": []
   },
   "source": [
    "```python\n",
    "Algoritma: Eliminasi_Gauss_Scaled_Pivoting(A, b)\n",
    "\n",
    "INPUT: A` adalah matriks augmented [A,b], n adalah ukuran dari A.\n",
    "OUTPUT: variabel x \n",
    "\n",
    "1. Mencari skala terbesar dari setiap baris \n",
    "\n",
    "for i=1 to n\n",
    "      s[i] = max(|a[i,j]|), j = 1,2,..,n\n",
    "      if s[i] == 0\n",
    "          print('tidak ada solusi tunggal')\n",
    "\n",
    "for i=1 to n\n",
    "  2. Mencari indeks dari baris yang memiliki skala terbesar dan lakukan penukaran baris:\n",
    "\n",
    "  for i=1 to n-1\n",
    "      p = argmax(|a[k, i]|/s[i]), k = 1,2,...,n (mencari indeks)\n",
    "      if p ~= i\n",
    "          A`[[i,p]] <=> A`[[p,i]] (lakukan penukaran baris)\n",
    "          s[i] <=> s[p] (lakukan penukaran nilai skala)\n",
    "  3. Selanjutnya, lakukan eliminasi maju seperti pada algoritma sebelumnya.\n",
    "\n",
    "4. Lakukan subtitusi mundur.\n",
    "```"
   ]
  },
  {
   "cell_type": "markdown",
   "id": "5c4a89c0-cf7b-45fe-9d57-76b7975acabb",
   "metadata": {
    "user_expressions": []
   },
   "source": [
    "## Contoh 1\n",
    "\n",
    "Diberikan SPL\n",
    "\n",
    "$$\n",
    "\\begin{array}{cc}\n",
    "E_1: & x_1 &+& 2x_2 &+& x_3 &=& 3, \\\\\n",
    "E_2: & 3x_1 &+& 4x_2 &+&  &=& 3, \\\\\n",
    "E_3: & 2x_1 &+& 10x_2 &+& 4x_3 &=& 10, \\\\\n",
    "\\end{array}\n",
    "$$\n",
    "\n",
    "Dari SPL tersebut, pertama kita cari skala terbesar di setiap baris/persamaan.\n",
    "Untuk baris pertama $E_1$:\n",
    "\n",
    "$$\n",
    "\\begin{array}{cc}\n",
    "s_1 &=& \\max_{1 \\leq j \\leq n} |a_{1j}|\\\\\n",
    "     &=& \\max \\{1, 2, 1\\} \\\\\n",
    "     &=& 2\n",
    "\\end{array}\n",
    "$$\n",
    "\n",
    "baris kedua $E_2$:\n",
    "\n",
    "$$\n",
    "\\begin{array}{cc}\n",
    "s_2 &=& \\max_{1 \\leq j \\leq n} |a_{2j}|\\\\\n",
    "     &=& \\max \\{3, 4, 0\\} \\\\\n",
    "     &=& 4\n",
    "\\end{array}\n",
    "$$\n",
    "\n",
    "dan, baris ketiga $E_3$:\n",
    "\n",
    "$$\n",
    "\\begin{array}{cc}\n",
    "s_3 &=& \\max_{1 \\leq j \\leq n} |a_{3j}|\\\\\n",
    "     &=& \\max \\{2, 10, 4\\} \\\\\n",
    "     &=& 10.\n",
    "\\end{array}\n",
    "$$\n",
    "\n",
    "Kemudian kita cari baris yang akan ditukar:\n",
    "\n",
    "$$\n",
    "\\frac{a_{11}}{s_1} = \\frac{1}{2}, \\frac{a_{21}}{s_2} = \\frac{3}{4}, \\frac{a_{31}}{s_3} = \\frac{2}{10} \\rightarrow i=2\n",
    "$$\n",
    "\n",
    "dari sini kita dapatkan bahwa baris kedua $E_2$ yang memiliki nilai terbesar. Dengan demikian, lakukan penukaran $E_1 \\leftrightarrow E_2$. Sehingga SPLnya menjadi\n",
    "\n",
    "$$\n",
    "\\begin{array}{cc}\n",
    "E_1: & 3x_1 &+& 4x_2 &+&  &=& 3, \\\\\n",
    "E_2: & x_1 &+& 2x_2 &+& x_3 &=& 3, \\\\\n",
    "E_3: & 2x_1 &+& 10x_2 &+& 4x_3 &=& 10, \\\\\n",
    "\\end{array}\n",
    "$$\n",
    "\n",
    "Kemudian kita lakukan eliminasi maju untuk mengeliminasi $x_1$ dari $E_2$ dan $E_3$\n",
    "* $(E_2 - \\frac{1}{3} E_1) \\rightarrow (E_2)$\n",
    "* $(E_3 - \\frac{2}{3} E_1) \\rightarrow (E_3)$.\n",
    "\n",
    "Sehingga didapat SPL baru, yaitu\n",
    "\n",
    "$$\n",
    "\\begin{array}{cc}\n",
    "E_2: & 3x_1 &+& 4x_2 &+&  &=& 3, \\\\\n",
    "E_1: &  && \\frac{2}{3}x_2 &+& x_3 &=& 2, \\\\\n",
    "E_3: &  && \\frac{22}{3}x_2 &+& 4x_3 &=& 8, \\\\\n",
    "\\end{array}\n",
    "$$\n",
    "\n",
    "dan kita cari lagi baris yang akan ditukar dari SPL baru tersebut:\n",
    "\n",
    "$$\n",
    "\\frac{a_{12}}{s_1} = \\frac{2/3}{2} = \\frac{1}{3}, \\frac{a_{32}}{s_3} = \\frac{22/3}{10} = \\frac{22}{30} \\rightarrow i=3\n",
    "$$\n",
    "\n",
    "sehingga kita tukar $E_1 \\leftrightarrow E_3$, maka didapat SPL baru selanjutnya\n",
    "\n",
    "$$\n",
    "\\begin{array}{cc}\n",
    "E_2: & 3x_1 &+& 4x_2 &+&  &=& 3, \\\\\n",
    "E_3: &  && \\frac{22}{3}x_2 &+& 4x_3 &=& 8, \\\\\n",
    "E_1: &  && \\frac{2}{3}x_2 &+& x_3 &=& 2, \\\\\n",
    "\\end{array}\n",
    "$$\n",
    "\n",
    "dan lakukan eliminasi maju untuk mengeliminasi $x_2$ dari $E_1$:\n",
    "* $(E_1 - \\frac{1}{11} E_3) \\rightarrow (E_1)$\n",
    "\n",
    "sehingga didapatkan SPL:\n",
    "\n",
    "$$\n",
    "\\begin{array}{cc}\n",
    "E_2: & 3x_1 &+& 4x_2 &+&  &=& 3, \\\\\n",
    "E_3: &  && \\frac{22}{3}x_2 &+& 4x_3 &=& 8, \\\\\n",
    "E_1: &  &&  && \\frac{7}{11}x_3 &=& \\frac{14}{11}, \\\\\n",
    "\\end{array}\n",
    "$$\n",
    "\n",
    "Kemudian lakukan subtitusi mundur, sehingga didapatkan $x_1 = 1, x_2 = 0, x_3 = 2$."
   ]
  },
  {
   "cell_type": "markdown",
   "id": "49ad6faf-cf02-4b6c-8e79-9cb89f947aa7",
   "metadata": {
    "user_expressions": []
   },
   "source": [
    "## Implementasi di Julia"
   ]
  },
  {
   "cell_type": "code",
   "execution_count": 22,
   "id": "35e2c70c-4bbf-47b8-9fde-832256b96255",
   "metadata": {},
   "outputs": [
    {
     "data": {
      "text/plain": [
       "eliminasi_gauss_scaled_pivoting (generic function with 1 method)"
      ]
     },
     "execution_count": 22,
     "metadata": {},
     "output_type": "execute_result"
    }
   ],
   "source": [
    "function eliminasi_gauss_scaled_pivoting(A, b)\n",
    "    n = size(A, 1)\n",
    "    x = zeros(n)\n",
    "    scaling = [maximum(abs.(A[i, :])) for i in 1:n]  # Lakukan penskalaan pada masing-masing baris\n",
    "    perm = collect(1:n)  # inisialisasi vektor permutasi\n",
    "\n",
    "    # Eliminasi maju\n",
    "    for k in 1:n-1\n",
    "        # Cari pivot \n",
    "        pivot = k\n",
    "        for i in k+1:n\n",
    "            if abs(A[perm[i], k] / scaling[perm[i]]) > abs(A[perm[pivot], k] / scaling[perm[pivot]])\n",
    "                pivot = i\n",
    "            end\n",
    "        end\n",
    "        perm[k], perm[pivot] = perm[pivot], perm[k]  # Tukar baris di dalam vektor permutasi\n",
    "\n",
    "        # Eliminasi\n",
    "        for i in k+1:n\n",
    "            faktor = A[perm[i], k] / A[perm[k], k]\n",
    "            A[perm[i], k:n] -= faktor * A[perm[k], k:n]\n",
    "            b[perm[i]] -= faktor * b[perm[k]]\n",
    "        end\n",
    "    end\n",
    "\n",
    "    # Subtitusi mundur\n",
    "    for i in n:-1:1\n",
    "        x[i] = (b[perm[i]] - A[perm[i], i+1:n]' * x[i+1:n]) / A[perm[i], i]\n",
    "    end\n",
    "\n",
    "    return x\n",
    "end"
   ]
  },
  {
   "cell_type": "code",
   "execution_count": 26,
   "id": "ae3e008e-7319-459a-8e7d-5c58e073ead3",
   "metadata": {},
   "outputs": [
    {
     "data": {
      "text/plain": [
       "3-element Vector{Float64}:\n",
       " 1.0\n",
       " 0.0\n",
       " 2.0"
      ]
     },
     "execution_count": 26,
     "metadata": {},
     "output_type": "execute_result"
    }
   ],
   "source": [
    "A = [1. 2. 1.; 3. 4. 0.; 2. 10. 4.]\n",
    "b = [3.; 3.; 10.]\n",
    "sol = eliminasi_gauss_scaled_pivoting(A, b)"
   ]
  },
  {
   "cell_type": "markdown",
   "id": "a4c5bf67-f4ed-4782-98f6-4ec6c1584ae8",
   "metadata": {
    "user_expressions": []
   },
   "source": [
    "## Contoh 2\n",
    "\n",
    "$$\n",
    "\\begin{array}{cc}\n",
    "E_1: & x_1 &+& 10^{17}x_2 &=& 10^{17}, \\\\\n",
    "E_2: & x_1 &+& 10^{-17}x_2 &=& 1, \\\\\n",
    "\\end{array}\n",
    "$$"
   ]
  },
  {
   "cell_type": "code",
   "execution_count": 33,
   "id": "b6ccc2cd-9825-4469-95e8-e3db96f9c3e7",
   "metadata": {},
   "outputs": [
    {
     "name": "stdout",
     "output_type": "stream",
     "text": [
      "A: [1.0 1.0e17; 1.0 1.0e-17]\n",
      "b: [1.0e17, 1.0]\n"
     ]
    }
   ],
   "source": [
    "A = [1. 1e17; 1. 1e-17]\n",
    "b = [1e17; 1.];\n",
    "println(\"A: \", A)\n",
    "println(\"b: \", b)"
   ]
  },
  {
   "cell_type": "code",
   "execution_count": 38,
   "id": "fe270d0f-b994-41a5-8df3-a768984f7c9f",
   "metadata": {},
   "outputs": [
    {
     "name": "stdout",
     "output_type": "stream",
     "text": [
      "Condition number dari A: 9.999999999999997e16\n",
      "Determinan dari A: -1.0e17\n"
     ]
    }
   ],
   "source": [
    "using LinearAlgebra\n",
    "\n",
    "println(\"Condition number dari A: \", cond(A))\n",
    "println(\"Determinan dari A: \", det(A))"
   ]
  },
  {
   "cell_type": "code",
   "execution_count": 37,
   "id": "a090e400-e870-4669-bc9f-39469e75abcb",
   "metadata": {},
   "outputs": [
    {
     "data": {
      "text/plain": [
       "2-element Vector{Float64}:\n",
       " 0.0\n",
       " 1.0"
      ]
     },
     "execution_count": 37,
     "metadata": {},
     "output_type": "execute_result"
    }
   ],
   "source": [
    "x = eliminasi_gauss(A, b)"
   ]
  },
  {
   "cell_type": "code",
   "execution_count": 39,
   "id": "92fc8ea7-9d88-4f56-8e01-fd85eeabc076",
   "metadata": {},
   "outputs": [
    {
     "data": {
      "text/plain": [
       "2-element Vector{Float64}:\n",
       " 1.0\n",
       " 1.0"
      ]
     },
     "execution_count": 39,
     "metadata": {},
     "output_type": "execute_result"
    }
   ],
   "source": [
    "x = eliminasi_gauss_scaled_pivoting(A, b)"
   ]
  },
  {
   "cell_type": "code",
   "execution_count": null,
   "id": "f8fae57f-3427-40e4-a7f8-d63acabacc68",
   "metadata": {},
   "outputs": [],
   "source": []
  }
 ],
 "metadata": {
  "kernelspec": {
   "display_name": "Julia 1.9.2",
   "language": "julia",
   "name": "julia-1.9"
  },
  "language_info": {
   "file_extension": ".jl",
   "mimetype": "application/julia",
   "name": "julia",
   "version": "1.9.2"
  }
 },
 "nbformat": 4,
 "nbformat_minor": 5
}
